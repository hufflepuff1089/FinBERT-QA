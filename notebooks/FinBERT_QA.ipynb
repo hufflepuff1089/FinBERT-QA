{
  "nbformat": 4,
  "nbformat_minor": 0,
  "metadata": {
    "colab": {
      "name": "FinBERT-QA.ipynb",
      "provenance": [],
      "collapsed_sections": [
        "_5ElnCj99XDp",
        "U70_1Juv9wN4",
        "3ZLwjs5kZeLj",
        "YmEFBmayZpFG"
      ],
      "machine_shape": "hm"
    },
    "kernelspec": {
      "name": "python3",
      "display_name": "Python 3"
    },
    "accelerator": "GPU",
    "widgets": {
      "application/vnd.jupyter.widget-state+json": {
        "0691584f04fb49ea84346531f134ec4e": {
          "model_module": "@jupyter-widgets/controls",
          "model_name": "HBoxModel",
          "state": {
            "_view_name": "HBoxView",
            "_dom_classes": [],
            "_model_name": "HBoxModel",
            "_view_module": "@jupyter-widgets/controls",
            "_model_module_version": "1.5.0",
            "_view_count": null,
            "_view_module_version": "1.5.0",
            "box_style": "",
            "layout": "IPY_MODEL_02ae5d7d31054c2296cb7950c09216a9",
            "_model_module": "@jupyter-widgets/controls",
            "children": [
              "IPY_MODEL_245aa47342f64a3a87c7a7dd6529b0f2",
              "IPY_MODEL_1dea93bafea943e8abd9c1d21d2b4234"
            ]
          }
        },
        "02ae5d7d31054c2296cb7950c09216a9": {
          "model_module": "@jupyter-widgets/base",
          "model_name": "LayoutModel",
          "state": {
            "_view_name": "LayoutView",
            "grid_template_rows": null,
            "right": null,
            "justify_content": null,
            "_view_module": "@jupyter-widgets/base",
            "overflow": null,
            "_model_module_version": "1.2.0",
            "_view_count": null,
            "flex_flow": null,
            "width": null,
            "min_width": null,
            "border": null,
            "align_items": null,
            "bottom": null,
            "_model_module": "@jupyter-widgets/base",
            "top": null,
            "grid_column": null,
            "overflow_y": null,
            "overflow_x": null,
            "grid_auto_flow": null,
            "grid_area": null,
            "grid_template_columns": null,
            "flex": null,
            "_model_name": "LayoutModel",
            "justify_items": null,
            "grid_row": null,
            "max_height": null,
            "align_content": null,
            "visibility": null,
            "align_self": null,
            "height": null,
            "min_height": null,
            "padding": null,
            "grid_auto_rows": null,
            "grid_gap": null,
            "max_width": null,
            "order": null,
            "_view_module_version": "1.2.0",
            "grid_template_areas": null,
            "object_position": null,
            "object_fit": null,
            "grid_auto_columns": null,
            "margin": null,
            "display": null,
            "left": null
          }
        },
        "245aa47342f64a3a87c7a7dd6529b0f2": {
          "model_module": "@jupyter-widgets/controls",
          "model_name": "IntProgressModel",
          "state": {
            "_view_name": "ProgressView",
            "style": "IPY_MODEL_6fd8802a67994ac38f216e632364dbdd",
            "_dom_classes": [],
            "description": "Downloading: 100%",
            "_model_name": "IntProgressModel",
            "bar_style": "success",
            "max": 231508,
            "_view_module": "@jupyter-widgets/controls",
            "_model_module_version": "1.5.0",
            "value": 231508,
            "_view_count": null,
            "_view_module_version": "1.5.0",
            "orientation": "horizontal",
            "min": 0,
            "description_tooltip": null,
            "_model_module": "@jupyter-widgets/controls",
            "layout": "IPY_MODEL_9c432b8cb81046028189a85321ddb68c"
          }
        },
        "1dea93bafea943e8abd9c1d21d2b4234": {
          "model_module": "@jupyter-widgets/controls",
          "model_name": "HTMLModel",
          "state": {
            "_view_name": "HTMLView",
            "style": "IPY_MODEL_ef960bdb9bd94f488dd25125d8afdd6b",
            "_dom_classes": [],
            "description": "",
            "_model_name": "HTMLModel",
            "placeholder": "​",
            "_view_module": "@jupyter-widgets/controls",
            "_model_module_version": "1.5.0",
            "value": " 232k/232k [00:00&lt;00:00, 647kB/s]",
            "_view_count": null,
            "_view_module_version": "1.5.0",
            "description_tooltip": null,
            "_model_module": "@jupyter-widgets/controls",
            "layout": "IPY_MODEL_8e82cc66e00b49d78b716aa7b2742ccb"
          }
        },
        "6fd8802a67994ac38f216e632364dbdd": {
          "model_module": "@jupyter-widgets/controls",
          "model_name": "ProgressStyleModel",
          "state": {
            "_view_name": "StyleView",
            "_model_name": "ProgressStyleModel",
            "description_width": "initial",
            "_view_module": "@jupyter-widgets/base",
            "_model_module_version": "1.5.0",
            "_view_count": null,
            "_view_module_version": "1.2.0",
            "bar_color": null,
            "_model_module": "@jupyter-widgets/controls"
          }
        },
        "9c432b8cb81046028189a85321ddb68c": {
          "model_module": "@jupyter-widgets/base",
          "model_name": "LayoutModel",
          "state": {
            "_view_name": "LayoutView",
            "grid_template_rows": null,
            "right": null,
            "justify_content": null,
            "_view_module": "@jupyter-widgets/base",
            "overflow": null,
            "_model_module_version": "1.2.0",
            "_view_count": null,
            "flex_flow": null,
            "width": null,
            "min_width": null,
            "border": null,
            "align_items": null,
            "bottom": null,
            "_model_module": "@jupyter-widgets/base",
            "top": null,
            "grid_column": null,
            "overflow_y": null,
            "overflow_x": null,
            "grid_auto_flow": null,
            "grid_area": null,
            "grid_template_columns": null,
            "flex": null,
            "_model_name": "LayoutModel",
            "justify_items": null,
            "grid_row": null,
            "max_height": null,
            "align_content": null,
            "visibility": null,
            "align_self": null,
            "height": null,
            "min_height": null,
            "padding": null,
            "grid_auto_rows": null,
            "grid_gap": null,
            "max_width": null,
            "order": null,
            "_view_module_version": "1.2.0",
            "grid_template_areas": null,
            "object_position": null,
            "object_fit": null,
            "grid_auto_columns": null,
            "margin": null,
            "display": null,
            "left": null
          }
        },
        "ef960bdb9bd94f488dd25125d8afdd6b": {
          "model_module": "@jupyter-widgets/controls",
          "model_name": "DescriptionStyleModel",
          "state": {
            "_view_name": "StyleView",
            "_model_name": "DescriptionStyleModel",
            "description_width": "",
            "_view_module": "@jupyter-widgets/base",
            "_model_module_version": "1.5.0",
            "_view_count": null,
            "_view_module_version": "1.2.0",
            "_model_module": "@jupyter-widgets/controls"
          }
        },
        "8e82cc66e00b49d78b716aa7b2742ccb": {
          "model_module": "@jupyter-widgets/base",
          "model_name": "LayoutModel",
          "state": {
            "_view_name": "LayoutView",
            "grid_template_rows": null,
            "right": null,
            "justify_content": null,
            "_view_module": "@jupyter-widgets/base",
            "overflow": null,
            "_model_module_version": "1.2.0",
            "_view_count": null,
            "flex_flow": null,
            "width": null,
            "min_width": null,
            "border": null,
            "align_items": null,
            "bottom": null,
            "_model_module": "@jupyter-widgets/base",
            "top": null,
            "grid_column": null,
            "overflow_y": null,
            "overflow_x": null,
            "grid_auto_flow": null,
            "grid_area": null,
            "grid_template_columns": null,
            "flex": null,
            "_model_name": "LayoutModel",
            "justify_items": null,
            "grid_row": null,
            "max_height": null,
            "align_content": null,
            "visibility": null,
            "align_self": null,
            "height": null,
            "min_height": null,
            "padding": null,
            "grid_auto_rows": null,
            "grid_gap": null,
            "max_width": null,
            "order": null,
            "_view_module_version": "1.2.0",
            "grid_template_areas": null,
            "object_position": null,
            "object_fit": null,
            "grid_auto_columns": null,
            "margin": null,
            "display": null,
            "left": null
          }
        }
      }
    }
  },
  "cells": [
    {
      "cell_type": "code",
      "metadata": {
        "id": "crBA7JjXT9MM",
        "colab_type": "code",
        "colab": {}
      },
      "source": [
        "!pip install transformers\n",
        "!pip install pyserini==0.8.1.0"
      ],
      "execution_count": 0,
      "outputs": []
    },
    {
      "cell_type": "code",
      "metadata": {
        "id": "aTqNRzy8T-It",
        "colab_type": "code",
        "outputId": "eacb8fa8-3f4b-4f32-9157-0267014c8eac",
        "colab": {
          "base_uri": "https://localhost:8080/",
          "height": 126
        }
      },
      "source": [
        "from tqdm import tqdm\n",
        "import numpy as np\n",
        "import random\n",
        "import torch\n",
        "import json\n",
        "import os\n",
        "from torch.nn import CrossEntropyLoss\n",
        "from torch.utils.data import TensorDataset, DataLoader, RandomSampler, SequentialSampler\n",
        "from torch.nn.functional import softmax\n",
        "from transformers import BertTokenizer, BertForSequenceClassification, AdamW, get_linear_schedule_with_warmup, BertConfig\n",
        "from pyserini.search import pysearch\n",
        "\n",
        "os.environ[\"JAVA_HOME\"] = \"/usr/lib/jvm/java-11-openjdk-amd64\"\n",
        "\n",
        "# Setting device on GPU if available\n",
        "device = torch.device('cuda' if torch.cuda.is_available() else 'cpu')\n",
        "print('Using device:', device)\n",
        "print()\n",
        "\n",
        "if device.type == 'cuda':\n",
        "    print(torch.cuda.get_device_name(0))\n",
        "    print('Memory Usage:')\n",
        "    print('Allocated:', round(torch.cuda.memory_allocated(0)/1024**3,1), 'GB')\n",
        "    print('Cached:   ', round(torch.cuda.memory_cached(0)/1024**3,1), 'GB')"
      ],
      "execution_count": 3,
      "outputs": [
        {
          "output_type": "stream",
          "text": [
            "Using device: cuda\n",
            "\n",
            "Tesla K80\n",
            "Memory Usage:\n",
            "Allocated: 0.0 GB\n",
            "Cached:    0.0 GB\n"
          ],
          "name": "stdout"
        }
      ]
    },
    {
      "cell_type": "code",
      "metadata": {
        "id": "hz6OttiShXhj",
        "colab_type": "code",
        "colab": {}
      },
      "source": [
        "# Download FiQA data and models\n",
        "!wget https://www.dropbox.com/s/0qtwsdp67zcgcqw/fiqa.zip?dl=1\n",
        "!unzip fiqa.zip?dl=1"
      ],
      "execution_count": 0,
      "outputs": []
    },
    {
      "cell_type": "code",
      "metadata": {
        "id": "yxMzCR0TzKul",
        "colab_type": "code",
        "colab": {}
      },
      "source": [
        "config = {'max_seq_len': 512,\n",
        "          'batch_size': 16,\n",
        "          'learning_rate': 3e-6,\n",
        "          'weight_decay': 0.01,\n",
        "          'n_epochs': 2,\n",
        "          'num_warmup_steps': 10000}"
      ],
      "execution_count": 0,
      "outputs": []
    },
    {
      "cell_type": "code",
      "metadata": {
        "id": "758ZQWNpo_bs",
        "colab_type": "code",
        "colab": {}
      },
      "source": [
        "import pickle\n",
        "\n",
        "def load_pickle(path):\n",
        "    \"\"\"Load pickle file.\n",
        "    ----------\n",
        "    Arguments:\n",
        "        path: str file path\n",
        "    \"\"\"\n",
        "    with open(path, 'rb') as f:\n",
        "        return pickle.load(f)"
      ],
      "execution_count": 0,
      "outputs": []
    },
    {
      "cell_type": "code",
      "metadata": {
        "id": "lB-cqergndhX",
        "colab_type": "code",
        "outputId": "784be130-f1d2-43ec-f64d-49f61730036f",
        "colab": {
          "base_uri": "https://localhost:8080/",
          "height": 72
        }
      },
      "source": [
        "# Dictionary mapping docid and qid to raw text\n",
        "docid_to_text = load_pickle('fiqa/data/docid_to_text.pickle')\n",
        "qid_to_text = load_pickle('fiqa/data/qid_to_text.pickle')\n",
        "\n",
        "# List of lists:\n",
        "# Each element is a list contraining [qid, list of pos docid, list of candidate docid]\n",
        "train_set = load_pickle('fiqa/data/train_set_50.pickle')\n",
        "valid_set = load_pickle('fiqa/data/valid_set_50.pickle')\n",
        "test_set = load_pickle('fiqa/data/test_set_50.pickle')\n",
        "\n",
        "# Labels\n",
        "labels = load_pickle('fiqa/data/labels.pickle')\n",
        "\n",
        "print(\"Number of questions in the training set: {}\".format(len(train_set)))\n",
        "print(\"Number of questions in the validation set: {}\".format(len(valid_set)))\n",
        "print(\"Number of questions in the test set: {}\".format(len(test_set)))"
      ],
      "execution_count": 5,
      "outputs": [
        {
          "output_type": "stream",
          "text": [
            "Number of questions in the training set: 5676\n",
            "Number of questions in the validation set: 631\n",
            "Number of questions in the test set: 333\n"
          ],
          "name": "stdout"
        }
      ]
    },
    {
      "cell_type": "code",
      "metadata": {
        "id": "VpL9adVEhIYN",
        "colab_type": "code",
        "outputId": "6d723ae4-e229-433d-a38e-b16f2bd95aa0",
        "colab": {
          "base_uri": "https://localhost:8080/",
          "height": 104,
          "referenced_widgets": [
            "0691584f04fb49ea84346531f134ec4e",
            "02ae5d7d31054c2296cb7950c09216a9",
            "245aa47342f64a3a87c7a7dd6529b0f2",
            "1dea93bafea943e8abd9c1d21d2b4234",
            "6fd8802a67994ac38f216e632364dbdd",
            "9c432b8cb81046028189a85321ddb68c",
            "ef960bdb9bd94f488dd25125d8afdd6b",
            "8e82cc66e00b49d78b716aa7b2742ccb"
          ]
        }
      },
      "source": [
        "# Load the BERT tokenizer.\n",
        "print('\\nLoading BERT tokenizer...')\n",
        "tokenizer = BertTokenizer.from_pretrained('bert-base-uncased', do_lower_case=True)"
      ],
      "execution_count": 7,
      "outputs": [
        {
          "output_type": "stream",
          "text": [
            "\n",
            "Loading BERT tokenizer...\n"
          ],
          "name": "stdout"
        },
        {
          "output_type": "display_data",
          "data": {
            "application/vnd.jupyter.widget-view+json": {
              "model_id": "0691584f04fb49ea84346531f134ec4e",
              "version_minor": 0,
              "version_major": 2
            },
            "text/plain": [
              "HBox(children=(IntProgress(value=0, description='Downloading', max=231508, style=ProgressStyle(description_wid…"
            ]
          },
          "metadata": {
            "tags": []
          }
        },
        {
          "output_type": "stream",
          "text": [
            "\n"
          ],
          "name": "stdout"
        }
      ]
    },
    {
      "cell_type": "markdown",
      "metadata": {
        "colab_type": "text",
        "id": "_5ElnCj99XDp"
      },
      "source": [
        "## **Prepare data**"
      ]
    },
    {
      "cell_type": "code",
      "metadata": {
        "id": "VxvRLo_vnDj9",
        "colab_type": "code",
        "colab": {}
      },
      "source": [
        "def get_input_data(dataset, max_seq_len):\n",
        "    \"\"\"Creates input parameters for training and validation.\n",
        "\n",
        "    Returns:\n",
        "        input_ids: List of lists\n",
        "                Each element contains a list of padded/truncated numericalized\n",
        "                tokens of the sequences including [CLS] and [SEP] tokens\n",
        "                e.g. [[101, 2054, 2003, 102, 2449, 1029, 102], ...]\n",
        "        token_type_ids: List of lists\n",
        "                Each element contains a list of segment token indices to\n",
        "                indicate first (question) and second (answer) parts of the inputs.\n",
        "                0 corresponds to a question token, 1 corresponds an answer token\n",
        "                e.g. [[0, 0, 0, 0, 1, 1, 1], ...]\n",
        "        att_masks: List of lists\n",
        "                Each element contains a list of mask values to avoid\n",
        "                performing attention on padding token indices.\n",
        "                1 for tokens that are NOT MASKED, 0 for MASKED tokens.\n",
        "                e.g. [[1, 1, 1, 1, 1, 1, 1], ...]\n",
        "        labels: List of 1's and 0's incidating relevacy of answer\n",
        "    -----------------\n",
        "    Arguements:\n",
        "        dataset: List of lists in the form of [qid, [pos ans], [ans cands]]\n",
        "    \"\"\"\n",
        "    input_ids = []\n",
        "    token_type_ids = []\n",
        "    att_masks = []\n",
        "    labels = []\n",
        "\n",
        "    for i, seq in enumerate(tqdm(dataset)):\n",
        "        qid, ans_labels, cands = seq[0], seq[1], seq[2]\n",
        "        # Map question id to text\n",
        "        q_text = qid_to_text[qid]\n",
        "        # For each answer in the candidates\n",
        "        for docid in cands:\n",
        "            # Map the docid to text\n",
        "            ans_text = docid_to_text[docid]\n",
        "            # Encode the sequence using BERT tokenizer\n",
        "            encoded_seq = tokenizer.encode_plus(q_text, ans_text,\n",
        "                                                max_length=max_seq_len,\n",
        "                                                pad_to_max_length=True,\n",
        "                                                return_token_type_ids=True,\n",
        "                                                return_attention_mask = True)\n",
        "            # Get parameters\n",
        "            input_id = encoded_seq['input_ids']\n",
        "            token_type_id = encoded_seq['token_type_ids']\n",
        "            att_mask = encoded_seq['attention_mask']\n",
        "\n",
        "            # If an answer is in the list of relevant answers assign\n",
        "            # positive label\n",
        "            if docid in ans_labels:\n",
        "                label = 1\n",
        "            else:\n",
        "                label = 0\n",
        "\n",
        "            # Each parameter list has the length of the max_seq_len\n",
        "            assert len(input_id) == max_seq_len, \"Input id dimension incorrect!\"\n",
        "            assert len(token_type_id) == max_seq_len, \"Token type id dimension incorrect!\"\n",
        "            assert len(att_mask) == max_seq_len, \"Attention mask dimension incorrect!\"\n",
        "\n",
        "            input_ids.append(input_id)\n",
        "            token_type_ids.append(token_type_id)\n",
        "            att_masks.append(att_mask)\n",
        "            labels.append(label)\n",
        "\n",
        "    return input_ids, token_type_ids, att_masks, labels"
      ],
      "execution_count": 0,
      "outputs": []
    },
    {
      "cell_type": "code",
      "metadata": {
        "id": "aJKHcED_l_QN",
        "colab_type": "code",
        "colab": {}
      },
      "source": [
        "def get_dataloader(dataset, batch_size):\n",
        "    \"\"\"Creates train and validation DataLoaders with input_ids,\n",
        "    token_type_ids, att_masks, and labels\n",
        "\n",
        "    Returns:\n",
        "        train_dataloader: DataLoader object\n",
        "        validation_dataloader: DataLoader object\n",
        "\n",
        "    -----------------\n",
        "    Arguements:\n",
        "        dataset: List of lists in the form of [qid, [pos ans], [ans cands]]\n",
        "        batch_size: int\n",
        "    \"\"\"\n",
        "    input_id, token_type_id, \\\n",
        "    att_mask, label = get_input_data(dataset, config['max_seq_len'])\n",
        "\n",
        "    # Convert all inputs to torch tensors\n",
        "    input_ids = torch.tensor(input_id)\n",
        "    token_type_ids = torch.tensor(token_type_id)\n",
        "    att_masks = torch.tensor(att_mask)\n",
        "    labels = torch.tensor(label)\n",
        "\n",
        "    # Create the DataLoader for our training set.\n",
        "    data = TensorDataset(input_ids, token_type_ids, att_masks, labels)\n",
        "    sampler = RandomSampler(data)\n",
        "    dataloader = DataLoader(data, sampler=sampler, batch_size=batch_size)\n",
        "    \n",
        "    return dataloader"
      ],
      "execution_count": 0,
      "outputs": []
    },
    {
      "cell_type": "code",
      "metadata": {
        "id": "OUEW5GC5y6r4",
        "colab_type": "code",
        "colab": {}
      },
      "source": [
        "# Get dataloaders\n",
        "train_dataloader = get_dataloader(train_set, config['batch_size'])\n",
        "validation_dataloader = get_dataloader(valid_set, config['batch_size'])\n",
        "\n",
        "print(\"Size of the DataLoader for the training set: {}\".format(len(train_dataloader)))\n",
        "print(\"Size of the DataLoader for the validation set: {}\".format(len(validation_dataloader)))"
      ],
      "execution_count": 0,
      "outputs": []
    },
    {
      "cell_type": "markdown",
      "metadata": {
        "colab_type": "text",
        "id": "U70_1Juv9wN4"
      },
      "source": [
        "## **Model**"
      ]
    },
    {
      "cell_type": "code",
      "metadata": {
        "id": "5AXZjwPO90ok",
        "colab_type": "code",
        "colab": {}
      },
      "source": [
        "# Load BertForSequenceClassification - pretrained BERT model \n",
        "# with a single linear classification layer on top\n",
        "\n",
        "model_path = \"fiqa/model/bert-qa\"\n",
        "model = BertForSequenceClassification.from_pretrained(model_path, cache_dir=None, num_labels=2)\n",
        "\n",
        "model.to(device)"
      ],
      "execution_count": 0,
      "outputs": []
    },
    {
      "cell_type": "markdown",
      "metadata": {
        "id": "3ZLwjs5kZeLj",
        "colab_type": "text"
      },
      "source": [
        "## **Training/Validation methods**"
      ]
    },
    {
      "cell_type": "code",
      "metadata": {
        "id": "RpDWdi2S7_2W",
        "colab_type": "code",
        "colab": {}
      },
      "source": [
        "def get_accuracy(preds, labels):\n",
        "    \"\"\"Compute the accuracy of binary predictions.\n",
        "\n",
        "    Returns:\n",
        "        accuracy: float\n",
        "    -----------------\n",
        "    Arguments:\n",
        "        preds: Numpy list with two columns of probabilities for each label\n",
        "        labels: List of labels\n",
        "    \"\"\"\n",
        "    # Get the label (column) with the higher probability\n",
        "    predictions = np.argmax(preds, axis=1).flatten()\n",
        "    labels = labels.flatten()\n",
        "    # Compute accuracy\n",
        "    accuracy = np.sum(predictions == labels) / len(labels)\n",
        "\n",
        "    return accuracy"
      ],
      "execution_count": 0,
      "outputs": []
    },
    {
      "cell_type": "code",
      "metadata": {
        "id": "ivNsu5AN8bhM",
        "colab_type": "code",
        "colab": {}
      },
      "source": [
        "def train(model, train_dataloader, optimizer, scheduler):\n",
        "    \"\"\"Trains the model and returns the average loss and accuracy.\n",
        "\n",
        "    Returns:\n",
        "        avg_loss: Float\n",
        "        avg_acc: Float\n",
        "    ----------\n",
        "    Arguements:\n",
        "        model: Torch model\n",
        "        train_dataloader: DataLoader object\n",
        "        optimizer: Optimizer object\n",
        "        scheduler: Scheduler object\n",
        "    \"\"\"\n",
        "    # Cumulated Training loss and accuracy\n",
        "    total_loss = 0\n",
        "    train_accuracy = 0\n",
        "    # Track the number of steps\n",
        "    num_steps = 0\n",
        "    # Set model in train mode\n",
        "    model.train()\n",
        "    # For each batch of training data\n",
        "    for step, batch in enumerate(tqdm(train_dataloader)):\n",
        "        # Get tensors and move to gpu\n",
        "        # batch contains four PyTorch tensors:\n",
        "        #   [0]: input ids\n",
        "        #   [1]: token_type_ids\n",
        "        #   [2]: attention masks\n",
        "        #   [3]: labels\n",
        "        b_input_ids = batch[0].to(device)\n",
        "        b_token_type_ids = batch[1].to(device)\n",
        "        b_input_mask = batch[2].to(device)\n",
        "        b_labels = batch[3].to(device)\n",
        "\n",
        "        # Zero the gradients\n",
        "        model.zero_grad()\n",
        "        # Forward pass: the model will return the loss and the logits\n",
        "        outputs = model(b_input_ids,\n",
        "                        token_type_ids = b_token_type_ids,\n",
        "                        attention_mask = b_input_mask,\n",
        "                        labels = b_labels)\n",
        "\n",
        "        # Get loss and predictions\n",
        "        loss = outputs[0]\n",
        "        logits = outputs[1]\n",
        "        # Move logits and labels to CPU\n",
        "        logits = logits.detach().cpu().numpy()\n",
        "        label_ids = b_labels.to('cpu').numpy()\n",
        "\n",
        "        # Calculate the accuracy for a batch\n",
        "        tmp_accuracy = self.get_accuracy(logits, label_ids)\n",
        "\n",
        "        # Accumulate the total accuracy.\n",
        "        train_accuracy += tmp_accuracy\n",
        "\n",
        "        # Track the number of batches\n",
        "        num_steps += 1\n",
        "\n",
        "        # Accumulate the training loss over all of the batches\n",
        "        total_loss += loss.item()\n",
        "\n",
        "        # Perform a backward pass to calculate the gradients\n",
        "        loss.backward()\n",
        "\n",
        "        # Clip the norm of the gradients to 1.0.\n",
        "        # This is to help prevent the \"exploding gradients\" problem\n",
        "        torch.nn.utils.clip_grad_norm_(model.parameters(), 1.0)\n",
        "\n",
        "        # Update parameters and take a step using the computed gradient\n",
        "        optimizer.step()\n",
        "\n",
        "        # Update scheduler\n",
        "        scheduler.step()\n",
        "\n",
        "    # Calculate the average loss over the training data.\n",
        "    avg_loss = total_loss / len(train_dataloader)\n",
        "    avg_acc = train_accuracy/num_steps\n",
        "\n",
        "    return avg_loss, avg_acc"
      ],
      "execution_count": 0,
      "outputs": []
    },
    {
      "cell_type": "code",
      "metadata": {
        "id": "t9-Neo9v9C-E",
        "colab_type": "code",
        "colab": {}
      },
      "source": [
        "def validate(model, validation_dataloader):\n",
        "    \"\"\"Validates the model and returns the average loss and accuracy.\n",
        "\n",
        "    Returns:\n",
        "        avg_loss: Float\n",
        "        avg_acc: Float\n",
        "    ----------\n",
        "    Arguements:\n",
        "        model: Torch model\n",
        "        validation_dataloader: DataLoader object\n",
        "    \"\"\"\n",
        "    # Set model to evaluation mode\n",
        "    model.eval()\n",
        "    # Cumulated Training loss and accuracy\n",
        "    total_loss = 0\n",
        "    eval_accuracy = 0\n",
        "    # Track the number of steps\n",
        "    num_steps = 0\n",
        "\n",
        "    # For each batch of the validation data\n",
        "    for batch in tqdm(validation_dataloader):\n",
        "        # Move tensors from batch to GPU\n",
        "        batch = tuple(t.to(device) for t in batch)\n",
        "        # Unpack the inputs from the dataloader\n",
        "        b_input_ids, b_token_type_ids, b_input_masks, b_labels = batch\n",
        "        # Don't to compute or store gradients\n",
        "        with torch.no_grad():\n",
        "            outputs = model(b_input_ids,\n",
        "                            token_type_ids = b_token_type_ids,\n",
        "                            attention_mask = b_input_masks,\n",
        "                            labels= b_labels)\n",
        "        # Get loss and logits\n",
        "        loss = outputs[0]\n",
        "        logits = outputs[1]\n",
        "        # Move logits and labels to CPU\n",
        "        logits = logits.detach().cpu().numpy()\n",
        "        label_ids = b_labels.to('cpu').numpy()\n",
        "\n",
        "        # Calculate the accuracy for this batch of test sentences.\n",
        "        tmp_eval_accuracy = self.get_accuracy(logits, label_ids)\n",
        "\n",
        "        # Accumulate the total accuracy.\n",
        "        eval_accuracy += tmp_eval_accuracy\n",
        "\n",
        "        # Track the number of steps\n",
        "        num_steps += 1\n",
        "\n",
        "        total_loss += loss.item()\n",
        "\n",
        "    # Calculate loss and accuracy\n",
        "    avg_loss = total_loss / len(validation_dataloader)\n",
        "    avg_acc = eval_accuracy/num_steps\n",
        "\n",
        "    return avg_loss, avg_acc"
      ],
      "execution_count": 0,
      "outputs": []
    },
    {
      "cell_type": "code",
      "metadata": {
        "id": "z8FuNJrF9MF7",
        "colab_type": "code",
        "colab": {}
      },
      "source": [
        ""
      ],
      "execution_count": 0,
      "outputs": []
    },
    {
      "cell_type": "markdown",
      "metadata": {
        "colab_type": "text",
        "id": "YmEFBmayZpFG"
      },
      "source": [
        "## **Fine-tune FinBERT-QA**"
      ]
    },
    {
      "cell_type": "code",
      "metadata": {
        "id": "CINMiZkJ-j9R",
        "colab_type": "code",
        "colab": {}
      },
      "source": [
        "optimizer = AdamW(model.parameters(), \n",
        "                  lr = config['learning_rate'], \n",
        "                  weight_decay = config['weight_decay'])\n",
        "\n",
        "n_epochs = config['n_epochs']\n",
        "\n",
        "\n",
        "# Total number of training steps is number of batches * number of epochs.\n",
        "total_steps = len(train_dataloader) * n_epochs\n",
        "\n",
        "# Create the learning rate scheduler.\n",
        "scheduler = get_linear_schedule_with_warmup(optimizer, \n",
        "                                            num_warmup_steps = config['num_warmup_steps'],\n",
        "                                            num_training_steps = total_steps)"
      ],
      "execution_count": 0,
      "outputs": []
    },
    {
      "cell_type": "code",
      "metadata": {
        "id": "2Q9TZ6b__Ubq",
        "colab_type": "code",
        "colab": {}
      },
      "source": [
        "#Train and validate the model and print the average loss and accuracy.\n",
        "\n",
        "# Lowest validation lost\n",
        "best_valid_loss = float('inf')\n",
        "\n",
        "print(\"\\nTraining model...\\n\")\n",
        "for epoch in range(n_epochs):\n",
        "    # Evaluate training loss\n",
        "    train_loss, train_acc = train(model, train_dataloader, optimizer, scheduler)\n",
        "    # Evaluate validation loss\n",
        "    valid_loss, valid_acc = validate(model, validation_dataloader)\n",
        "    # At each epoch, if the validation loss is the best\n",
        "    if valid_loss < best_valid_loss:\n",
        "        best_valid_loss = valid_loss\n",
        "        torch.save(self.model.state_dict(), 'fiqa/model/' + \\\n",
        "        str(epoch+1)+ '_finbert-qa.pt')\n",
        "\n",
        "    print(\"\\n\\n Epoch {}:\".format(epoch+1))\n",
        "    print(\"\\t Train Loss: {} | Train Accuracy: {}%\".format(round(train_loss, 3), round(train_acc*100, 2)))\n",
        "    print(\"\\t Validation Loss: {} | Validation Accuracy: {}%\\n\".format(round(valid_loss, 3), round(valid_acc*100, 2)))"
      ],
      "execution_count": 0,
      "outputs": []
    },
    {
      "cell_type": "markdown",
      "metadata": {
        "colab_type": "text",
        "id": "4lcUemVFCVHN"
      },
      "source": [
        "## **Evaluate**"
      ]
    },
    {
      "cell_type": "code",
      "metadata": {
        "id": "nS4qwt6uAe9I",
        "colab_type": "code",
        "colab": {}
      },
      "source": [
        "from fiqa.evaluate import *\n",
        "\n",
        "def get_rank(model, test_set, max_seq_len):\n",
        "    \"\"\"Re-ranks the candidates answers for each question.\n",
        "\n",
        "    Returns:\n",
        "        qid_pred_rank: Dictionary\n",
        "            key - qid\n",
        "            value - list of re-ranked candidates\n",
        "    -------------------\n",
        "    Arguments:\n",
        "        model - PyTorch model\n",
        "    \"\"\"\n",
        "    # Initiate empty dictionary\n",
        "    qid_pred_rank = {}\n",
        "    # Set model to evaluation mode\n",
        "    model.eval()\n",
        "    # For each element in the test set\n",
        "    for i, seq in enumerate(tqdm(test_set)):\n",
        "        # question id, list of rel answers, list of candidates\n",
        "        qid, label, cands = seq[0], seq[1], seq[2]\n",
        "        # Map question id to text\n",
        "        q_text = qid_to_text[qid]\n",
        "        # Convert list to numpy array\n",
        "        cands_id = np.array(cands)\n",
        "        # Empty list for the probability scores of relevancy\n",
        "        scores = []\n",
        "\n",
        "        # For each answer in the candidates\n",
        "        for docid in cands:\n",
        "            # Map the docid to text\n",
        "            ans_text = docid_to_text[docid]\n",
        "            # Create inputs for the model\n",
        "            encoded_seq = tokenizer.encode_plus(q_text, ans_text,\n",
        "                                            max_length=max_seq_len,\n",
        "                                            pad_to_max_length=True,\n",
        "                                            return_token_type_ids=True,\n",
        "                                            return_attention_mask = True)\n",
        "\n",
        "            # Numericalized, padded, clipped seq with special tokens\n",
        "            input_ids = torch.tensor([encoded_seq['input_ids']]).to(device)\n",
        "            # Specify question seq and answer seq\n",
        "            token_type_ids = torch.tensor([encoded_seq['token_type_ids']]).to(device)\n",
        "            # Sepecify which position is part of the seq which is padded\n",
        "            att_mask = torch.tensor([encoded_seq['attention_mask']]).to(device)\n",
        "\n",
        "            # Don't calculate gradients\n",
        "            with torch.no_grad():\n",
        "            # Forward pass, calculate logit predictions for each QA pair\n",
        "                outputs = model(input_ids,\n",
        "                                token_type_ids=token_type_ids,\n",
        "                                attention_mask=att_mask)\n",
        "            # Get the predictions\n",
        "            logits = outputs[0]\n",
        "            # Apply activation function\n",
        "            pred = softmax(logits, dim=1)\n",
        "            # Move logits and labels to CPU\n",
        "            pred = pred.detach().cpu().numpy()\n",
        "            # Append relevant scores to list (where label = 1)\n",
        "            scores.append(pred[:,1][0])\n",
        "        # Get the indices of the sorted similarity scores\n",
        "        sorted_index = np.argsort(scores)[::-1]\n",
        "        # Get the list of docid from the sorted indices\n",
        "        ranked_ans = cands_id[sorted_index]\n",
        "        # Dict - key: qid, value: ranked list of docids\n",
        "        qid_pred_rank[qid] = ranked_ans\n",
        "\n",
        "    return qid_pred_rank"
      ],
      "execution_count": 0,
      "outputs": []
    },
    {
      "cell_type": "code",
      "metadata": {
        "id": "QnuLcNmXBx9u",
        "colab_type": "code",
        "colab": {}
      },
      "source": [
        "trained_model_path = \"fiqa/model/finbert-qa/2_finbert-qa-50_512_16_3e6.pt\"\n",
        "# Load model\n",
        "model.load_state_dict(torch.load(trained_model_path), strict=False)\n",
        "\n",
        "# Get rank\n",
        "qid_pred_rank = get_rank(model, test_set, config['max_seq_len'])\n",
        "\n",
        "# Evaluate\n",
        "MRR, average_ndcg, precision, rank_pos = evaluate(qid_pred_rank, labels, k)\n",
        "\n",
        "print(\"Average nDCG@{0} for {1} queries: {2:.3f}\".format(k, num_q, average_ndcg))\n",
        "print(\"MRR@{0} for {1} queries: {2:.3f}\".format(k, num_q, MRR))\n",
        "print(\"Average Precision@1 for {0} queries: {1:.3f}\".format(num_q, precision))"
      ],
      "execution_count": 0,
      "outputs": []
    },
    {
      "cell_type": "markdown",
      "metadata": {
        "colab_type": "text",
        "id": "iLTS16TrDNOv"
      },
      "source": [
        "## **Predict**"
      ]
    },
    {
      "cell_type": "code",
      "metadata": {
        "id": "3hzi_sPODb0g",
        "colab_type": "code",
        "colab": {}
      },
      "source": [
        "def predict(model, q_text, cands, max_seq_len):\n",
        "    \"\"\"Re-ranks the candidates answers for each question.\n",
        "\n",
        "    Returns:\n",
        "        ranked_ans: list of re-ranked candidate docids\n",
        "        sorted_scores: list of relevancy scores of the answers\n",
        "    -------------------\n",
        "    Arguments:\n",
        "        model - PyTorch model\n",
        "        q_text - str - query\n",
        "        cands -List of retrieved candidate docids\n",
        "    \"\"\"\n",
        "    model.eval()\n",
        "    # Convert list to numpy array\n",
        "    cands_id = np.array(cands)\n",
        "    # Empty list for the probability scores of relevancy\n",
        "    scores = []\n",
        "    # For each answer in the candidates\n",
        "    for docid in cands:\n",
        "        # Map the docid to text\n",
        "        ans_text = docid_to_text[docid]\n",
        "        # Create inputs for the model\n",
        "        encoded_seq = tokenizer.encode_plus(q_text, ans_text,\n",
        "                                            max_length=max_seq_len,\n",
        "                                            pad_to_max_length=True,\n",
        "                                            return_token_type_ids=True,\n",
        "                                            return_attention_mask = True)\n",
        "\n",
        "        # Numericalized, padded, clipped seq with special tokens\n",
        "        input_ids = torch.tensor([encoded_seq['input_ids']]).to(device)\n",
        "        # Specify question seq and answer seq\n",
        "        token_type_ids = torch.tensor([encoded_seq['token_type_ids']]).to(device)\n",
        "        # Sepecify which position is part of the seq which is padded\n",
        "        att_mask = torch.tensor([encoded_seq['attention_mask']]).to(device)\n",
        "        # Don't calculate gradients\n",
        "        with torch.no_grad():\n",
        "            # Forward pass, calculate logit predictions for each QA pair\n",
        "            outputs = model(input_ids, token_type_ids=token_type_ids, attention_mask=att_mask)\n",
        "        # Get the predictions\n",
        "        logits = outputs[0]\n",
        "        # Apply activation function\n",
        "        pred = softmax(logits, dim=1)\n",
        "        # Move logits and labels to CPU\n",
        "        pred = pred.detach().cpu().numpy()\n",
        "        # Append relevant scores to list (where label = 1)\n",
        "        scores.append(pred[:,1][0])\n",
        "        # Get the indices of the sorted similarity scores\n",
        "        sorted_index = np.argsort(scores)[::-1]\n",
        "        # Get the list of docid from the sorted indices\n",
        "        ranked_ans = list(cands_id[sorted_index])\n",
        "        sorted_scores = list(np.around(sorted(scores, reverse=True),decimals=3))\n",
        "\n",
        "    return ranked_ans, sorted_scores\n",
        "\n",
        "def get_rel(labels, cands):\n",
        "    \"\"\"Get relevant positions of the hits.\n",
        "\n",
        "    Returns: List of 0's and 1's incidating a relevant answer\n",
        "    -------------------\n",
        "    Arguments:\n",
        "        labels: List of relevant docids\n",
        "        cands: List of candidate docids\n",
        "    \"\"\"\n",
        "    rel = []\n",
        "    for cand in cands:\n",
        "        if cand in labels:\n",
        "            rel.append(1)\n",
        "        else:\n",
        "            rel.append(0)\n",
        "\n",
        "    return rel"
      ],
      "execution_count": 0,
      "outputs": []
    },
    {
      "cell_type": "code",
      "metadata": {
        "id": "CkCnb0D1DOX7",
        "colab_type": "code",
        "colab": {}
      },
      "source": [
        "FIQA_INDEX = \"fiqa/lucene-index-fiqa\"\n",
        "\n",
        "searcher = pysearch.SimpleSearcher(FIQA_INDEX)"
      ],
      "execution_count": 0,
      "outputs": []
    },
    {
      "cell_type": "code",
      "metadata": {
        "id": "wCT6vXZNEPdh",
        "colab_type": "code",
        "colab": {}
      },
      "source": [
        "seq = test_set[91]\n",
        "qid, label, cands = seq[0], seq[1], seq[2]\n",
        "q_text = qid_to_text[qid]\n",
        "query = q_text\n",
        "print(query)\n",
        "# query = \"Which investments are the best?\""
      ],
      "execution_count": 0,
      "outputs": []
    },
    {
      "cell_type": "code",
      "metadata": {
        "id": "18uG7jF2FPw0",
        "colab_type": "code",
        "colab": {}
      },
      "source": [
        "hits = searcher.search(query, k=50)\n",
        "self.cands = []\n",
        "\n",
        "for i in range(0, len(hits)):\n",
        "    cands.append(int(hits[i].docid))\n",
        "\n",
        "trained_model_path = \"fiqa/model/finbert-qa/2_finbert-qa-50_512_16_3e6.pt\"\n",
        "# Load model\n",
        "model.load_state_dict(torch.load(trained_model_path), strict=False)\n",
        "\n",
        "rank, scores = predict(model, query, cands)"
      ],
      "execution_count": 0,
      "outputs": []
    },
    {
      "cell_type": "code",
      "metadata": {
        "id": "9GbSeLovF5SU",
        "colab_type": "code",
        "colab": {}
      },
      "source": [
        "k = 5\n",
        "\n",
        "print(\"Question: \\n\\t{}\\n\".format(query))\n",
        "print(\"Top-{} Answers: \\n\".format(k))\n",
        "for i in range(0, 10):\n",
        "    print(\"{}.\\t{}\\n\".format(i+1, docid_to_text[rank[i]]))"
      ],
      "execution_count": 0,
      "outputs": []
    },
    {
      "cell_type": "code",
      "metadata": {
        "id": "M9-ROSZOEZ07",
        "colab_type": "code",
        "colab": {}
      },
      "source": [
        "cand_rel = get_rel(label, cands)\n",
        "print(\"Retriever: \\n\\t Ranking: {}\\n\\n\\t {}\".format(cands[:10], cand_rel[:10]))\n",
        "pred_rel = get_rel(label, rank)\n",
        "print(\"Re-ranker: \\n\\t Ranking: {}\\n\\n\\t Scores: {}\\n\\n\\t {}\".format(rank[:10], scores[:10], pred_rel[:10]))\n",
        "print(\"Label: \\n\\t{}\".format(label))"
      ],
      "execution_count": 0,
      "outputs": []
    },
    {
      "cell_type": "code",
      "metadata": {
        "id": "xPX9XA9tFkzR",
        "colab_type": "code",
        "colab": {}
      },
      "source": [
        "print(\"Question: \\n\\t{}\\n\".format(query))\n",
        "print(\"Answer Re-ranker\\n\")\n",
        "print(\"Answer: \\n\\t{}\\n\".format(docid_to_text[rank[0]]))\n",
        "print(\"Answer Retriever\\n\")\n",
        "print(\"Answer: \\n\\t{}\\n\".format(docid_to_text[cands[0]]))\n",
        "print(\"label: \\n\\t{}\".format(docid_to_text[label[1]]))"
      ],
      "execution_count": 0,
      "outputs": []
    }
  ]
}