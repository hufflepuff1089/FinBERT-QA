{
 "cells": [
  {
   "cell_type": "code",
   "execution_count": 27,
   "metadata": {},
   "outputs": [],
   "source": [
    "import pandas as pd\n",
    "from statistics import mean "
   ]
  },
  {
   "cell_type": "code",
   "execution_count": 12,
   "metadata": {},
   "outputs": [
    {
     "data": {
      "text/html": [
       "<div>\n",
       "<style scoped>\n",
       "    .dataframe tbody tr th:only-of-type {\n",
       "        vertical-align: middle;\n",
       "    }\n",
       "\n",
       "    .dataframe tbody tr th {\n",
       "        vertical-align: top;\n",
       "    }\n",
       "\n",
       "    .dataframe thead th {\n",
       "        text-align: right;\n",
       "    }\n",
       "</style>\n",
       "<table border=\"1\" class=\"dataframe\">\n",
       "  <thead>\n",
       "    <tr style=\"text-align: right;\">\n",
       "      <th></th>\n",
       "      <th>qid</th>\n",
       "      <th>docid</th>\n",
       "    </tr>\n",
       "  </thead>\n",
       "  <tbody>\n",
       "    <tr>\n",
       "      <th>0</th>\n",
       "      <td>0</td>\n",
       "      <td>18850</td>\n",
       "    </tr>\n",
       "    <tr>\n",
       "      <th>1</th>\n",
       "      <td>1</td>\n",
       "      <td>14255</td>\n",
       "    </tr>\n",
       "    <tr>\n",
       "      <th>2</th>\n",
       "      <td>2</td>\n",
       "      <td>308938</td>\n",
       "    </tr>\n",
       "    <tr>\n",
       "      <th>3</th>\n",
       "      <td>3</td>\n",
       "      <td>296717</td>\n",
       "    </tr>\n",
       "    <tr>\n",
       "      <th>4</th>\n",
       "      <td>3</td>\n",
       "      <td>100764</td>\n",
       "    </tr>\n",
       "  </tbody>\n",
       "</table>\n",
       "</div>"
      ],
      "text/plain": [
       "   qid   docid\n",
       "0    0   18850\n",
       "1    1   14255\n",
       "2    2  308938\n",
       "3    3  296717\n",
       "4    3  100764"
      ]
     },
     "execution_count": 12,
     "metadata": {},
     "output_type": "execute_result"
    }
   ],
   "source": [
    "# Question ID and Answer ID pair\n",
    "qid_docid = pd.read_csv(\"train/FiQA_train_question_doc_final.tsv\", sep=\"\\t\")\n",
    "\n",
    "qid_docid = qid_docid [['qid', 'docid']]\n",
    "\n",
    "qid_docid.head(5)"
   ]
  },
  {
   "cell_type": "code",
   "execution_count": 26,
   "metadata": {},
   "outputs": [],
   "source": [
    "# Create dict for query id and relevant passgages\n",
    "# keys: query ids, values: list of relevant passages\n",
    "qid_rel = {}\n",
    "\n",
    "for index, row in qid_docid.iterrows():\n",
    "    \n",
    "    if row['qid'] not in qid_rel:\n",
    "        qid_rel[row['qid']] = []\n",
    "    qid_rel[row['qid']].append(row['docid'])"
   ]
  },
  {
   "cell_type": "code",
   "execution_count": 40,
   "metadata": {},
   "outputs": [
    {
     "name": "stdout",
     "output_type": "stream",
     "text": [
      "Average number of relevant passages for each query: 2.5737063778580023\n"
     ]
    }
   ],
   "source": [
    "# Number of relevant passages for each query\n",
    "num_rel = [len(v) for v in qid_rel.values()]\n",
    "\n",
    "avg_num_rel = mean(num_rel)\n",
    "\n",
    "print(\"Average number of relevant passages for each query: {}\".format(avg_num_rel))\n"
   ]
  },
  {
   "cell_type": "code",
   "execution_count": 22,
   "metadata": {},
   "outputs": [],
   "source": [
    "# Create dict for query id and ranked candidates\n",
    "# key: query ids, values: list of 1000 ranked candidates\n",
    "qid_ranked_docs = {}\n",
    "\n",
    "with open(\"fiqa-passage/run_train.tsv\",'r') as f:\n",
    "    for line in f:\n",
    "        # [qid, doc_id, rank]\n",
    "        line = line.strip().split('\\t')\n",
    "        qid = int(line[0])\n",
    "        doc_id = int(line[1])\n",
    "        rank = int(line[2])\n",
    "        \n",
    "        if qid not in qid_ranked_docs:\n",
    "            # Create a list of size 1000 for each query to store the candidates\n",
    "            candidates = [0]*1000\n",
    "            qid_ranked_docs[qid] = candidates\n",
    "        qid_ranked_docs[qid][rank-1] = doc_id"
   ]
  },
  {
   "cell_type": "code",
   "execution_count": 39,
   "metadata": {},
   "outputs": [
    {
     "name": "stdout",
     "output_type": "stream",
     "text": [
      "MRR@10: 0.3104752234828942\n"
     ]
    }
   ],
   "source": [
    "cumulated_reciprocal_rank = 0\n",
    "\n",
    "# For each query\n",
    "for qid in qid_ranked_docs:\n",
    "    # If the query has a relevant passage\n",
    "    if qid in qid_rel:\n",
    "        # Get the list of relevant docs for a query\n",
    "        rel_docs = qid_rel[qid]\n",
    "        # Get the list of ranked docs for a query\n",
    "        candidate_doc = qid_ranked_docs[qid]\n",
    "        \n",
    "        # MRR@10\n",
    "        for i in range(0, 10):\n",
    "            # If the doc_id of the top 10 ranked candidate passages is in the list of relevant passages\n",
    "            if candidate_doc[i] in rel_docs:\n",
    "                # Compute the reciprocal rank (i is the ranking)\n",
    "                cumulated_reciprocal_rank += 1/(i+1)\n",
    "                break\n",
    "\n",
    "MRR = cumulated_reciprocal_rank/len(qid_rel)\n",
    "\n",
    "print(\"MRR@10: {}\".format(MRR))"
   ]
  }
 ],
 "metadata": {
  "kernelspec": {
   "display_name": "Python 3",
   "language": "python",
   "name": "python3"
  },
  "language_info": {
   "codemirror_mode": {
    "name": "ipython",
    "version": 3
   },
   "file_extension": ".py",
   "mimetype": "text/x-python",
   "name": "python",
   "nbconvert_exporter": "python",
   "pygments_lexer": "ipython3",
   "version": "3.6.8"
  }
 },
 "nbformat": 4,
 "nbformat_minor": 2
}
