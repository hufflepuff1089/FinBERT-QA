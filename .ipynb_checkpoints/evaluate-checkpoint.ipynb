{
 "cells": [
  {
   "cell_type": "code",
   "execution_count": 53,
   "metadata": {},
   "outputs": [],
   "source": [
    "import pandas as pd\n",
    "from statistics import mean \n",
    "import math "
   ]
  },
  {
   "cell_type": "code",
   "execution_count": 12,
   "metadata": {},
   "outputs": [
    {
     "data": {
      "text/html": [
       "<div>\n",
       "<style scoped>\n",
       "    .dataframe tbody tr th:only-of-type {\n",
       "        vertical-align: middle;\n",
       "    }\n",
       "\n",
       "    .dataframe tbody tr th {\n",
       "        vertical-align: top;\n",
       "    }\n",
       "\n",
       "    .dataframe thead th {\n",
       "        text-align: right;\n",
       "    }\n",
       "</style>\n",
       "<table border=\"1\" class=\"dataframe\">\n",
       "  <thead>\n",
       "    <tr style=\"text-align: right;\">\n",
       "      <th></th>\n",
       "      <th>qid</th>\n",
       "      <th>docid</th>\n",
       "    </tr>\n",
       "  </thead>\n",
       "  <tbody>\n",
       "    <tr>\n",
       "      <th>0</th>\n",
       "      <td>0</td>\n",
       "      <td>18850</td>\n",
       "    </tr>\n",
       "    <tr>\n",
       "      <th>1</th>\n",
       "      <td>1</td>\n",
       "      <td>14255</td>\n",
       "    </tr>\n",
       "    <tr>\n",
       "      <th>2</th>\n",
       "      <td>2</td>\n",
       "      <td>308938</td>\n",
       "    </tr>\n",
       "    <tr>\n",
       "      <th>3</th>\n",
       "      <td>3</td>\n",
       "      <td>296717</td>\n",
       "    </tr>\n",
       "    <tr>\n",
       "      <th>4</th>\n",
       "      <td>3</td>\n",
       "      <td>100764</td>\n",
       "    </tr>\n",
       "  </tbody>\n",
       "</table>\n",
       "</div>"
      ],
      "text/plain": [
       "   qid   docid\n",
       "0    0   18850\n",
       "1    1   14255\n",
       "2    2  308938\n",
       "3    3  296717\n",
       "4    3  100764"
      ]
     },
     "execution_count": 12,
     "metadata": {},
     "output_type": "execute_result"
    }
   ],
   "source": [
    "# Question ID and Answer ID pair\n",
    "qid_docid = pd.read_csv(\"train/FiQA_train_question_doc_final.tsv\", sep=\"\\t\")\n",
    "\n",
    "qid_docid = qid_docid [['qid', 'docid']]\n",
    "\n",
    "qid_docid.head(5)"
   ]
  },
  {
   "cell_type": "code",
   "execution_count": 26,
   "metadata": {},
   "outputs": [],
   "source": [
    "# Create dict for query id and relevant passgages\n",
    "# keys: query ids, values: list of relevant passages\n",
    "qid_rel = {}\n",
    "\n",
    "for index, row in qid_docid.iterrows():\n",
    "    \n",
    "    if row['qid'] not in qid_rel:\n",
    "        qid_rel[row['qid']] = []\n",
    "    qid_rel[row['qid']].append(row['docid'])"
   ]
  },
  {
   "cell_type": "code",
   "execution_count": 256,
   "metadata": {},
   "outputs": [
    {
     "name": "stdout",
     "output_type": "stream",
     "text": [
      "Average number of relevant passages for each query: 2.5737063778580023\n",
      "Max number of relevant passages for each query: 23\n",
      "Min number of relevant passages for each query: 1\n"
     ]
    }
   ],
   "source": [
    "# Number of relevant passages for each query\n",
    "num_rel = [len(v) for v in qid_rel.values()]\n",
    "\n",
    "avg_num_rel = mean(num_rel)\n",
    "max_num_rel = max(num_rel)\n",
    "min_num_rel = min(num_rel)\n",
    "\n",
    "print(\"Average number of relevant passages for each query: {}\".format(avg_num_rel))\n",
    "print(\"Max number of relevant passages for each query: {}\".format(max_num_rel))\n",
    "print(\"Min number of relevant passages for each query: {}\".format(min_num_rel))"
   ]
  },
  {
   "cell_type": "code",
   "execution_count": 22,
   "metadata": {},
   "outputs": [],
   "source": [
    "# Create dict for query id and ranked candidates\n",
    "# key: query ids, values: list of 1000 ranked candidates\n",
    "qid_ranked_docs = {}\n",
    "\n",
    "with open(\"fiqa-passage/run_train.tsv\",'r') as f:\n",
    "    for line in f:\n",
    "        # [qid, doc_id, rank]\n",
    "        line = line.strip().split('\\t')\n",
    "        qid = int(line[0])\n",
    "        doc_id = int(line[1])\n",
    "        rank = int(line[2])\n",
    "        \n",
    "        if qid not in qid_ranked_docs:\n",
    "            # Create a list of size 1000 for each query to store the candidates\n",
    "            candidates = [0]*1000\n",
    "            qid_ranked_docs[qid] = candidates\n",
    "        qid_ranked_docs[qid][rank-1] = doc_id"
   ]
  },
  {
   "cell_type": "code",
   "execution_count": 331,
   "metadata": {},
   "outputs": [],
   "source": [
    "# Fucntions to compute nDCG and MRR\n",
    "def get_rel_score(rel_score, cand_docs, rel_docs, k):\n",
    "    \n",
    "    if qid not in rel_score:\n",
    "        rel_score[qid] = []\n",
    "\n",
    "        for i in range(0, k):\n",
    "            if cand_docs[i] in rel_docs:\n",
    "                rel_score[qid].append(1)\n",
    "            else:\n",
    "                rel_score[qid].append(0)\n",
    "\n",
    "    return rel_score\n",
    "\n",
    "def dcg(rels, k):\n",
    "    cumulated_sum = rels[0]\n",
    "    for i in range(1, k):\n",
    "        cumulated_sum += rels[i]/math.log(i+1,2)\n",
    "    return cumulated_sum\n",
    "\n",
    "def avg_ndcg(rel_score):\n",
    "    ndcg_list = []\n",
    "    for qid, rels in rel_score.items():\n",
    "        dcg_val = dcg(rels, k)   \n",
    "        sorted_rel = sorted(rels, reverse=True)\n",
    "        idcg_val = dcg(sorted_rel, k)\n",
    "\n",
    "        try:\n",
    "            ndcg_val = dcg_val/idcg_val\n",
    "            ndcg_list.append(ndcg_val)\n",
    "        except ZeroDivisionError:\n",
    "            ndcg_list.append(0)\n",
    "            \n",
    "    assert len(ndcg_list) == len(rel_score), \"Relevant score doesn't match\"\n",
    "\n",
    "    avg = mean(ndcg_list)\n",
    "\n",
    "    return avg\n",
    "\n",
    "def compute_RR(cand_docs, rel_docs, cumulated_reciprocal_rank, k):\n",
    "    \n",
    "    for i in range(0, k):\n",
    "        # If the doc_id of the top 10 ranked candidate passages is in the list of relevant passages\n",
    "        if cand_docs[i] in rel_docs:\n",
    "            # Compute the reciprocal rank (i is the ranking)\n",
    "            cumulated_reciprocal_rank += 1/(i+1)\n",
    "            break\n",
    "            \n",
    "    return cumulated_reciprocal_rank"
   ]
  },
  {
   "cell_type": "code",
   "execution_count": 292,
   "metadata": {},
   "outputs": [
    {
     "name": "stdout",
     "output_type": "stream",
     "text": [
      "[560251, 210300, 188530, 108734, 78139, 564488, 151506, 477720, 349669, 106319]\n",
      "[560251, 188530, 564488]\n",
      "\n",
      "[494264, 187073, 356835, 173858, 536063, 10500, 107819, 174693, 192591, 278460]\n",
      "[494264, 187073]\n"
     ]
    }
   ],
   "source": [
    "print(qid_ranked_docs[6][:10])\n",
    "print(qid_rel[6][:10])\n",
    "print()\n",
    "print(qid_ranked_docs[102][:10])\n",
    "print(qid_rel[102][:10])"
   ]
  },
  {
   "cell_type": "code",
   "execution_count": 332,
   "metadata": {},
   "outputs": [
    {
     "name": "stdout",
     "output_type": "stream",
     "text": [
      "Average nDCG@10 for 6648 queries: 0.36504981770986045\n",
      "\n",
      "MRR@10 for 6648 queries: 0.3104752234828942\n"
     ]
    }
   ],
   "source": [
    "k = 10\n",
    "cumulated_reciprocal_rank = 0\n",
    "num_rel_docs = 0\n",
    "rel_score = {}\n",
    "precision_list = {}\n",
    "\n",
    "# For each query\n",
    "for qid in qid_ranked_docs:\n",
    "    # If the query has a relevant passage\n",
    "    if qid in qid_rel:\n",
    "        # Get the list of relevant docs for a query\n",
    "        rel_docs = qid_rel[qid]\n",
    "        # Get the list of ranked docs for a query\n",
    "        cand_docs = qid_ranked_docs[qid]\n",
    "        \n",
    "        rel_scores = get_rel_score(rel_score, cand_docs, rel_docs, k)\n",
    "        \n",
    "        # MRR@k\n",
    "        cumulated_reciprocal_rank = compute_RR(cand_docs, rel_docs, cumulated_reciprocal_rank, k)\n",
    "\n",
    "\n",
    "print(\"Average nDCG@{} for {} queries: {}\".format(k, len(qid_rel), avg_ndcg(rel_scores)))\n",
    "print()\n",
    "\n",
    "MRR = cumulated_reciprocal_rank/len(qid_rel)\n",
    "\n",
    "print(\"MRR@{} for {} queries: {}\".format(k, len(qid_rel), MRR))"
   ]
  },
  {
   "cell_type": "code",
   "execution_count": 340,
   "metadata": {},
   "outputs": [
    {
     "name": "stdout",
     "output_type": "stream",
     "text": [
      "0.23901925391095066\n"
     ]
    }
   ],
   "source": [
    "# Precision at k\n",
    "k = 1\n",
    "\n",
    "scores = {}\n",
    "\n",
    "precision_at_k = []\n",
    "\n",
    "for qid, scores in rel_score.items():\n",
    "    num_rel = 0\n",
    "    for i in range(0, k):\n",
    "        if scores[i] == 1:\n",
    "            num_rel += 1\n",
    "    precision_at_k.append(num_rel/k)\n",
    "        \n",
    "mean_precision_at_k = mean(precision_at_k)\n",
    "\n",
    "print(mean_precision_at_k)"
   ]
  }
 ],
 "metadata": {
  "kernelspec": {
   "display_name": "Python 3",
   "language": "python",
   "name": "python3"
  },
  "language_info": {
   "codemirror_mode": {
    "name": "ipython",
    "version": 3
   },
   "file_extension": ".py",
   "mimetype": "text/x-python",
   "name": "python",
   "nbconvert_exporter": "python",
   "pygments_lexer": "ipython3",
   "version": "3.6.8"
  }
 },
 "nbformat": 4,
 "nbformat_minor": 2
}
