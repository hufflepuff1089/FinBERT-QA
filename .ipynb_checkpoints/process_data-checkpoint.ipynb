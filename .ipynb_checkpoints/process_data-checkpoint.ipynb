{
 "cells": [
  {
   "cell_type": "code",
   "execution_count": 1,
   "metadata": {
    "colab": {
     "base_uri": "https://localhost:8080/",
     "height": 128
    },
    "colab_type": "code",
    "id": "UPRofcaDIT8k",
    "outputId": "cc1b0086-65ba-45c0-b325-4ca8706f57b7"
   },
   "outputs": [
    {
     "name": "stdout",
     "output_type": "stream",
     "text": [
      "Go to this URL in a browser: https://accounts.google.com/o/oauth2/auth?client_id=947318989803-6bn6qk8qdgf4n4g3pfee6491hc0brc4i.apps.googleusercontent.com&redirect_uri=urn%3aietf%3awg%3aoauth%3a2.0%3aoob&response_type=code&scope=email%20https%3a%2f%2fwww.googleapis.com%2fauth%2fdocs.test%20https%3a%2f%2fwww.googleapis.com%2fauth%2fdrive%20https%3a%2f%2fwww.googleapis.com%2fauth%2fdrive.photos.readonly%20https%3a%2f%2fwww.googleapis.com%2fauth%2fpeopleapi.readonly\n",
      "\n",
      "Enter your authorization code:\n",
      "··········\n",
      "Mounted at /content/drive\n"
     ]
    }
   ],
   "source": [
    "from google.colab import drive\n",
    "drive.mount('/content/drive')"
   ]
  },
  {
   "cell_type": "code",
   "execution_count": 22,
   "metadata": {
    "colab": {
     "base_uri": "https://localhost:8080/",
     "height": 54
    },
    "colab_type": "code",
    "id": "ovy5Jis3IAz8",
    "outputId": "64271af3-c36d-48f0-9ba8-62f60b7ea8e1"
   },
   "outputs": [
    {
     "name": "stdout",
     "output_type": "stream",
     "text": [
      "[nltk_data] Downloading package punkt to /root/nltk_data...\n",
      "[nltk_data]   Package punkt is already up-to-date!\n"
     ]
    }
   ],
   "source": [
    "import pandas as pd\n",
    "from pathlib import Path\n",
    "import regex as re\n",
    "import csv\n",
    "from itertools import islice\n",
    "import nltk\n",
    "nltk.download('punkt')\n",
    "from nltk.tokenize import wordpunct_tokenize\n",
    "import pickle\n",
    "import numpy as np\n",
    "from sklearn.model_selection import train_test_split\n",
    "\n",
    "def take(n, iterable):\n",
    "    \"Return first n items of the iterable as a list\"\n",
    "    return list(islice(iterable, n))\n",
    "    \n",
    "def pre_process(doc):\n",
    "    doc = str(doc)\n",
    "    x = re.sub('[…“”%!&\"@#()\\-\\*\\+,/:;<=>?@[\\]\\^_`{\\}~]', ' ', doc)\n",
    "    y = re.sub('[\\.\\']', \"\", x)\n",
    "    z = y.lower()\n",
    "    return z"
   ]
  },
  {
   "cell_type": "code",
   "execution_count": 0,
   "metadata": {
    "colab": {},
    "colab_type": "code",
    "id": "1qGaiNXuzYJN"
   },
   "outputs": [],
   "source": [
    "# def load_answers(path):\n",
    "#     \"\"\"\n",
    "#     dict - docid map to doc text\n",
    "#     \"\"\"\n",
    "#     docs = {}\n",
    "\n",
    "#     with open(path,'r') as f:\n",
    "#         for line in f:\n",
    "#             # [qid, doc_id, rank]\n",
    "#             line = line.strip().split('\\t')\n",
    "\n",
    "#             if len(line) == 4:\n",
    "#                 docid = int(line[1])\n",
    "#                 doc = line[2]\n",
    "\n",
    "#                 docs[docid] = []\n",
    "#                 docs[docid].append(doc)\n",
    "    \n",
    "#     return docs\n",
    "\n",
    "# docs = load_ansers(path + \"FiQA_train_doc_final.tsv\")"
   ]
  },
  {
   "cell_type": "code",
   "execution_count": 0,
   "metadata": {
    "colab": {},
    "colab_type": "code",
    "id": "etUrlQ4Y0m8h"
   },
   "outputs": [],
   "source": [
    "path = \"drive/My Drive/FiQA/\"\n",
    "\n",
    "def load_answers(path):\n",
    "    \"\"\"\n",
    "    Returns a dataframe of cols: docid, doc\n",
    "    \"\"\"\n",
    "    # Doc ID to Doc text\n",
    "    collection = pd.read_csv(path, sep=\"\\t\")\n",
    "    collection = collection[['docid', 'doc']]\n",
    "    collection = collection.sort_values(by=['docid'])\n",
    "\n",
    "    return collection\n",
    "\n",
    "collection = load_answers(path + \"FiQA_train_doc_final.tsv\")\n",
    "\n",
    "def load_questions(path):\n",
    "    \"\"\"\n",
    "    Returns a dataframe of cols: qid, question\n",
    "    \"\"\"\n",
    "    # Question ID and Question text\n",
    "    query_df = pd.read_csv(path, sep=\"\\t\")\n",
    "    queries = query_df[['qid', 'question']]\n",
    "\n",
    "    return queries\n",
    "\n",
    "queries = load_questions(path + \"FiQA_train_question_final.tsv\")\n",
    "\n",
    "# Question ID and Answer ID pair\n",
    "qid_docid = pd.read_csv(path + \"FiQA_train_question_doc_final.tsv\", sep=\"\\t\")\n",
    "qid_docid = qid_docid [['qid', 'docid']]"
   ]
  },
  {
   "cell_type": "code",
   "execution_count": 6,
   "metadata": {
    "colab": {
     "base_uri": "https://localhost:8080/",
     "height": 198
    },
    "colab_type": "code",
    "id": "nXG7WRsA0oFV",
    "outputId": "2dc25ccc-3c9f-4fe0-dd25-e9ac52aa620b"
   },
   "outputs": [
    {
     "data": {
      "text/html": [
       "<div>\n",
       "<style scoped>\n",
       "    .dataframe tbody tr th:only-of-type {\n",
       "        vertical-align: middle;\n",
       "    }\n",
       "\n",
       "    .dataframe tbody tr th {\n",
       "        vertical-align: top;\n",
       "    }\n",
       "\n",
       "    .dataframe thead th {\n",
       "        text-align: right;\n",
       "    }\n",
       "</style>\n",
       "<table border=\"1\" class=\"dataframe\">\n",
       "  <thead>\n",
       "    <tr style=\"text-align: right;\">\n",
       "      <th></th>\n",
       "      <th>qid</th>\n",
       "      <th>docid</th>\n",
       "    </tr>\n",
       "  </thead>\n",
       "  <tbody>\n",
       "    <tr>\n",
       "      <th>0</th>\n",
       "      <td>0</td>\n",
       "      <td>18850</td>\n",
       "    </tr>\n",
       "    <tr>\n",
       "      <th>1</th>\n",
       "      <td>1</td>\n",
       "      <td>14255</td>\n",
       "    </tr>\n",
       "    <tr>\n",
       "      <th>2</th>\n",
       "      <td>2</td>\n",
       "      <td>308938</td>\n",
       "    </tr>\n",
       "    <tr>\n",
       "      <th>3</th>\n",
       "      <td>3</td>\n",
       "      <td>296717</td>\n",
       "    </tr>\n",
       "    <tr>\n",
       "      <th>4</th>\n",
       "      <td>3</td>\n",
       "      <td>100764</td>\n",
       "    </tr>\n",
       "  </tbody>\n",
       "</table>\n",
       "</div>"
      ],
      "text/plain": [
       "   qid   docid\n",
       "0    0   18850\n",
       "1    1   14255\n",
       "2    2  308938\n",
       "3    3  296717\n",
       "4    3  100764"
      ]
     },
     "execution_count": 6,
     "metadata": {
      "tags": []
     },
     "output_type": "execute_result"
    }
   ],
   "source": [
    "qid_docid.head(5)"
   ]
  },
  {
   "cell_type": "code",
   "execution_count": 23,
   "metadata": {
    "colab": {
     "base_uri": "https://localhost:8080/",
     "height": 198
    },
    "colab_type": "code",
    "id": "0UaKMgWn1_dh",
    "outputId": "99350fd7-e80d-4a1c-cef0-74d38a83c894"
   },
   "outputs": [
    {
     "data": {
      "text/html": [
       "<div>\n",
       "<style scoped>\n",
       "    .dataframe tbody tr th:only-of-type {\n",
       "        vertical-align: middle;\n",
       "    }\n",
       "\n",
       "    .dataframe tbody tr th {\n",
       "        vertical-align: top;\n",
       "    }\n",
       "\n",
       "    .dataframe thead th {\n",
       "        text-align: right;\n",
       "    }\n",
       "</style>\n",
       "<table border=\"1\" class=\"dataframe\">\n",
       "  <thead>\n",
       "    <tr style=\"text-align: right;\">\n",
       "      <th></th>\n",
       "      <th>qid</th>\n",
       "      <th>docid</th>\n",
       "    </tr>\n",
       "  </thead>\n",
       "  <tbody>\n",
       "    <tr>\n",
       "      <th>0</th>\n",
       "      <td>0</td>\n",
       "      <td>[18850]</td>\n",
       "    </tr>\n",
       "    <tr>\n",
       "      <th>1</th>\n",
       "      <td>1</td>\n",
       "      <td>[14255]</td>\n",
       "    </tr>\n",
       "    <tr>\n",
       "      <th>2</th>\n",
       "      <td>2</td>\n",
       "      <td>[308938]</td>\n",
       "    </tr>\n",
       "    <tr>\n",
       "      <th>3</th>\n",
       "      <td>3</td>\n",
       "      <td>[296717, 100764, 314352, 146317]</td>\n",
       "    </tr>\n",
       "    <tr>\n",
       "      <th>4</th>\n",
       "      <td>4</td>\n",
       "      <td>[196463]</td>\n",
       "    </tr>\n",
       "  </tbody>\n",
       "</table>\n",
       "</div>"
      ],
      "text/plain": [
       "   qid                             docid\n",
       "0    0                           [18850]\n",
       "1    1                           [14255]\n",
       "2    2                          [308938]\n",
       "3    3  [296717, 100764, 314352, 146317]\n",
       "4    4                          [196463]"
      ]
     },
     "execution_count": 23,
     "metadata": {
      "tags": []
     },
     "output_type": "execute_result"
    }
   ],
   "source": [
    "dataset = qid_docid\n",
    "\n",
    "dataset = dataset.groupby(['qid']).agg(lambda x: tuple(x)).applymap(list).reset_index()\n",
    "\n",
    "dataset.head(5)"
   ]
  },
  {
   "cell_type": "code",
   "execution_count": 24,
   "metadata": {
    "colab": {
     "base_uri": "https://localhost:8080/",
     "height": 35
    },
    "colab_type": "code",
    "id": "h77O8rTf5Bcd",
    "outputId": "266fa7db-69d7-4556-fb79-2928829a7f96"
   },
   "outputs": [
    {
     "data": {
      "text/plain": [
       "6648"
      ]
     },
     "execution_count": 24,
     "metadata": {
      "tags": []
     },
     "output_type": "execute_result"
    }
   ],
   "source": [
    "len(dataset)"
   ]
  },
  {
   "cell_type": "code",
   "execution_count": 58,
   "metadata": {
    "colab": {
     "base_uri": "https://localhost:8080/",
     "height": 72
    },
    "colab_type": "code",
    "id": "uWqAepgI4Nyo",
    "outputId": "1fda3b13-a2dd-4eff-8bf1-97b01c3b9852"
   },
   "outputs": [
    {
     "name": "stdout",
     "output_type": "stream",
     "text": [
      "5683\n",
      "333\n",
      "632\n"
     ]
    }
   ],
   "source": [
    "train, test_set = train_test_split(dataset, test_size=0.05)\n",
    "train_set, valid_set = train_test_split(train, test_size=0.1)\n",
    "\n",
    "# Number of questions in each set\n",
    "print(len(train_set))\n",
    "print(len(test_set))\n",
    "print(len(valid_set))"
   ]
  },
  {
   "cell_type": "code",
   "execution_count": 59,
   "metadata": {
    "colab": {
     "base_uri": "https://localhost:8080/",
     "height": 72
    },
    "colab_type": "code",
    "id": "G8PhECk156VA",
    "outputId": "f40609e1-01ec-46eb-9b2b-20d182481e34"
   },
   "outputs": [
    {
     "name": "stdout",
     "output_type": "stream",
     "text": [
      "14587\n",
      "868\n",
      "1655\n"
     ]
    }
   ],
   "source": [
    "train_data = train_set.explode('docid')\n",
    "test_data = test_set.explode('docid')\n",
    "valid_data = valid_set.explode('docid')\n",
    "\n",
    "print(len(train_data))\n",
    "print(len(test_data))\n",
    "print(len(valid_data))"
   ]
  },
  {
   "cell_type": "code",
   "execution_count": 84,
   "metadata": {
    "colab": {
     "base_uri": "https://localhost:8080/",
     "height": 348
    },
    "colab_type": "code",
    "id": "b7V86W967r7G",
    "outputId": "7242b78c-312f-4334-c811-6adf2341c528"
   },
   "outputs": [
    {
     "data": {
      "text/html": [
       "<div>\n",
       "<style scoped>\n",
       "    .dataframe tbody tr th:only-of-type {\n",
       "        vertical-align: middle;\n",
       "    }\n",
       "\n",
       "    .dataframe tbody tr th {\n",
       "        vertical-align: top;\n",
       "    }\n",
       "\n",
       "    .dataframe thead th {\n",
       "        text-align: right;\n",
       "    }\n",
       "</style>\n",
       "<table border=\"1\" class=\"dataframe\">\n",
       "  <thead>\n",
       "    <tr style=\"text-align: right;\">\n",
       "      <th></th>\n",
       "      <th>qid</th>\n",
       "      <th>docid</th>\n",
       "    </tr>\n",
       "  </thead>\n",
       "  <tbody>\n",
       "    <tr>\n",
       "      <th>0</th>\n",
       "      <td>0</td>\n",
       "      <td>18850</td>\n",
       "    </tr>\n",
       "    <tr>\n",
       "      <th>2</th>\n",
       "      <td>2</td>\n",
       "      <td>308938</td>\n",
       "    </tr>\n",
       "    <tr>\n",
       "      <th>3</th>\n",
       "      <td>3</td>\n",
       "      <td>296717</td>\n",
       "    </tr>\n",
       "    <tr>\n",
       "      <th>3</th>\n",
       "      <td>3</td>\n",
       "      <td>100764</td>\n",
       "    </tr>\n",
       "    <tr>\n",
       "      <th>3</th>\n",
       "      <td>3</td>\n",
       "      <td>314352</td>\n",
       "    </tr>\n",
       "    <tr>\n",
       "      <th>3</th>\n",
       "      <td>3</td>\n",
       "      <td>146317</td>\n",
       "    </tr>\n",
       "    <tr>\n",
       "      <th>4</th>\n",
       "      <td>4</td>\n",
       "      <td>196463</td>\n",
       "    </tr>\n",
       "    <tr>\n",
       "      <th>5</th>\n",
       "      <td>5</td>\n",
       "      <td>69306</td>\n",
       "    </tr>\n",
       "    <tr>\n",
       "      <th>6</th>\n",
       "      <td>6</td>\n",
       "      <td>560251</td>\n",
       "    </tr>\n",
       "    <tr>\n",
       "      <th>6</th>\n",
       "      <td>6</td>\n",
       "      <td>188530</td>\n",
       "    </tr>\n",
       "  </tbody>\n",
       "</table>\n",
       "</div>"
      ],
      "text/plain": [
       "   qid   docid\n",
       "0    0   18850\n",
       "2    2  308938\n",
       "3    3  296717\n",
       "3    3  100764\n",
       "3    3  314352\n",
       "3    3  146317\n",
       "4    4  196463\n",
       "5    5   69306\n",
       "6    6  560251\n",
       "6    6  188530"
      ]
     },
     "execution_count": 84,
     "metadata": {
      "tags": []
     },
     "output_type": "execute_result"
    }
   ],
   "source": [
    "train_data.head(10)"
   ]
  },
  {
   "cell_type": "code",
   "execution_count": 78,
   "metadata": {
    "colab": {
     "base_uri": "https://localhost:8080/",
     "height": 108
    },
    "colab_type": "code",
    "id": "EfJvFaQI67aV",
    "outputId": "e9d785cf-30e1-43ae-f009-599e8b493961"
   },
   "outputs": [
    {
     "data": {
      "text/plain": [
       "[(7, [411063]),\n",
       " (9, [509122, 184698]),\n",
       " (86, [71569]),\n",
       " (98, [575929, 527522]),\n",
       " (110, [520386, 220063, 410128, 459119, 482165, 397152])]"
      ]
     },
     "execution_count": 78,
     "metadata": {
      "tags": []
     },
     "output_type": "execute_result"
    }
   ],
   "source": [
    "def label_to_dict(df):\n",
    "    qid_rel = {}\n",
    "    for index, row in df.iterrows():\n",
    "        if row['qid'] not in qid_rel:\n",
    "            qid_rel[row['qid']] = []\n",
    "        qid_rel[row['qid']].append(row['docid'])\n",
    "\n",
    "    return qid_rel\n",
    "\n",
    "train = label_to_dict(train_data)\n",
    "test = label_to_dict(test_data)\n",
    "valid = label_to_dict(valid_data)\n",
    "\n",
    "take(5, test.items())"
   ]
  },
  {
   "cell_type": "code",
   "execution_count": 0,
   "metadata": {
    "colab": {},
    "colab_type": "code",
    "id": "-G4hb9Pp8TUr"
   },
   "outputs": [],
   "source": [
    "with open(path + 'qid_rel_train.pickle', 'wb') as handle:\n",
    "    pickle.dump(train, handle, protocol=pickle.HIGHEST_PROTOCOL)\n",
    "\n",
    "with open(path + 'qid_rel_test.pickle', 'wb') as handle:\n",
    "    pickle.dump(test, handle, protocol=pickle.HIGHEST_PROTOCOL)\n",
    "\n",
    "with open(path + 'qid_rel_valid.pickle', 'wb') as handle:\n",
    "    pickle.dump(valid, handle, protocol=pickle.HIGHEST_PROTOCOL)"
   ]
  },
  {
   "cell_type": "code",
   "execution_count": 82,
   "metadata": {
    "colab": {
     "base_uri": "https://localhost:8080/",
     "height": 72
    },
    "colab_type": "code",
    "id": "L6sTJhPI8xSR",
    "outputId": "2b896ba3-4a1b-46bd-f238-86ee834f2f00"
   },
   "outputs": [
    {
     "name": "stdout",
     "output_type": "stream",
     "text": [
      "5683\n",
      "333\n",
      "632\n"
     ]
    }
   ],
   "source": [
    "train_q = list(train.keys())\n",
    "test_q = list(test.keys())\n",
    "valid_q = list(valid.keys())\n",
    "\n",
    "print(len(train_q))\n",
    "print(len(test_q))\n",
    "print(len(valid_q))"
   ]
  },
  {
   "cell_type": "code",
   "execution_count": 86,
   "metadata": {
    "colab": {
     "base_uri": "https://localhost:8080/",
     "height": 198
    },
    "colab_type": "code",
    "id": "6EBzAu3d87tY",
    "outputId": "a1a3bca8-5c54-4df1-ab8f-e8113ee251c4"
   },
   "outputs": [
    {
     "data": {
      "text/html": [
       "<div>\n",
       "<style scoped>\n",
       "    .dataframe tbody tr th:only-of-type {\n",
       "        vertical-align: middle;\n",
       "    }\n",
       "\n",
       "    .dataframe tbody tr th {\n",
       "        vertical-align: top;\n",
       "    }\n",
       "\n",
       "    .dataframe thead th {\n",
       "        text-align: right;\n",
       "    }\n",
       "</style>\n",
       "<table border=\"1\" class=\"dataframe\">\n",
       "  <thead>\n",
       "    <tr style=\"text-align: right;\">\n",
       "      <th></th>\n",
       "      <th>qid</th>\n",
       "      <th>question</th>\n",
       "    </tr>\n",
       "  </thead>\n",
       "  <tbody>\n",
       "    <tr>\n",
       "      <th>1</th>\n",
       "      <td>1</td>\n",
       "      <td>Claiming business expenses for a business with...</td>\n",
       "    </tr>\n",
       "    <tr>\n",
       "      <th>8</th>\n",
       "      <td>8</td>\n",
       "      <td>How to deposit a cheque issued to an associate...</td>\n",
       "    </tr>\n",
       "    <tr>\n",
       "      <th>11</th>\n",
       "      <td>12</td>\n",
       "      <td>Does U.S. tax code call for small business own...</td>\n",
       "    </tr>\n",
       "    <tr>\n",
       "      <th>20</th>\n",
       "      <td>21</td>\n",
       "      <td>Deducting last years (undocumented) side busin...</td>\n",
       "    </tr>\n",
       "    <tr>\n",
       "      <th>22</th>\n",
       "      <td>25</td>\n",
       "      <td>Claiming business expense from personal credit...</td>\n",
       "    </tr>\n",
       "  </tbody>\n",
       "</table>\n",
       "</div>"
      ],
      "text/plain": [
       "    qid                                           question\n",
       "1     1  Claiming business expenses for a business with...\n",
       "8     8  How to deposit a cheque issued to an associate...\n",
       "11   12  Does U.S. tax code call for small business own...\n",
       "20   21  Deducting last years (undocumented) side busin...\n",
       "22   25  Claiming business expense from personal credit..."
      ]
     },
     "execution_count": 86,
     "metadata": {
      "tags": []
     },
     "output_type": "execute_result"
    }
   ],
   "source": [
    "train_questions = queries[queries['qid'].isin(train_q)]\n",
    "test_questions = queries[queries['qid'].isin(test_q)]\n",
    "valid_questions = queries[queries['qid'].isin(valid_q)]"
   ]
  },
  {
   "cell_type": "code",
   "execution_count": 87,
   "metadata": {
    "colab": {
     "base_uri": "https://localhost:8080/",
     "height": 72
    },
    "colab_type": "code",
    "id": "tXFrAD3r_qv4",
    "outputId": "871a8465-2b27-433c-edd0-c777f842b40b"
   },
   "outputs": [
    {
     "name": "stdout",
     "output_type": "stream",
     "text": [
      "5683\n",
      "333\n",
      "632\n"
     ]
    }
   ],
   "source": [
    "print(len(train_questions))\n",
    "print(len(test_questions))\n",
    "print(len(valid_questions))"
   ]
  },
  {
   "cell_type": "code",
   "execution_count": 0,
   "metadata": {
    "colab": {},
    "colab_type": "code",
    "id": "94BFQ1Va_bCP"
   },
   "outputs": [],
   "source": [
    "with open(path + \"train_questions.tsv\",'w') as write_tsv:\n",
    "    write_tsv.write(train_questions.to_csv(sep='\\t', index=False, header=False))\n",
    "\n",
    "with open(path + \"test_questions.tsv\",'w') as write_tsv:\n",
    "    write_tsv.write(test_questions.to_csv(sep='\\t', index=False, header=False))\n",
    "\n",
    "with open(path + \"valid_questions.tsv\",'w') as write_tsv:\n",
    "    write_tsv.write(valid_questions.to_csv(sep='\\t', index=False, header=False))"
   ]
  },
  {
   "cell_type": "code",
   "execution_count": 3,
   "metadata": {
    "colab": {
     "base_uri": "https://localhost:8080/",
     "height": 471
    },
    "colab_type": "code",
    "id": "P5bV3bU0zgJD",
    "outputId": "2bd8900c-0a71-46a3-99a7-fa518628a3a7"
   },
   "outputs": [
    {
     "name": "stdout",
     "output_type": "stream",
     "text": [
      "[741, 1158, 1329, 3208, 3937, 5266, 6399, 11237, 11407, 12328, 13459, 14869, 16143, 16326, 18297, 19839, 19944, 20739, 22923, 23949, 24603, 28093, 30966, 31492, 34386, 34539, 34697, 38382, 39802, 42403, 43008, 45178, 46794, 50845, 53111, 54963, 56460, 57452]\n"
     ]
    },
    {
     "ename": "KeyboardInterrupt",
     "evalue": "ignored",
     "output_type": "error",
     "traceback": [
      "\u001b[0;31m---------------------------------------------------------------------------\u001b[0m",
      "\u001b[0;31mKeyboardInterrupt\u001b[0m                         Traceback (most recent call last)",
      "\u001b[0;32m<ipython-input-3-389bd32e959f>\u001b[0m in \u001b[0;36m<module>\u001b[0;34m()\u001b[0m\n\u001b[1;32m     45\u001b[0m \u001b[0;34m\u001b[0m\u001b[0m\n\u001b[1;32m     46\u001b[0m \u001b[0;31m# Answers Tokenization\u001b[0m\u001b[0;34m\u001b[0m\u001b[0;34m\u001b[0m\u001b[0;34m\u001b[0m\u001b[0m\n\u001b[0;32m---> 47\u001b[0;31m \u001b[0mcollection2\u001b[0m\u001b[0;34m[\u001b[0m\u001b[0;34m'doc_processed'\u001b[0m\u001b[0;34m]\u001b[0m \u001b[0;34m=\u001b[0m \u001b[0mcollection2\u001b[0m\u001b[0;34m[\u001b[0m\u001b[0;34m'doc'\u001b[0m\u001b[0;34m]\u001b[0m\u001b[0;34m.\u001b[0m\u001b[0mapply\u001b[0m\u001b[0;34m(\u001b[0m\u001b[0mpre_process\u001b[0m\u001b[0;34m)\u001b[0m\u001b[0;34m\u001b[0m\u001b[0;34m\u001b[0m\u001b[0m\n\u001b[0m\u001b[1;32m     48\u001b[0m \u001b[0mcollection2\u001b[0m\u001b[0;34m[\u001b[0m\u001b[0;34m'tokenized_ans'\u001b[0m\u001b[0;34m]\u001b[0m \u001b[0;34m=\u001b[0m \u001b[0mcollection2\u001b[0m\u001b[0;34m.\u001b[0m\u001b[0mapply\u001b[0m\u001b[0;34m(\u001b[0m\u001b[0;32mlambda\u001b[0m \u001b[0mrow\u001b[0m\u001b[0;34m:\u001b[0m \u001b[0mwordpunct_tokenize\u001b[0m\u001b[0;34m(\u001b[0m\u001b[0mrow\u001b[0m\u001b[0;34m[\u001b[0m\u001b[0;34m'doc_processed'\u001b[0m\u001b[0;34m]\u001b[0m\u001b[0;34m)\u001b[0m\u001b[0;34m,\u001b[0m \u001b[0maxis\u001b[0m\u001b[0;34m=\u001b[0m\u001b[0;36m1\u001b[0m\u001b[0;34m)\u001b[0m\u001b[0;34m\u001b[0m\u001b[0;34m\u001b[0m\u001b[0m\n\u001b[1;32m     49\u001b[0m \u001b[0mcollection2\u001b[0m\u001b[0;34m[\u001b[0m\u001b[0;34m'ans_len'\u001b[0m\u001b[0;34m]\u001b[0m \u001b[0;34m=\u001b[0m \u001b[0mcollection2\u001b[0m\u001b[0;34m.\u001b[0m\u001b[0mapply\u001b[0m\u001b[0;34m(\u001b[0m\u001b[0;32mlambda\u001b[0m \u001b[0mrow\u001b[0m\u001b[0;34m:\u001b[0m \u001b[0mlen\u001b[0m\u001b[0;34m(\u001b[0m\u001b[0mrow\u001b[0m\u001b[0;34m[\u001b[0m\u001b[0;34m'tokenized_ans'\u001b[0m\u001b[0;34m]\u001b[0m\u001b[0;34m)\u001b[0m\u001b[0;34m,\u001b[0m \u001b[0maxis\u001b[0m\u001b[0;34m=\u001b[0m\u001b[0;36m1\u001b[0m\u001b[0;34m)\u001b[0m\u001b[0;34m\u001b[0m\u001b[0;34m\u001b[0m\u001b[0m\n",
      "\u001b[0;32m/usr/local/lib/python3.6/dist-packages/pandas/core/series.py\u001b[0m in \u001b[0;36mapply\u001b[0;34m(self, func, convert_dtype, args, **kwds)\u001b[0m\n\u001b[1;32m   4043\u001b[0m             \u001b[0;32melse\u001b[0m\u001b[0;34m:\u001b[0m\u001b[0;34m\u001b[0m\u001b[0;34m\u001b[0m\u001b[0m\n\u001b[1;32m   4044\u001b[0m                 \u001b[0mvalues\u001b[0m \u001b[0;34m=\u001b[0m \u001b[0mself\u001b[0m\u001b[0;34m.\u001b[0m\u001b[0mastype\u001b[0m\u001b[0;34m(\u001b[0m\u001b[0mobject\u001b[0m\u001b[0;34m)\u001b[0m\u001b[0;34m.\u001b[0m\u001b[0mvalues\u001b[0m\u001b[0;34m\u001b[0m\u001b[0;34m\u001b[0m\u001b[0m\n\u001b[0;32m-> 4045\u001b[0;31m                 \u001b[0mmapped\u001b[0m \u001b[0;34m=\u001b[0m \u001b[0mlib\u001b[0m\u001b[0;34m.\u001b[0m\u001b[0mmap_infer\u001b[0m\u001b[0;34m(\u001b[0m\u001b[0mvalues\u001b[0m\u001b[0;34m,\u001b[0m \u001b[0mf\u001b[0m\u001b[0;34m,\u001b[0m \u001b[0mconvert\u001b[0m\u001b[0;34m=\u001b[0m\u001b[0mconvert_dtype\u001b[0m\u001b[0;34m)\u001b[0m\u001b[0;34m\u001b[0m\u001b[0;34m\u001b[0m\u001b[0m\n\u001b[0m\u001b[1;32m   4046\u001b[0m \u001b[0;34m\u001b[0m\u001b[0m\n\u001b[1;32m   4047\u001b[0m         \u001b[0;32mif\u001b[0m \u001b[0mlen\u001b[0m\u001b[0;34m(\u001b[0m\u001b[0mmapped\u001b[0m\u001b[0;34m)\u001b[0m \u001b[0;32mand\u001b[0m \u001b[0misinstance\u001b[0m\u001b[0;34m(\u001b[0m\u001b[0mmapped\u001b[0m\u001b[0;34m[\u001b[0m\u001b[0;36m0\u001b[0m\u001b[0;34m]\u001b[0m\u001b[0;34m,\u001b[0m \u001b[0mSeries\u001b[0m\u001b[0;34m)\u001b[0m\u001b[0;34m:\u001b[0m\u001b[0;34m\u001b[0m\u001b[0;34m\u001b[0m\u001b[0m\n",
      "\u001b[0;32mpandas/_libs/lib.pyx\u001b[0m in \u001b[0;36mpandas._libs.lib.map_infer\u001b[0;34m()\u001b[0m\n",
      "\u001b[0;32m<ipython-input-2-2f4d3b196d21>\u001b[0m in \u001b[0;36mpre_process\u001b[0;34m(doc)\u001b[0m\n\u001b[1;32m     15\u001b[0m \u001b[0;32mdef\u001b[0m \u001b[0mpre_process\u001b[0m\u001b[0;34m(\u001b[0m\u001b[0mdoc\u001b[0m\u001b[0;34m)\u001b[0m\u001b[0;34m:\u001b[0m\u001b[0;34m\u001b[0m\u001b[0;34m\u001b[0m\u001b[0m\n\u001b[1;32m     16\u001b[0m     \u001b[0mdoc\u001b[0m \u001b[0;34m=\u001b[0m \u001b[0mstr\u001b[0m\u001b[0;34m(\u001b[0m\u001b[0mdoc\u001b[0m\u001b[0;34m)\u001b[0m\u001b[0;34m\u001b[0m\u001b[0;34m\u001b[0m\u001b[0m\n\u001b[0;32m---> 17\u001b[0;31m     \u001b[0mx\u001b[0m \u001b[0;34m=\u001b[0m \u001b[0mre\u001b[0m\u001b[0;34m.\u001b[0m\u001b[0msub\u001b[0m\u001b[0;34m(\u001b[0m\u001b[0;34m'[…“”%!&\"@#()\\-\\*\\+,/:;<=>?@[\\]\\^_`{\\}~]'\u001b[0m\u001b[0;34m,\u001b[0m \u001b[0;34m' '\u001b[0m\u001b[0;34m,\u001b[0m \u001b[0mdoc\u001b[0m\u001b[0;34m)\u001b[0m\u001b[0;34m\u001b[0m\u001b[0;34m\u001b[0m\u001b[0m\n\u001b[0m\u001b[1;32m     18\u001b[0m     \u001b[0my\u001b[0m \u001b[0;34m=\u001b[0m \u001b[0mre\u001b[0m\u001b[0;34m.\u001b[0m\u001b[0msub\u001b[0m\u001b[0;34m(\u001b[0m\u001b[0;34m'[\\.\\']'\u001b[0m\u001b[0;34m,\u001b[0m \u001b[0;34m\"\"\u001b[0m\u001b[0;34m,\u001b[0m \u001b[0mx\u001b[0m\u001b[0;34m)\u001b[0m\u001b[0;34m\u001b[0m\u001b[0;34m\u001b[0m\u001b[0m\n\u001b[1;32m     19\u001b[0m     \u001b[0mz\u001b[0m \u001b[0;34m=\u001b[0m \u001b[0my\u001b[0m\u001b[0;34m.\u001b[0m\u001b[0mlower\u001b[0m\u001b[0;34m(\u001b[0m\u001b[0;34m)\u001b[0m\u001b[0;34m\u001b[0m\u001b[0;34m\u001b[0m\u001b[0m\n",
      "\u001b[0;32m/usr/local/lib/python3.6/dist-packages/regex/regex.py\u001b[0m in \u001b[0;36msub\u001b[0;34m(pattern, repl, string, count, flags, pos, endpos, concurrent, timeout, **kwargs)\u001b[0m\n\u001b[1;32m    274\u001b[0m     object and must return a replacement string to be used.\"\"\"\n\u001b[1;32m    275\u001b[0m     return _compile(pattern, flags, kwargs).sub(repl, string, count, pos,\n\u001b[0;32m--> 276\u001b[0;31m       endpos, concurrent, timeout)\n\u001b[0m\u001b[1;32m    277\u001b[0m \u001b[0;34m\u001b[0m\u001b[0m\n\u001b[1;32m    278\u001b[0m def subf(pattern, format, string, count=0, flags=0, pos=None, endpos=None,\n",
      "\u001b[0;31mKeyboardInterrupt\u001b[0m: "
     ]
    }
   ],
   "source": [
    "\n",
    "\n",
    "# Cleaning data\n",
    "empty_docs = []\n",
    "empty_id = []\n",
    "\n",
    "for index, row in collection.iterrows():\n",
    "    if pd.isna(row['doc']):\n",
    "        empty_docs.append(row['docid'])\n",
    "        empty_id.append(index)\n",
    "\n",
    "# print(empty_docs)\n",
    "print(empty_id)\n",
    "\n",
    "# Remove empty answers\n",
    "collection2 = collection.drop(empty_id)\n",
    "\n",
    "# Answers Tokenization\n",
    "collection2['doc_processed'] = collection2['doc'].apply(pre_process)\n",
    "collection2['tokenized_ans'] = collection2.apply(lambda row: wordpunct_tokenize(row['doc_processed']), axis=1)\n",
    "collection2['ans_len'] = collection2.apply(lambda row: len(row['tokenized_ans']), axis=1)\n",
    "\n",
    "collection2.head(5)\n",
    "\n",
    "len(collection2)\n",
    "\n",
    "avg_ans_count = collection2['ans_len'].mean()\n",
    "\n",
    "print(avg_ans_count)\n",
    "\n",
    "# Questions Tokenization\n",
    "queries = queries.copy()\n",
    "queries['q_processed'] = queries['question'].apply(pre_process)\n",
    "queries['tokenized_q'] = queries.apply(lambda row: wordpunct_tokenize(row['q_processed']), axis=1)\n",
    "queries['q_len'] = queries.apply(lambda row: len(row['tokenized_q']), axis=1)\n",
    "\n",
    "queries.head(5)\n",
    "\n",
    "avg_q_count = queries['q_len'].mean()\n",
    "\n",
    "print(avg_q_count)\n",
    "\n",
    "# collection2.to_csv(\"processed_ans.csv\", index=None)\n",
    "# queries.to_csv(\"processed_q.csv\", index=None)"
   ]
  },
  {
   "cell_type": "code",
   "execution_count": 0,
   "metadata": {
    "colab": {
     "base_uri": "https://localhost:8080/",
     "height": 55
    },
    "colab_type": "code",
    "id": "4q5Lo7IdN3x2",
    "outputId": "76a60cf9-5295-4a5d-8312-1ca16d02550e"
   },
   "outputs": [
    {
     "name": "stdout",
     "output_type": "stream",
     "text": [
      "[7915, 12229, 14135, 33445, 40982, 54960, 66248, 115636, 117276, 126502, 138418, 153104, 167128, 169220, 189754, 206368, 207473, 215635, 237392, 248226, 254541, 290110, 319894, 325407, 356535, 358213, 360125, 399083, 414219, 441462, 447488, 470232, 486245, 528558, 552533, 572451, 587667, 597929]\n"
     ]
    }
   ],
   "source": [
    "print(empty_docs)"
   ]
  },
  {
   "cell_type": "code",
   "execution_count": 0,
   "metadata": {
    "colab": {
     "base_uri": "https://localhost:8080/",
     "height": 35
    },
    "colab_type": "code",
    "id": "KE4OQKWiKHyk",
    "outputId": "f1c1e783-972f-4273-c29e-e1e157c68e15"
   },
   "outputs": [
    {
     "data": {
      "text/plain": [
       "57600"
      ]
     },
     "execution_count": 21,
     "metadata": {
      "tags": []
     },
     "output_type": "execute_result"
    }
   ],
   "source": [
    "len(collection2)"
   ]
  },
  {
   "cell_type": "code",
   "execution_count": 0,
   "metadata": {
    "colab": {},
    "colab_type": "code",
    "id": "U6Gd_18RJoHi"
   },
   "outputs": [],
   "source": [
    "with open('empty_docs.pickle', 'wb') as handle:\n",
    "    pickle.dump(empty_docs, handle, protocol=pickle.HIGHEST_PROTOCOL)"
   ]
  },
  {
   "cell_type": "code",
   "execution_count": 0,
   "metadata": {
    "colab": {},
    "colab_type": "code",
    "id": "1yUEw_LSzmp4"
   },
   "outputs": [],
   "source": [
    "# word2index = {\"PAD\": 0}\n",
    "# word2count = {}\n",
    "\n",
    "# idx = 1\n",
    "\n",
    "# for index, row in collection2.iterrows():\n",
    "#     for word in row['tokenized_ans']:\n",
    "#         if word not in word2index:\n",
    "#             word2index[word] = idx\n",
    "#             idx += 1\n",
    "#             word2count[word] = 1\n",
    "#         else:\n",
    "#             word2count[word] += 1\n",
    "            \n",
    "# ans_vocab_size = len(word2index)\n",
    "\n",
    "# print(\"Answer vocab size: {}\".format(ans_vocab_size))\n",
    "\n",
    "# idx = len(word2index)\n",
    "\n",
    "# for index, row in queries.iterrows():\n",
    "#     for word in row['tokenized_q']:\n",
    "#         if word not in word2index:\n",
    "#             word2index[word] = idx\n",
    "#             idx += 1\n",
    "#             word2count[word] = 1\n",
    "#         else:\n",
    "#             word2count[word] += 1\n",
    "\n",
    "# print(len(word2index))\n",
    "\n",
    "# q_vocab_size = len(word2index) - ans_vocab_size\n",
    "# print(\"Question vocab size: {}\".format(q_vocab_size))"
   ]
  },
  {
   "cell_type": "code",
   "execution_count": 0,
   "metadata": {
    "colab": {},
    "colab_type": "code",
    "id": "zAadkfOAznRh"
   },
   "outputs": [],
   "source": [
    "# # Reduce the size of the vocabuary\n",
    "# word2idx = {\"PAD\": 0}\n",
    "# word2c = {}\n",
    "# idx = 1\n",
    "\n",
    "# for word, count in word2count.items():\n",
    "#     if count > 3:\n",
    "#         if word not in word2idx:\n",
    "#             word2idx[word] = idx\n",
    "#             idx += 1\n",
    "#             word2c[word] = count\n",
    "\n",
    "# print(word2idx)"
   ]
  },
  {
   "cell_type": "code",
   "execution_count": 0,
   "metadata": {
    "colab": {},
    "colab_type": "code",
    "id": "TPX2NhQ2zrh0"
   },
   "outputs": [],
   "source": [
    "# # Vocab size\n",
    "# len(word2idx)\n",
    "\n",
    "# c = Counter(word2c)\n",
    "# mc = c.most_common(30)"
   ]
  },
  {
   "cell_type": "code",
   "execution_count": 0,
   "metadata": {
    "colab": {},
    "colab_type": "code",
    "id": "qZLQA08Dzvtz"
   },
   "outputs": [],
   "source": [
    "# with open('vocab_full.pickle', 'wb') as handle:\n",
    "#     pickle.dump(word2index, handle, protocol=pickle.HIGHEST_PROTOCOL)\n",
    "# with open('vocab.pickle', 'wb') as handle:\n",
    "#     pickle.dump(word2idx, handle, protocol=pickle.HIGHEST_PROTOCOL)\n",
    "\n",
    "# with open('vocab_count.pickle', 'wb') as handle:\n",
    "#     pickle.dump(word2c, handle, protocol=pickle.HIGHEST_PROTOCOL)\n",
    "\n",
    "# # Label to answer text\n",
    "# docid_tokenized = collection2[['docid', 'tokenized_ans']]\n",
    "\n",
    "# docid_tokenized.head(5)\n",
    "\n",
    "# label_to_ans = {}\n",
    "\n",
    "# for index, row in docid_tokenized.iterrows():\n",
    "#     label_to_ans[row['docid']] = row['tokenized_ans']\n",
    "\n",
    "# print(take(5, label_to_ans.items()))\n",
    "\n",
    "# with open('label_ans.pickle', 'wb') as handle:\n",
    "#     pickle.dump(label_to_ans, handle, protocol=pickle.HIGHEST_PROTOCOL)"
   ]
  },
  {
   "cell_type": "code",
   "execution_count": 0,
   "metadata": {
    "colab": {},
    "colab_type": "code",
    "id": "fQzlrA_izwbg"
   },
   "outputs": [],
   "source": [
    "# # Question to question text\n",
    "# q_tokenized = queries[['qid', 'tokenized_q']]\n",
    "\n",
    "# qid_to_text = {}\n",
    "\n",
    "# for index, row in q_tokenized.iterrows():\n",
    "#     qid_to_text[row['qid']] = row['tokenized_q']\n",
    "\n",
    "# print(take(5, qid_to_text.items()))\n",
    "\n",
    "# with open('qid_text.pickle', 'wb') as handle:\n",
    "#     pickle.dump(qid_to_text, handle, protocol=pickle.HIGHEST_PROTOCOL)"
   ]
  },
  {
   "cell_type": "code",
   "execution_count": 0,
   "metadata": {
    "colab": {},
    "colab_type": "code",
    "id": "7lcHJVB50beB"
   },
   "outputs": [],
   "source": [
    "# Answer Ranking for each question\n",
    "doc_ranking = pd.read_csv(path + \"run_train_small.tsv\", sep=\"\\t\", header=None)\n",
    "doc_ranking = doc_ranking.rename(columns={0: 'qid', 1: 'doc_id', 3:'rank'})\n",
    "\n",
    "# Create dict for query id and ranked candidates\n",
    "# key: query ids, values: list of 1000 ranked candidates\n",
    "qid_ranked_docs = {}\n",
    "\n",
    "with open(path + \"run_train_small.tsv\",'r') as f:\n",
    "    for line in f:\n",
    "        # [qid, doc_id, rank]\n",
    "        line = line.strip().split('\\t')\n",
    "        qid = int(line[0])\n",
    "        doc_id = int(line[1])\n",
    "        rank = int(line[2])\n",
    "        \n",
    "        if qid not in qid_ranked_docs:\n",
    "            # Create a list of size 1000 for each query to store the candidates\n",
    "            candidates = [0]*100\n",
    "            qid_ranked_docs[qid] = candidates\n",
    "        qid_ranked_docs[qid][rank-1] = doc_id\n",
    "        \n",
    "print(take(1, qid_ranked_docs.items()))\n",
    "\n",
    "save_pickle('qid_ranked_docs_100.pickle', qid_ranked_docs)"
   ]
  },
  {
   "cell_type": "code",
   "execution_count": 0,
   "metadata": {
    "colab": {},
    "colab_type": "code",
    "id": "rIT1j0BnzMhp"
   },
   "outputs": [],
   "source": [
    "# qid_rel = {}\n",
    "\n",
    "# for index, row in qid_docid.iterrows():\n",
    "    \n",
    "#     if row['qid'] not in qid_rel:\n",
    "#         qid_rel[row['qid']] = []\n",
    "#     qid_rel[row['qid']].append(row['docid'])\n",
    "    \n",
    "# with open('qid_rel.pickle', 'wb') as handle:\n",
    "#     pickle.dump(qid_rel, handle, protocol=pickle.HIGHEST_PROTOCOL)"
   ]
  }
 ],
 "metadata": {
  "colab": {
   "collapsed_sections": [],
   "name": "process_data.ipynb",
   "provenance": []
  },
  "kernelspec": {
   "display_name": "Python 3",
   "language": "python",
   "name": "python3"
  },
  "language_info": {
   "codemirror_mode": {
    "name": "ipython",
    "version": 3
   },
   "file_extension": ".py",
   "mimetype": "text/x-python",
   "name": "python",
   "nbconvert_exporter": "python",
   "pygments_lexer": "ipython3",
   "version": "3.6.8"
  }
 },
 "nbformat": 4,
 "nbformat_minor": 1
}
