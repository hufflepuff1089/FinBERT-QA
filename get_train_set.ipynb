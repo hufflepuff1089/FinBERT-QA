{
  "nbformat": 4,
  "nbformat_minor": 0,
  "metadata": {
    "colab": {
      "name": "get_train_set.ipynb",
      "provenance": [],
      "collapsed_sections": []
    },
    "kernelspec": {
      "name": "python3",
      "display_name": "Python 3"
    },
    "accelerator": "GPU"
  },
  "cells": [
    {
      "cell_type": "code",
      "metadata": {
        "id": "ynB7UkVIur1d",
        "colab_type": "code",
        "outputId": "1ba74497-5976-4f02-d49c-8f1b85dea597",
        "colab": {
          "base_uri": "https://localhost:8080/",
          "height": 128
        }
      },
      "source": [
        "from google.colab import drive\n",
        "drive.mount('/content/drive')"
      ],
      "execution_count": 1,
      "outputs": [
        {
          "output_type": "stream",
          "text": [
            "Go to this URL in a browser: https://accounts.google.com/o/oauth2/auth?client_id=947318989803-6bn6qk8qdgf4n4g3pfee6491hc0brc4i.apps.googleusercontent.com&redirect_uri=urn%3aietf%3awg%3aoauth%3a2.0%3aoob&response_type=code&scope=email%20https%3a%2f%2fwww.googleapis.com%2fauth%2fdocs.test%20https%3a%2f%2fwww.googleapis.com%2fauth%2fdrive%20https%3a%2f%2fwww.googleapis.com%2fauth%2fdrive.photos.readonly%20https%3a%2f%2fwww.googleapis.com%2fauth%2fpeopleapi.readonly\n",
            "\n",
            "Enter your authorization code:\n",
            "··········\n",
            "Mounted at /content/drive\n"
          ],
          "name": "stdout"
        }
      ]
    },
    {
      "cell_type": "code",
      "metadata": {
        "id": "4lNQTUHTuvL1",
        "colab_type": "code",
        "outputId": "fa3da9e5-0d5c-44b5-b503-470c42a14068",
        "colab": {
          "base_uri": "https://localhost:8080/",
          "height": 163
        }
      },
      "source": [
        "import pandas as pd\n",
        "import numpy as np\n",
        "import time\n",
        "import spacy\n",
        "import random\n",
        "from pathlib import Path\n",
        "import torch \n",
        "import torch.nn as nn\n",
        "import torch.nn.functional as F\n",
        "import torch.optim as optim\n",
        "from torchtext import data \n",
        "import torchtext\n",
        "from nltk.tokenize.treebank import TreebankWordDetokenizer\n",
        "import csv\n",
        "from itertools import islice\n",
        "import nltk\n",
        "nltk.download('punkt')\n",
        "\n",
        "from nltk import word_tokenize,sent_tokenize\n",
        "from nltk.tokenize import wordpunct_tokenize\n",
        "import regex as re\n",
        "import pickle\n",
        "from collections import Counter\n",
        "from tqdm import tqdm\n",
        "import itertools\n",
        "import math\n",
        "\n",
        "# Setting device on GPU if available\n",
        "device = torch.device('cuda' if torch.cuda.is_available() else 'cpu')\n",
        "print('Using device:', device)\n",
        "print()\n",
        "\n",
        "if device.type == 'cuda':\n",
        "    print(torch.cuda.get_device_name(0))\n",
        "    print('Memory Usage:')\n",
        "    print('Allocated:', round(torch.cuda.memory_allocated(0)/1024**3,1), 'GB')\n",
        "    print('Cached:   ', round(torch.cuda.memory_cached(0)/1024**3,1), 'GB')\n",
        "\n",
        "torch.backends.cudnn.deterministic = True\n",
        "\n",
        "# Set the random seed manually for reproducibility.\n",
        "torch.manual_seed(1234)\n",
        "\n",
        "path = \"drive/My Drive/FiQA/\"\n",
        "\n",
        "def take(n, iterable):\n",
        "    \"Return first n items of the iterable as a list\"\n",
        "    return list(islice(iterable, n))\n",
        "\n",
        "def load_pickle(path):\n",
        "    with open(path, 'rb') as f:\n",
        "        return pickle.load(f)\n",
        "\n",
        "def save_pickle(path, data):\n",
        "    with open(path, 'wb') as handle:\n",
        "        pickle.dump(data, handle, protocol=pickle.HIGHEST_PROTOCOL)"
      ],
      "execution_count": 2,
      "outputs": [
        {
          "output_type": "stream",
          "text": [
            "[nltk_data] Downloading package punkt to /root/nltk_data...\n",
            "[nltk_data]   Unzipping tokenizers/punkt.zip.\n",
            "Using device: cuda\n",
            "\n",
            "Tesla T4\n",
            "Memory Usage:\n",
            "Allocated: 0.0 GB\n",
            "Cached:    0.0 GB\n"
          ],
          "name": "stdout"
        }
      ]
    },
    {
      "cell_type": "code",
      "metadata": {
        "id": "m-Zi47sGu0jC",
        "colab_type": "code",
        "colab": {}
      },
      "source": [
        "# path = \"drive/My Drive/FiQA/\"\n",
        "\n",
        "# # Doc ID to Doc text\n",
        "# collection = pd.read_csv(path + \"FiQA_train_doc_final.tsv\", sep=\"\\t\")\n",
        "# collection = collection[['docid', 'doc']]\n",
        "# collection = collection.sort_values(by=['docid'])\n",
        "\n",
        "# # Question ID and Question text\n",
        "# query_df = pd.read_csv(path + \"FiQA_train_question_final.tsv\", sep=\"\\t\")\n",
        "\n",
        "# queries = query_df[['qid', 'question']]\n",
        "\n",
        "# all_answers_id = collection['docid'].to_list()\n",
        "# #print(all_answers_id)\n",
        "\n",
        "# # Question ID and Answer ID pair\n",
        "# qid_docid = pd.read_csv(path + \"FiQA_train_question_doc_final.tsv\", sep=\"\\t\")\n",
        "\n",
        "# qid_docid = qid_docid [['qid', 'docid']]\n",
        "\n",
        "# # Cleaning data\n",
        "# empty_docs = []\n",
        "# empty_id = []\n",
        "\n",
        "# for index, row in collection.iterrows():\n",
        "#     if pd.isna(row['doc']):\n",
        "#         empty_docs.append(row['docid'])\n",
        "#         empty_id.append(index)\n",
        "\n",
        "# # print(empty_docs)\n",
        "# print(empty_id)\n",
        "\n",
        "# # Remove empty answers\n",
        "# collection2 = collection.drop(empty_id)\n",
        "\n",
        "# # Answers Tokenization\n",
        "# collection2['doc_processed'] = collection2['doc'].apply(pre_process)\n",
        "# collection2['tokenized_ans'] = collection2.apply(lambda row: wordpunct_tokenize(row['doc_processed']), axis=1)\n",
        "# collection2['ans_len'] = collection2.apply(lambda row: len(row['tokenized_ans']), axis=1)\n",
        "\n",
        "# collection2.head(5)\n",
        "\n",
        "# len(collection2)\n",
        "\n",
        "# avg_ans_count = collection2['ans_len'].mean()\n",
        "\n",
        "# print(avg_ans_count)\n",
        "\n",
        "# # Questions Tokenization\n",
        "# queries = queries.copy()\n",
        "# queries['q_processed'] = queries['question'].apply(pre_process)\n",
        "# queries['tokenized_q'] = queries.apply(lambda row: wordpunct_tokenize(row['q_processed']), axis=1)\n",
        "# queries['q_len'] = queries.apply(lambda row: len(row['tokenized_q']), axis=1)\n",
        "\n",
        "# queries.head(5)\n",
        "\n",
        "# avg_q_count = queries['q_len'].mean()\n",
        "\n",
        "# print(avg_q_count)\n",
        "\n",
        "# # collection2.to_csv(\"processed_ans.csv\", index=None)\n",
        "# # queries.to_csv(\"processed_q.csv\", index=None)"
      ],
      "execution_count": 0,
      "outputs": []
    },
    {
      "cell_type": "code",
      "metadata": {
        "id": "dost2lydxkRr",
        "colab_type": "code",
        "colab": {}
      },
      "source": [
        "train_qid_rel = load_pickle(path + \"data-bert/qid_rel_train_new.pickle\")\n",
        "# valid_qid_rel = load_pickle(path + \"qid_rel_valid.pickle\")"
      ],
      "execution_count": 0,
      "outputs": []
    },
    {
      "cell_type": "code",
      "metadata": {
        "id": "bl--NWRWvb5j",
        "colab_type": "code",
        "colab": {}
      },
      "source": [
        "# qid_rel = {}\n",
        "\n",
        "# for index, row in qid_docid.iterrows():\n",
        "    \n",
        "#     if row['qid'] not in qid_rel:\n",
        "#         qid_rel[row['qid']] = []\n",
        "#     qid_rel[row['qid']].append(row['docid'])"
      ],
      "execution_count": 0,
      "outputs": []
    },
    {
      "cell_type": "code",
      "metadata": {
        "id": "MzjH54ufvY0j",
        "colab_type": "code",
        "colab": {}
      },
      "source": [
        "# Answer Ranking for each question\n",
        "# doc_ranking = pd.read_csv(path + \"run_train_small.tsv\", sep=\"\\t\", header=None)\n",
        "# doc_ranking = doc_ranking.rename(columns={0: 'qid', 1: 'doc_id', 3:'rank'})\n",
        "\n",
        "# Create dict for query id and ranked candidates\n",
        "# key: query ids, values: list of 1000 ranked candidates\n",
        "def load_cands(path):\n",
        "    qid_ranked_docs = {}\n",
        "\n",
        "    with open(path,'r') as f:\n",
        "        for line in f:\n",
        "            # [qid, doc_id, rank]\n",
        "            line = line.strip().split('\\t')\n",
        "            qid = int(line[0])\n",
        "            doc_id = int(line[1])\n",
        "            rank = int(line[2])\n",
        "            \n",
        "            if qid not in qid_ranked_docs:\n",
        "                # Create a list of size 500 for each query to store the candidates\n",
        "                candidates = [0]*500\n",
        "                qid_ranked_docs[qid] = candidates\n",
        "            qid_ranked_docs[qid][rank-1] = doc_id\n",
        "\n",
        "    return qid_ranked_docs"
      ],
      "execution_count": 0,
      "outputs": []
    },
    {
      "cell_type": "code",
      "metadata": {
        "id": "oRG4IePo1Uhj",
        "colab_type": "code",
        "colab": {}
      },
      "source": [
        "train_cands = load_cands(path + \"data-bert/cands_train_500.tsv\")\n",
        "# valid_cands = load_cands(path + \"data/cands_valid_500.tsv\")\n",
        "# test_cands = load_cands(path + \"data/cands_test_500.tsv\")"
      ],
      "execution_count": 0,
      "outputs": []
    },
    {
      "cell_type": "code",
      "metadata": {
        "id": "7d9JyjrxHvPc",
        "colab_type": "code",
        "outputId": "29e33c73-39af-4718-89b9-e7330c559bb8",
        "colab": {
          "base_uri": "https://localhost:8080/",
          "height": 35
        }
      },
      "source": [
        "len(train_cands)"
      ],
      "execution_count": 8,
      "outputs": [
        {
          "output_type": "execute_result",
          "data": {
            "text/plain": [
              "6315"
            ]
          },
          "metadata": {
            "tags": []
          },
          "execution_count": 8
        }
      ]
    },
    {
      "cell_type": "code",
      "metadata": {
        "id": "1Dbjj2SS2Tnk",
        "colab_type": "code",
        "outputId": "b6d4c395-286a-432c-fd80-618c4677c412",
        "colab": {
          "base_uri": "https://localhost:8080/",
          "height": 199
        }
      },
      "source": [
        "take(10, train_qid_rel.items())"
      ],
      "execution_count": 10,
      "outputs": [
        {
          "output_type": "execute_result",
          "data": {
            "text/plain": [
              "[(0, [18850]),\n",
              " (2, [308938]),\n",
              " (3, [296717, 100764, 314352, 146317]),\n",
              " (4, [196463]),\n",
              " (5, [69306]),\n",
              " (6, [560251, 188530, 564488]),\n",
              " (9, [509122, 184698]),\n",
              " (11, [596427]),\n",
              " (12, [192516, 338700, 158738]),\n",
              " (13, [503678])]"
            ]
          },
          "metadata": {
            "tags": []
          },
          "execution_count": 10
        }
      ]
    },
    {
      "cell_type": "code",
      "metadata": {
        "id": "PAawc0qbS2os",
        "colab_type": "code",
        "colab": {}
      },
      "source": [
        "# Get train and validation set\n",
        "def get_data_set(qid_rel, cands, cand_size):\n",
        "    data_set = []\n",
        "\n",
        "    for qid, pos_ans_lst in tqdm(qid_rel.items()):\n",
        "        num_sample = math.floor(cand_size/len(pos_ans_lst))\n",
        "        for i, cand_lst in cands.items():\n",
        "            trimed_cand = [x for x in cand_lst if x not in pos_ans_lst]\n",
        "\n",
        "        # If there is only 1 rel doc\n",
        "        if num_sample == cand_size:\n",
        "            for _ in range(cand_size):\n",
        "                tmp = []\n",
        "                tmp.append(qid)\n",
        "                tmp.append(pos_ans_lst[0])\n",
        "                neg_doc = random.choice(trimed_cand)\n",
        "                tmp.append(neg_doc)\n",
        "                data_set.append(tmp)\n",
        "        else:\n",
        "            for _ in range(num_sample):\n",
        "                for j in range(len(pos_ans_lst)):\n",
        "                    tmp = []\n",
        "                    tmp.append(qid)\n",
        "                    tmp.append(pos_ans_lst[j])\n",
        "                    neg_doc = random.choice(trimed_cand)\n",
        "                    tmp.append(neg_doc)\n",
        "                    data_set.append(tmp)\n",
        "            for k in range(cand_size % len(pos_ans_lst)):\n",
        "                tmp = []\n",
        "                tmp.append(qid)\n",
        "                tmp.append(pos_ans_lst[k])\n",
        "                neg_doc = random.choice(trimed_cand)\n",
        "                tmp.append(neg_doc)\n",
        "                data_set.append(tmp)\n",
        "\n",
        "    for row in data_set:\n",
        "        assert len(row) == 3, \"Train/Valid set length is incorrect!\"\n",
        "\n",
        "    assert len(data_set) == cand_size*len(cands), \"Dataset size is incorrect!\"\n",
        "\n",
        "    return data_set"
      ],
      "execution_count": 0,
      "outputs": []
    },
    {
      "cell_type": "code",
      "metadata": {
        "id": "w834jRoFTVik",
        "colab_type": "code",
        "outputId": "963db072-a813-4bf6-e184-65a564f0f26e",
        "colab": {
          "base_uri": "https://localhost:8080/",
          "height": 35
        }
      },
      "source": [
        "cand_size = 50\n",
        "\n",
        "train_set = get_data_set(train_qid_rel, train_cands, cand_size)\n",
        "# valid_set = get_data_set(valid_qid_rel, valid_cands, cand_size)"
      ],
      "execution_count": 12,
      "outputs": [
        {
          "output_type": "stream",
          "text": [
            "100%|██████████| 6315/6315 [22:51<00:00,  5.08it/s]\n"
          ],
          "name": "stderr"
        }
      ]
    },
    {
      "cell_type": "code",
      "metadata": {
        "id": "a6IVuleH_sdu",
        "colab_type": "code",
        "colab": {}
      },
      "source": [
        "# with open(path+'data/data_valid_300.pickle', 'wb') as handle:\n",
        "#     pickle.dump(valid_set, handle, protocol=pickle.HIGHEST_PROTOCOL)\n",
        "\n",
        "with open(path+'data-bert/data_train_50.pickle', 'wb') as handle:\n",
        "    pickle.dump(train_set, handle, protocol=pickle.HIGHEST_PROTOCOL)"
      ],
      "execution_count": 0,
      "outputs": []
    },
    {
      "cell_type": "code",
      "metadata": {
        "id": "ws6g1zIBUPts",
        "colab_type": "code",
        "colab": {
          "base_uri": "https://localhost:8080/",
          "height": 108
        },
        "outputId": "1863d8f6-2c3a-443c-eb0f-607babf390d2"
      },
      "source": [
        "take(5, train_qid_rel.items())"
      ],
      "execution_count": 14,
      "outputs": [
        {
          "output_type": "execute_result",
          "data": {
            "text/plain": [
              "[(0, [18850]),\n",
              " (2, [308938]),\n",
              " (3, [296717, 100764, 314352, 146317]),\n",
              " (4, [196463]),\n",
              " (5, [69306])]"
            ]
          },
          "metadata": {
            "tags": []
          },
          "execution_count": 14
        }
      ]
    },
    {
      "cell_type": "code",
      "metadata": {
        "id": "gTQIM2IQv2rC",
        "colab_type": "code",
        "colab": {}
      },
      "source": [
        "test_qid_rel = load_pickle(path + \"qid_rel_test.pickle\")\n",
        "test_cands = load_cands(path + \"data/cands_test_500.tsv\")\n",
        "\n",
        "# take(5, test_qid_rel.items())"
      ],
      "execution_count": 0,
      "outputs": []
    },
    {
      "cell_type": "code",
      "metadata": {
        "id": "FORr-L8_9Sfr",
        "colab_type": "code",
        "outputId": "0c9a6ca0-696f-4a2b-c8ac-984f1f97fa98",
        "colab": {
          "base_uri": "https://localhost:8080/",
          "height": 35
        }
      },
      "source": [
        "# Get test set\n",
        "test_set = []\n",
        "\n",
        "for qid, docid in tqdm(test_qid_rel.items()):\n",
        "    for k, v in test_cands.items():\n",
        "        trimed_cand = [x for x in v if x not in docid]\n",
        "        cands = random.sample(trimed_cand, 500-len(docid))\n",
        "        cands.extend(docid)\n",
        "\n",
        "        if k == qid:\n",
        "            tmp = []\n",
        "            tmp.append(qid)\n",
        "            tmp.append(docid)\n",
        "            tmp.append(cands)\n",
        "            test_set.append(tmp)"
      ],
      "execution_count": 0,
      "outputs": [
        {
          "output_type": "stream",
          "text": [
            "100%|██████████| 333/333 [00:40<00:00,  8.50it/s]\n"
          ],
          "name": "stderr"
        }
      ]
    },
    {
      "cell_type": "code",
      "metadata": {
        "id": "Js42Pa0Yy7sN",
        "colab_type": "code",
        "colab": {}
      },
      "source": [
        "for row in test_set:\n",
        "     assert len(row[2]) == 500, \"Dataset size is incorrect!\""
      ],
      "execution_count": 0,
      "outputs": []
    },
    {
      "cell_type": "code",
      "metadata": {
        "id": "GWYiCI6s1LZX",
        "colab_type": "code",
        "outputId": "0167037a-bdc2-41ed-cdfa-5f6d3353e717",
        "colab": {
          "base_uri": "https://localhost:8080/",
          "height": 35
        }
      },
      "source": [
        "print(test_set[4][1])"
      ],
      "execution_count": 0,
      "outputs": [
        {
          "output_type": "stream",
          "text": [
            "[591357, 556021, 555097]\n"
          ],
          "name": "stdout"
        }
      ]
    },
    {
      "cell_type": "code",
      "metadata": {
        "id": "gNMmPw1n1Wg8",
        "colab_type": "code",
        "outputId": "ded125c1-8e83-4f61-bb1a-a89782baa766",
        "colab": {
          "base_uri": "https://localhost:8080/",
          "height": 55
        }
      },
      "source": [
        "print(test_set[4][2])"
      ],
      "execution_count": 0,
      "outputs": [
        {
          "output_type": "stream",
          "text": [
            "[77564, 111240, 104043, 141579, 591163, 510989, 484424, 124593, 529312, 376898, 412244, 69938, 483437, 99243, 535817, 590209, 40888, 476550, 509266, 166441, 88952, 122986, 205196, 572848, 263648, 570004, 346852, 595152, 558388, 249839, 193592, 449630, 67728, 105828, 21174, 361580, 315363, 417769, 509073, 550925, 47373, 84709, 478807, 163831, 300081, 21468, 127559, 433933, 395957, 467641, 395912, 414527, 175522, 434066, 407547, 288126, 279759, 414932, 336518, 550924, 89161, 464449, 237039, 108001, 261389, 407870, 158965, 338719, 160125, 174196, 304330, 100728, 487890, 452540, 138511, 400291, 305907, 592596, 18844, 104793, 532804, 1897, 473605, 101750, 52441, 29140, 346495, 446647, 422182, 593554, 95715, 113558, 435320, 385343, 164801, 71097, 277563, 289768, 237107, 296717, 48866, 35267, 120554, 579604, 72168, 401587, 341914, 213331, 323389, 264565, 575669, 203889, 334061, 355344, 200425, 199508, 162653, 336045, 154008, 428592, 310559, 277245, 180539, 578357, 585947, 202570, 387547, 9084, 1766, 404541, 372900, 311578, 530175, 361475, 194167, 176104, 97010, 327623, 481648, 109754, 326094, 29399, 244133, 118396, 400202, 309279, 537593, 284162, 277210, 393467, 151435, 274227, 190941, 237397, 291486, 506113, 558646, 108603, 25906, 78575, 579473, 361639, 264932, 546874, 395021, 213537, 98828, 230961, 28074, 539734, 231614, 564007, 244097, 160218, 549437, 498146, 322838, 206140, 134385, 521688, 246095, 580935, 269447, 298746, 453025, 72375, 147343, 166627, 515144, 333023, 398318, 96345, 226976, 151121, 99102, 310112, 53602, 195526, 162836, 481822, 347624, 592915, 456773, 259476, 60829, 94809, 128465, 563884, 576269, 466217, 438463, 263659, 44593, 394460, 317461, 106981, 359335, 60020, 521753, 408043, 543581, 258121, 554141, 20670, 113516, 170209, 114768, 438813, 75429, 297900, 256228, 423569, 170481, 408025, 478026, 396576, 365804, 84673, 224102, 386095, 217216, 558628, 183880, 88867, 5747, 591416, 73876, 15262, 395520, 475478, 73741, 553133, 127144, 91927, 456927, 155367, 98196, 53155, 42611, 463130, 233001, 542213, 376403, 186621, 118102, 58511, 350642, 405721, 455005, 16068, 50571, 415772, 343757, 165345, 89457, 402581, 308125, 447922, 195207, 158169, 122341, 388172, 252629, 132693, 113397, 97083, 533933, 390456, 458374, 467059, 535555, 177946, 327366, 291278, 291578, 58120, 229911, 135675, 547303, 271116, 96674, 594252, 40338, 462036, 175524, 517440, 176836, 430183, 91788, 26357, 297051, 551879, 431462, 538384, 205715, 163685, 277815, 115706, 385090, 81843, 468462, 337152, 545712, 524443, 438516, 251427, 145789, 158410, 191766, 174310, 213066, 316617, 160448, 253898, 132122, 193938, 50000, 362374, 517449, 5644, 278339, 121230, 24344, 583803, 298776, 292989, 60996, 469776, 210347, 339017, 57517, 15070, 398856, 32530, 584391, 482367, 319265, 80657, 530620, 436818, 583890, 284694, 565856, 265453, 299963, 41465, 310241, 204870, 174292, 304905, 270273, 509075, 484560, 60261, 64440, 143922, 453371, 307404, 474184, 136438, 249547, 597571, 123570, 363430, 371105, 481052, 186029, 374211, 440256, 375652, 489070, 180071, 462585, 221061, 282067, 228871, 59450, 88077, 537323, 125550, 531472, 495962, 773, 506831, 13582, 384018, 406711, 560025, 4044, 382347, 41012, 195584, 293295, 187734, 359039, 278678, 191925, 84263, 10790, 171339, 482385, 224259, 111999, 54838, 584258, 77248, 184386, 438740, 301447, 580560, 410252, 408124, 456098, 236982, 298729, 152827, 311736, 68472, 265160, 198705, 224057, 37960, 400230, 489093, 412084, 572842, 425794, 60562, 319276, 22960, 223645, 526989, 228703, 412258, 448981, 287896, 350396, 214024, 476923, 344003, 514425, 43046, 61230, 91471, 210536, 245705, 558611, 6106, 27283, 149577, 110270, 331616, 59411, 11936, 72854, 357113, 77570, 487502, 583694, 92245, 448769, 450925, 239572, 591566, 147594, 589718, 469515, 22651, 311690, 120544, 346035, 369202, 100593, 169980, 83724, 576362, 497672, 591357, 556021, 555097]\n"
          ],
          "name": "stdout"
        }
      ]
    },
    {
      "cell_type": "code",
      "metadata": {
        "id": "8Hrr2h-n-KMD",
        "colab_type": "code",
        "colab": {}
      },
      "source": [
        "with open(path+'data/data_test_500_rel.pickle', 'wb') as handle:\n",
        "    pickle.dump(test_set, handle, protocol=pickle.HIGHEST_PROTOCOL)"
      ],
      "execution_count": 0,
      "outputs": []
    },
    {
      "cell_type": "code",
      "metadata": {
        "id": "fjz-NpYnxJ4x",
        "colab_type": "code",
        "colab": {}
      },
      "source": [
        "# import time\n",
        "\n",
        "# neg_ans = {}\n",
        "\n",
        "# start = time.time()\n",
        "\n",
        "# for qid, pos_ans_lst in tqdm(qid_rel.items()):\n",
        "#     for i, cand_lst in qid_ranked_docs.items():\n",
        "#         trimed_cand = [x for x in cand_lst if x not in pos_ans_lst]\n",
        "#     neg_ans_lst = random.sample(trimed_cand, 500 - len(pos_ans_lst))\n",
        "#     neg_ans[qid] = neg_ans_lst\n",
        "\n",
        "# end = time.time() - start\n",
        "\n",
        "# print(end)\n",
        "\n",
        "# neg_ans[0]"
      ],
      "execution_count": 0,
      "outputs": []
    },
    {
      "cell_type": "code",
      "metadata": {
        "id": "CHBfZBFbv6r3",
        "colab_type": "code",
        "outputId": "e06bc9e0-d7a1-402d-b2db-30b04aafd246",
        "colab": {
          "base_uri": "https://localhost:8080/",
          "height": 72
        }
      },
      "source": [
        "# import time\n",
        "\n",
        "# neg_ans = {}\n",
        "\n",
        "# start = time.time()\n",
        "\n",
        "# for qid, pos_ans_lst in tqdm(qid_rel.items()):\n",
        "#     for i, cand_lst in qid_ranked_docs.items():\n",
        "#         trimed_cand = [x for x in cand_lst if x not in pos_ans_lst]\n",
        "#     neg_ans_lst = random.sample(trimed_cand, len(pos_ans_lst))\n",
        "#     neg_ans[qid] = neg_ans_lst\n",
        "\n",
        "# end = time.time() - start\n",
        "\n",
        "# print(end)\n",
        "\n",
        "# neg_ans[0]"
      ],
      "execution_count": 0,
      "outputs": [
        {
          "output_type": "stream",
          "text": [
            "100%|██████████| 6648/6648 [5:01:36<00:00,  2.32s/it]"
          ],
          "name": "stderr"
        },
        {
          "output_type": "stream",
          "text": [
            "18096.25180697441\n"
          ],
          "name": "stdout"
        },
        {
          "output_type": "stream",
          "text": [
            "\n"
          ],
          "name": "stderr"
        },
        {
          "output_type": "execute_result",
          "data": {
            "text/plain": [
              "[263751]"
            ]
          },
          "metadata": {
            "tags": []
          },
          "execution_count": 8
        }
      ]
    },
    {
      "cell_type": "code",
      "metadata": {
        "id": "3-7PHcSp0ov_",
        "colab_type": "code",
        "colab": {}
      },
      "source": [
        "# Dump neg ans\n",
        "with open(path+'neg_ans_1000.pickle', 'wb') as handle:\n",
        "    pickle.dump(neg_ans, handle, protocol=pickle.HIGHEST_PROTOCOL)"
      ],
      "execution_count": 0,
      "outputs": []
    },
    {
      "cell_type": "code",
      "metadata": {
        "id": "L2oIhTxt_qoS",
        "colab_type": "code",
        "colab": {}
      },
      "source": [
        "# with open(path + 'neg_ans.pickle', 'rb') as f:\n",
        "#     neg_ans = pickle.load(f)"
      ],
      "execution_count": 0,
      "outputs": []
    },
    {
      "cell_type": "code",
      "metadata": {
        "id": "IYH1cke_6609",
        "colab_type": "code",
        "outputId": "72a69a21-85fe-473c-bf84-3ed508d00d9d",
        "colab": {
          "base_uri": "https://localhost:8080/",
          "height": 35
        }
      },
      "source": [
        "import time\n",
        "start = time.time()\n",
        "train_set = []\n",
        "\n",
        "for index, row in qid_docid.iterrows():\n",
        "    for k, v in neg_ans.items():\n",
        "        if k == row['qid']:\n",
        "            tmp = []\n",
        "            tmp.append(row['qid'])\n",
        "            tmp.append(row['docid'])\n",
        "            tmp.append(v)\n",
        "            train_set.append(tmp)\n",
        "\n",
        "end = time.time() - start\n",
        "\n",
        "print(end)"
      ],
      "execution_count": 0,
      "outputs": [
        {
          "output_type": "stream",
          "text": [
            "731.2214043140411\n"
          ],
          "name": "stdout"
        }
      ]
    },
    {
      "cell_type": "code",
      "metadata": {
        "id": "OcGPDWje9i3n",
        "colab_type": "code",
        "colab": {}
      },
      "source": [
        "with open(path+'train_set_1000_un.pickle', 'wb') as handle:\n",
        "    pickle.dump(train_set, handle, protocol=pickle.HIGHEST_PROTOCOL)"
      ],
      "execution_count": 0,
      "outputs": []
    },
    {
      "cell_type": "code",
      "metadata": {
        "id": "aAQ5tAQRGguW",
        "colab_type": "code",
        "colab": {}
      },
      "source": [
        "with open('train_set_100.pickle', 'rb') as f:\n",
        "    train = pickle.load(f)"
      ],
      "execution_count": 0,
      "outputs": []
    },
    {
      "cell_type": "code",
      "metadata": {
        "id": "2P8rRatuGpH7",
        "colab_type": "code",
        "outputId": "506a1a50-512c-4d5f-b1ac-6a03879e2611",
        "colab": {
          "base_uri": "https://localhost:8080/",
          "height": 199
        }
      },
      "source": [
        "train[:10]"
      ],
      "execution_count": 0,
      "outputs": [
        {
          "output_type": "execute_result",
          "data": {
            "text/plain": [
              "[[0, 18850, [543898]],\n",
              " [1, 14255, [30163]],\n",
              " [2, 308938, [236254]],\n",
              " [3, 296717, [233248, 268423, 335375, 50250]],\n",
              " [3, 100764, [233248, 268423, 335375, 50250]],\n",
              " [3, 314352, [233248, 268423, 335375, 50250]],\n",
              " [3, 146317, [233248, 268423, 335375, 50250]],\n",
              " [4, 196463, [192307]],\n",
              " [5, 69306, [583626]],\n",
              " [6, 560251, [148208, 543898, 214522]]]"
            ]
          },
          "metadata": {
            "tags": []
          },
          "execution_count": 29
        }
      ]
    },
    {
      "cell_type": "code",
      "metadata": {
        "id": "wjnkASr0HwYl",
        "colab_type": "code",
        "outputId": "b62ed69d-a9de-4208-ee2e-afa1b679f496",
        "colab": {
          "base_uri": "https://localhost:8080/",
          "height": 35
        }
      },
      "source": [
        "len(train)"
      ],
      "execution_count": 0,
      "outputs": [
        {
          "output_type": "execute_result",
          "data": {
            "text/plain": [
              "17110"
            ]
          },
          "metadata": {
            "tags": []
          },
          "execution_count": 32
        }
      ]
    },
    {
      "cell_type": "code",
      "metadata": {
        "id": "nI9F5FA9H1S0",
        "colab_type": "code",
        "colab": {}
      },
      "source": [
        "test = qid_docid[:]"
      ],
      "execution_count": 0,
      "outputs": []
    },
    {
      "cell_type": "code",
      "metadata": {
        "id": "rmKSZpveHAjD",
        "colab_type": "code",
        "colab": {}
      },
      "source": [
        "test_set = []\n",
        "\n",
        "start = time.time()\n",
        "\n",
        "for index, row in qid_docid.iterrows():\n",
        "    for k, v in qid_ranked_docs.items():\n",
        "        if k == row['qid']:\n",
        "            tmp = []\n",
        "            tmp.append(row['qid'])\n",
        "            tmp.append(row['docid'])\n",
        "            tmp.append(v)\n",
        "            test_set.append(tmp)\n",
        "\n",
        "end = time.time() - start\n",
        "\n",
        "print(end)\n",
        "\n",
        "print(test_set[0])"
      ],
      "execution_count": 0,
      "outputs": []
    }
  ]
}