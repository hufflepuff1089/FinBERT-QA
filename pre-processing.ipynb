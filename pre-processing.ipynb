{
 "cells": [
  {
   "cell_type": "code",
   "execution_count": 90,
   "metadata": {},
   "outputs": [],
   "source": [
    "import pandas as pd\n",
    "import regex as re\n",
    "import string\n",
    "import json\n",
    "import csv"
   ]
  },
  {
   "cell_type": "code",
   "execution_count": 42,
   "metadata": {},
   "outputs": [
    {
     "data": {
      "text/html": [
       "<div>\n",
       "<style scoped>\n",
       "    .dataframe tbody tr th:only-of-type {\n",
       "        vertical-align: middle;\n",
       "    }\n",
       "\n",
       "    .dataframe tbody tr th {\n",
       "        vertical-align: top;\n",
       "    }\n",
       "\n",
       "    .dataframe thead th {\n",
       "        text-align: right;\n",
       "    }\n",
       "</style>\n",
       "<table border=\"1\" class=\"dataframe\">\n",
       "  <thead>\n",
       "    <tr style=\"text-align: right;\">\n",
       "      <th></th>\n",
       "      <th>Unnamed: 0</th>\n",
       "      <th>docid</th>\n",
       "      <th>doc</th>\n",
       "      <th>timestamp</th>\n",
       "    </tr>\n",
       "  </thead>\n",
       "  <tbody>\n",
       "    <tr>\n",
       "      <th>0</th>\n",
       "      <td>0</td>\n",
       "      <td>3</td>\n",
       "      <td>I'm not saying I don't like the idea of on-the...</td>\n",
       "      <td>Oct 03 '12 at 14:56</td>\n",
       "    </tr>\n",
       "    <tr>\n",
       "      <th>1</th>\n",
       "      <td>1</td>\n",
       "      <td>31</td>\n",
       "      <td>So nothing preventing false ratings besides ad...</td>\n",
       "      <td>Sep 01 '17 at 13:36</td>\n",
       "    </tr>\n",
       "    <tr>\n",
       "      <th>2</th>\n",
       "      <td>2</td>\n",
       "      <td>56</td>\n",
       "      <td>You can never use a health FSA for individual ...</td>\n",
       "      <td>Jun 9 '14 at 17:37</td>\n",
       "    </tr>\n",
       "    <tr>\n",
       "      <th>3</th>\n",
       "      <td>3</td>\n",
       "      <td>59</td>\n",
       "      <td>Samsung created the LCD and other flat screen ...</td>\n",
       "      <td>Dec 27 at 01:37</td>\n",
       "    </tr>\n",
       "    <tr>\n",
       "      <th>4</th>\n",
       "      <td>4</td>\n",
       "      <td>63</td>\n",
       "      <td>Here are the SEC requirements: The federal sec...</td>\n",
       "      <td>Jul 14 '14 at 8:10</td>\n",
       "    </tr>\n",
       "  </tbody>\n",
       "</table>\n",
       "</div>"
      ],
      "text/plain": [
       "   Unnamed: 0  docid                                                doc  \\\n",
       "0           0      3  I'm not saying I don't like the idea of on-the...   \n",
       "1           1     31  So nothing preventing false ratings besides ad...   \n",
       "2           2     56  You can never use a health FSA for individual ...   \n",
       "3           3     59  Samsung created the LCD and other flat screen ...   \n",
       "4           4     63  Here are the SEC requirements: The federal sec...   \n",
       "\n",
       "             timestamp  \n",
       "0  Oct 03 '12 at 14:56  \n",
       "1  Sep 01 '17 at 13:36  \n",
       "2   Jun 9 '14 at 17:37  \n",
       "3      Dec 27 at 01:37  \n",
       "4   Jul 14 '14 at 8:10  "
      ]
     },
     "execution_count": 42,
     "metadata": {},
     "output_type": "execute_result"
    }
   ],
   "source": [
    "# Question ID and Answer text pair\n",
    "df = pd.read_csv(\"train/FiQA_train_doc_final.tsv\", sep=\"\\t\")\n",
    "\n",
    "df.head(5)"
   ]
  },
  {
   "cell_type": "code",
   "execution_count": 82,
   "metadata": {},
   "outputs": [
    {
     "name": "stdout",
     "output_type": "stream",
     "text": [
      "im not saying i dont like the idea of on the job training too  but you cant expect the company to do that training workers is not their job   theyre building software perhaps educational systems in the us  or their students  should worry a little about getting marketable skills in exchange for their massive investment in education  rather than getting out with thousands in student debt and then complaining that they arent qualified to do anything\n"
     ]
    },
    {
     "data": {
      "text/html": [
       "<div>\n",
       "<style scoped>\n",
       "    .dataframe tbody tr th:only-of-type {\n",
       "        vertical-align: middle;\n",
       "    }\n",
       "\n",
       "    .dataframe tbody tr th {\n",
       "        vertical-align: top;\n",
       "    }\n",
       "\n",
       "    .dataframe thead th {\n",
       "        text-align: right;\n",
       "    }\n",
       "</style>\n",
       "<table border=\"1\" class=\"dataframe\">\n",
       "  <thead>\n",
       "    <tr style=\"text-align: right;\">\n",
       "      <th></th>\n",
       "      <th>docid</th>\n",
       "      <th>doc</th>\n",
       "    </tr>\n",
       "  </thead>\n",
       "  <tbody>\n",
       "    <tr>\n",
       "      <th>0</th>\n",
       "      <td>3</td>\n",
       "      <td>im not saying i dont like the idea of on the j...</td>\n",
       "    </tr>\n",
       "    <tr>\n",
       "      <th>1</th>\n",
       "      <td>31</td>\n",
       "      <td>so nothing preventing false ratings besides ad...</td>\n",
       "    </tr>\n",
       "    <tr>\n",
       "      <th>2</th>\n",
       "      <td>56</td>\n",
       "      <td>you can never use a health fsa for individual ...</td>\n",
       "    </tr>\n",
       "    <tr>\n",
       "      <th>3</th>\n",
       "      <td>59</td>\n",
       "      <td>samsung created the lcd and other flat screen ...</td>\n",
       "    </tr>\n",
       "    <tr>\n",
       "      <th>4</th>\n",
       "      <td>63</td>\n",
       "      <td>here are the sec requirements  the federal sec...</td>\n",
       "    </tr>\n",
       "    <tr>\n",
       "      <th>5</th>\n",
       "      <td>100</td>\n",
       "      <td>only relevant to those with fantasy economy te...</td>\n",
       "    </tr>\n",
       "    <tr>\n",
       "      <th>6</th>\n",
       "      <td>108</td>\n",
       "      <td>futures contracts are a member of a larger cla...</td>\n",
       "    </tr>\n",
       "    <tr>\n",
       "      <th>7</th>\n",
       "      <td>125</td>\n",
       "      <td>this month when you join scentsy you get a fre...</td>\n",
       "    </tr>\n",
       "    <tr>\n",
       "      <th>8</th>\n",
       "      <td>132</td>\n",
       "      <td>whenever you pay or withdraw some fund from yo...</td>\n",
       "    </tr>\n",
       "    <tr>\n",
       "      <th>9</th>\n",
       "      <td>138</td>\n",
       "      <td>so you asked him in 2010 how he was gong to co...</td>\n",
       "    </tr>\n",
       "  </tbody>\n",
       "</table>\n",
       "</div>"
      ],
      "text/plain": [
       "   docid                                                doc\n",
       "0      3  im not saying i dont like the idea of on the j...\n",
       "1     31  so nothing preventing false ratings besides ad...\n",
       "2     56  you can never use a health fsa for individual ...\n",
       "3     59  samsung created the lcd and other flat screen ...\n",
       "4     63  here are the sec requirements  the federal sec...\n",
       "5    100  only relevant to those with fantasy economy te...\n",
       "6    108  futures contracts are a member of a larger cla...\n",
       "7    125  this month when you join scentsy you get a fre...\n",
       "8    132  whenever you pay or withdraw some fund from yo...\n",
       "9    138  so you asked him in 2010 how he was gong to co..."
      ]
     },
     "execution_count": 82,
     "metadata": {},
     "output_type": "execute_result"
    }
   ],
   "source": [
    "collection = df[['docid', 'doc']]\n",
    "collection = collection.sort_values(by=['docid'])\n",
    "\n",
    "def pre_process(doc):\n",
    "    \n",
    "    doc = str(doc)\n",
    "    \n",
    "    x = re.sub('[“”$%!&\"@#()\\-\\*\\+,/:;<=>?@[\\]\\^_`{\\}~]', ' ', doc)\n",
    "    \n",
    "    y = re.sub('[\\.\\']', \"\", x)\n",
    "    \n",
    "    z = y.lower()\n",
    "    \n",
    "    return z\n",
    "\n",
    "# def hyphen(doc):\n",
    "    \n",
    "#     doc = str(doc)\n",
    "    \n",
    "#     x = re.sub('\\-', ' ', doc)\n",
    "    \n",
    "#     return x\n",
    "\n",
    "# def remove_period(doc):\n",
    "    \n",
    "#     doc = str(doc)\n",
    "    \n",
    "#     pattern = re.compile(r'\\.(\\s[A-Z])')\n",
    "    \n",
    "#     x = pattern.sub(r'\\1', doc)\n",
    "    \n",
    "#     if x[-1] == \".\":\n",
    "#         x = x[:-1]\n",
    "        \n",
    "#     return x\n",
    "\n",
    "collection['doc'] = collection['doc'].apply(pre_process)\n",
    "\n",
    "#collection['doc'] = collection['doc'].apply(hyphen)\n",
    "\n",
    "#collection['doc'] = collection['doc'].apply(remove_period)\n",
    "\n",
    "#collection['doc'] = collection['doc'].str.lower()\n",
    "\n",
    "a = collection['doc'][0]\n",
    "\n",
    "print(a)\n",
    "\n",
    "collection.head(10)"
   ]
  },
  {
   "cell_type": "code",
   "execution_count": 60,
   "metadata": {},
   "outputs": [
    {
     "name": "stdout",
     "output_type": "stream",
     "text": [
      "57638\n"
     ]
    }
   ],
   "source": [
    "print(len(collection))"
   ]
  },
  {
   "cell_type": "code",
   "execution_count": 85,
   "metadata": {},
   "outputs": [],
   "source": [
    "with open(\"fiqa-passage/collection.tsv\",'w') as write_tsv:\n",
    "    write_tsv.write(collection.to_csv(sep='\\t', index=False, header=False))"
   ]
  },
  {
   "cell_type": "code",
   "execution_count": 86,
   "metadata": {},
   "outputs": [],
   "source": [
    "output_jsonl_file = open(\"fiqa-passage/collection_jsonl/docs00.json\", 'w', encoding='utf-8', newline='\\n')\n",
    "\n",
    "with open(\"fiqa-passage/collection.tsv\", encoding='utf-8') as f:\n",
    "    for i, line in enumerate(f):\n",
    "        id_text = line.rstrip().split('\\t')\n",
    "        doc_id, doc_text = id_text[0], id_text[1]\n",
    "        \n",
    "        output_dict = {'id': doc_id, 'contents': doc_text}\n",
    "        \n",
    "        output_jsonl_file.write(json.dumps(output_dict) + '\\n')"
   ]
  },
  {
   "cell_type": "code",
   "execution_count": 68,
   "metadata": {},
   "outputs": [
    {
     "data": {
      "text/html": [
       "<div>\n",
       "<style scoped>\n",
       "    .dataframe tbody tr th:only-of-type {\n",
       "        vertical-align: middle;\n",
       "    }\n",
       "\n",
       "    .dataframe tbody tr th {\n",
       "        vertical-align: top;\n",
       "    }\n",
       "\n",
       "    .dataframe thead th {\n",
       "        text-align: right;\n",
       "    }\n",
       "</style>\n",
       "<table border=\"1\" class=\"dataframe\">\n",
       "  <thead>\n",
       "    <tr style=\"text-align: right;\">\n",
       "      <th></th>\n",
       "      <th>Unnamed: 0</th>\n",
       "      <th>qid</th>\n",
       "      <th>question</th>\n",
       "      <th>timestamp</th>\n",
       "    </tr>\n",
       "  </thead>\n",
       "  <tbody>\n",
       "    <tr>\n",
       "      <th>0</th>\n",
       "      <td>0</td>\n",
       "      <td>0</td>\n",
       "      <td>What is considered a business expense on a bus...</td>\n",
       "      <td>Nov 8 '11 at 15:14</td>\n",
       "    </tr>\n",
       "    <tr>\n",
       "      <th>1</th>\n",
       "      <td>1</td>\n",
       "      <td>1</td>\n",
       "      <td>Claiming business expenses for a business with...</td>\n",
       "      <td>May 13 '14 at 13:17</td>\n",
       "    </tr>\n",
       "    <tr>\n",
       "      <th>2</th>\n",
       "      <td>2</td>\n",
       "      <td>2</td>\n",
       "      <td>Transferring money from One business checking ...</td>\n",
       "      <td>Jan 20 '16 at 20:31</td>\n",
       "    </tr>\n",
       "    <tr>\n",
       "      <th>3</th>\n",
       "      <td>3</td>\n",
       "      <td>3</td>\n",
       "      <td>Having a separate bank account for business/in...</td>\n",
       "      <td>Mar 1 at 0:24</td>\n",
       "    </tr>\n",
       "    <tr>\n",
       "      <th>4</th>\n",
       "      <td>4</td>\n",
       "      <td>4</td>\n",
       "      <td>Business Expense - Car Insurance Deductible Fo...</td>\n",
       "      <td>Mar 4 at 0:26</td>\n",
       "    </tr>\n",
       "  </tbody>\n",
       "</table>\n",
       "</div>"
      ],
      "text/plain": [
       "   Unnamed: 0  qid                                           question  \\\n",
       "0           0    0  What is considered a business expense on a bus...   \n",
       "1           1    1  Claiming business expenses for a business with...   \n",
       "2           2    2  Transferring money from One business checking ...   \n",
       "3           3    3  Having a separate bank account for business/in...   \n",
       "4           4    4  Business Expense - Car Insurance Deductible Fo...   \n",
       "\n",
       "             timestamp  \n",
       "0   Nov 8 '11 at 15:14  \n",
       "1  May 13 '14 at 13:17  \n",
       "2  Jan 20 '16 at 20:31  \n",
       "3        Mar 1 at 0:24  \n",
       "4        Mar 4 at 0:26  "
      ]
     },
     "execution_count": 68,
     "metadata": {},
     "output_type": "execute_result"
    }
   ],
   "source": [
    "# Question ID and Question text pair\n",
    "query_df = pd.read_csv(\"train/FiQA_train_question_final.tsv\", sep=\"\\t\")\n",
    "\n",
    "query_df.head(5)"
   ]
  },
  {
   "cell_type": "code",
   "execution_count": 83,
   "metadata": {},
   "outputs": [
    {
     "name": "stderr",
     "output_type": "stream",
     "text": [
      "/home/bithiah/.local/lib/python3.6/site-packages/ipykernel_launcher.py:3: SettingWithCopyWarning: \n",
      "A value is trying to be set on a copy of a slice from a DataFrame.\n",
      "Try using .loc[row_indexer,col_indexer] = value instead\n",
      "\n",
      "See the caveats in the documentation: http://pandas.pydata.org/pandas-docs/stable/user_guide/indexing.html#returning-a-view-versus-a-copy\n",
      "  This is separate from the ipykernel package so we can avoid doing imports until\n"
     ]
    },
    {
     "data": {
      "text/html": [
       "<div>\n",
       "<style scoped>\n",
       "    .dataframe tbody tr th:only-of-type {\n",
       "        vertical-align: middle;\n",
       "    }\n",
       "\n",
       "    .dataframe tbody tr th {\n",
       "        vertical-align: top;\n",
       "    }\n",
       "\n",
       "    .dataframe thead th {\n",
       "        text-align: right;\n",
       "    }\n",
       "</style>\n",
       "<table border=\"1\" class=\"dataframe\">\n",
       "  <thead>\n",
       "    <tr style=\"text-align: right;\">\n",
       "      <th></th>\n",
       "      <th>qid</th>\n",
       "      <th>question</th>\n",
       "    </tr>\n",
       "  </thead>\n",
       "  <tbody>\n",
       "    <tr>\n",
       "      <th>0</th>\n",
       "      <td>0</td>\n",
       "      <td>what is considered a business expense on a bus...</td>\n",
       "    </tr>\n",
       "    <tr>\n",
       "      <th>1</th>\n",
       "      <td>1</td>\n",
       "      <td>claiming business expenses for a business with...</td>\n",
       "    </tr>\n",
       "    <tr>\n",
       "      <th>2</th>\n",
       "      <td>2</td>\n",
       "      <td>transferring money from one business checking ...</td>\n",
       "    </tr>\n",
       "    <tr>\n",
       "      <th>3</th>\n",
       "      <td>3</td>\n",
       "      <td>having a separate bank account for business in...</td>\n",
       "    </tr>\n",
       "    <tr>\n",
       "      <th>4</th>\n",
       "      <td>4</td>\n",
       "      <td>business expense   car insurance deductible fo...</td>\n",
       "    </tr>\n",
       "  </tbody>\n",
       "</table>\n",
       "</div>"
      ],
      "text/plain": [
       "   qid                                           question\n",
       "0    0  what is considered a business expense on a bus...\n",
       "1    1  claiming business expenses for a business with...\n",
       "2    2  transferring money from one business checking ...\n",
       "3    3  having a separate bank account for business in...\n",
       "4    4  business expense   car insurance deductible fo..."
      ]
     },
     "execution_count": 83,
     "metadata": {},
     "output_type": "execute_result"
    }
   ],
   "source": [
    "queries = query_df[['qid', 'question']]\n",
    "\n",
    "queries['question'] = queries['question'].apply(pre_process)\n",
    "\n",
    "queries.head(5)"
   ]
  },
  {
   "cell_type": "code",
   "execution_count": 84,
   "metadata": {},
   "outputs": [
    {
     "name": "stdout",
     "output_type": "stream",
     "text": [
      "        qid                                           question\n",
      "0         0  what is considered a business expense on a bus...\n",
      "1         1  claiming business expenses for a business with...\n",
      "2         2  transferring money from one business checking ...\n",
      "3         3  having a separate bank account for business in...\n",
      "4         4  business expense   car insurance deductible fo...\n",
      "...     ...                                                ...\n",
      "6643  11092  is real  physical  money traded during online ...\n",
      "6644  11096              pensions  annuities  and  retirement \n",
      "6645  11097  what does it mean to a life insurance policy h...\n",
      "6646  11099  can capital loss in traditional ira and roth i...\n",
      "6647  11104  selling a stock for gain to offset other stock...\n",
      "\n",
      "[6648 rows x 2 columns]\n"
     ]
    }
   ],
   "source": [
    "print(queries)"
   ]
  },
  {
   "cell_type": "code",
   "execution_count": 101,
   "metadata": {},
   "outputs": [],
   "source": [
    "with open(\"fiqa-passage/queries_train.tsv\",'w') as write_tsv:\n",
    "    write_tsv.write(queries.to_csv(sep='\\t', index=False, header=False))"
   ]
  },
  {
   "cell_type": "code",
   "execution_count": 106,
   "metadata": {},
   "outputs": [
    {
     "data": {
      "text/html": [
       "<div>\n",
       "<style scoped>\n",
       "    .dataframe tbody tr th:only-of-type {\n",
       "        vertical-align: middle;\n",
       "    }\n",
       "\n",
       "    .dataframe tbody tr th {\n",
       "        vertical-align: top;\n",
       "    }\n",
       "\n",
       "    .dataframe thead th {\n",
       "        text-align: right;\n",
       "    }\n",
       "</style>\n",
       "<table border=\"1\" class=\"dataframe\">\n",
       "  <thead>\n",
       "    <tr style=\"text-align: right;\">\n",
       "      <th></th>\n",
       "      <th>qid</th>\n",
       "      <th>docid</th>\n",
       "    </tr>\n",
       "  </thead>\n",
       "  <tbody>\n",
       "    <tr>\n",
       "      <th>0</th>\n",
       "      <td>0</td>\n",
       "      <td>18850</td>\n",
       "    </tr>\n",
       "    <tr>\n",
       "      <th>1</th>\n",
       "      <td>1</td>\n",
       "      <td>14255</td>\n",
       "    </tr>\n",
       "    <tr>\n",
       "      <th>2</th>\n",
       "      <td>2</td>\n",
       "      <td>308938</td>\n",
       "    </tr>\n",
       "    <tr>\n",
       "      <th>3</th>\n",
       "      <td>3</td>\n",
       "      <td>296717</td>\n",
       "    </tr>\n",
       "    <tr>\n",
       "      <th>4</th>\n",
       "      <td>3</td>\n",
       "      <td>100764</td>\n",
       "    </tr>\n",
       "  </tbody>\n",
       "</table>\n",
       "</div>"
      ],
      "text/plain": [
       "   qid   docid\n",
       "0    0   18850\n",
       "1    1   14255\n",
       "2    2  308938\n",
       "3    3  296717\n",
       "4    3  100764"
      ]
     },
     "execution_count": 106,
     "metadata": {},
     "output_type": "execute_result"
    }
   ],
   "source": [
    "# Question ID and Answer ID pair\n",
    "qid_docid = pd.read_csv(\"train/FiQA_train_question_doc_final.tsv\", sep=\"\\t\")\n",
    "\n",
    "qid_docid = qid_docid [['qid', 'docid']]\n",
    "\n",
    "qid_docid.head(5)"
   ]
  },
  {
   "cell_type": "code",
   "execution_count": 107,
   "metadata": {},
   "outputs": [
    {
     "data": {
      "text/html": [
       "<div>\n",
       "<style scoped>\n",
       "    .dataframe tbody tr th:only-of-type {\n",
       "        vertical-align: middle;\n",
       "    }\n",
       "\n",
       "    .dataframe tbody tr th {\n",
       "        vertical-align: top;\n",
       "    }\n",
       "\n",
       "    .dataframe thead th {\n",
       "        text-align: right;\n",
       "    }\n",
       "</style>\n",
       "<table border=\"1\" class=\"dataframe\">\n",
       "  <thead>\n",
       "    <tr style=\"text-align: right;\">\n",
       "      <th></th>\n",
       "      <th>qid</th>\n",
       "      <th>docid</th>\n",
       "      <th>new1</th>\n",
       "      <th>new2</th>\n",
       "    </tr>\n",
       "  </thead>\n",
       "  <tbody>\n",
       "    <tr>\n",
       "      <th>0</th>\n",
       "      <td>0</td>\n",
       "      <td>18850</td>\n",
       "      <td>0</td>\n",
       "      <td>1</td>\n",
       "    </tr>\n",
       "    <tr>\n",
       "      <th>1</th>\n",
       "      <td>1</td>\n",
       "      <td>14255</td>\n",
       "      <td>0</td>\n",
       "      <td>1</td>\n",
       "    </tr>\n",
       "    <tr>\n",
       "      <th>2</th>\n",
       "      <td>2</td>\n",
       "      <td>308938</td>\n",
       "      <td>0</td>\n",
       "      <td>1</td>\n",
       "    </tr>\n",
       "    <tr>\n",
       "      <th>3</th>\n",
       "      <td>3</td>\n",
       "      <td>296717</td>\n",
       "      <td>0</td>\n",
       "      <td>1</td>\n",
       "    </tr>\n",
       "    <tr>\n",
       "      <th>4</th>\n",
       "      <td>3</td>\n",
       "      <td>100764</td>\n",
       "      <td>0</td>\n",
       "      <td>1</td>\n",
       "    </tr>\n",
       "  </tbody>\n",
       "</table>\n",
       "</div>"
      ],
      "text/plain": [
       "   qid   docid  new1  new2\n",
       "0    0   18850     0     1\n",
       "1    1   14255     0     1\n",
       "2    2  308938     0     1\n",
       "3    3  296717     0     1\n",
       "4    3  100764     0     1"
      ]
     },
     "execution_count": 107,
     "metadata": {},
     "output_type": "execute_result"
    }
   ],
   "source": [
    "qid_docid = qid_docid.assign(new1=0)\n",
    "\n",
    "qid_docid = qid_docid.assign(new2=1)\n",
    "\n",
    "qid_docid.head(5)"
   ]
  },
  {
   "cell_type": "code",
   "execution_count": 110,
   "metadata": {},
   "outputs": [
    {
     "data": {
      "text/html": [
       "<div>\n",
       "<style scoped>\n",
       "    .dataframe tbody tr th:only-of-type {\n",
       "        vertical-align: middle;\n",
       "    }\n",
       "\n",
       "    .dataframe tbody tr th {\n",
       "        vertical-align: top;\n",
       "    }\n",
       "\n",
       "    .dataframe thead th {\n",
       "        text-align: right;\n",
       "    }\n",
       "</style>\n",
       "<table border=\"1\" class=\"dataframe\">\n",
       "  <thead>\n",
       "    <tr style=\"text-align: right;\">\n",
       "      <th></th>\n",
       "      <th>qid</th>\n",
       "      <th>new1</th>\n",
       "      <th>docid</th>\n",
       "      <th>new2</th>\n",
       "    </tr>\n",
       "  </thead>\n",
       "  <tbody>\n",
       "    <tr>\n",
       "      <th>0</th>\n",
       "      <td>0</td>\n",
       "      <td>0</td>\n",
       "      <td>18850</td>\n",
       "      <td>1</td>\n",
       "    </tr>\n",
       "    <tr>\n",
       "      <th>1</th>\n",
       "      <td>1</td>\n",
       "      <td>0</td>\n",
       "      <td>14255</td>\n",
       "      <td>1</td>\n",
       "    </tr>\n",
       "    <tr>\n",
       "      <th>2</th>\n",
       "      <td>2</td>\n",
       "      <td>0</td>\n",
       "      <td>308938</td>\n",
       "      <td>1</td>\n",
       "    </tr>\n",
       "    <tr>\n",
       "      <th>3</th>\n",
       "      <td>3</td>\n",
       "      <td>0</td>\n",
       "      <td>296717</td>\n",
       "      <td>1</td>\n",
       "    </tr>\n",
       "    <tr>\n",
       "      <th>4</th>\n",
       "      <td>3</td>\n",
       "      <td>0</td>\n",
       "      <td>100764</td>\n",
       "      <td>1</td>\n",
       "    </tr>\n",
       "  </tbody>\n",
       "</table>\n",
       "</div>"
      ],
      "text/plain": [
       "   qid  new1   docid  new2\n",
       "0    0     0   18850     1\n",
       "1    1     0   14255     1\n",
       "2    2     0  308938     1\n",
       "3    3     0  296717     1\n",
       "4    3     0  100764     1"
      ]
     },
     "execution_count": 110,
     "metadata": {},
     "output_type": "execute_result"
    }
   ],
   "source": [
    "qrels_train = qid_docid[['qid', 'new1', 'docid', 'new2']]\n",
    "\n",
    "qrels_train.head(5)"
   ]
  },
  {
   "cell_type": "code",
   "execution_count": 114,
   "metadata": {},
   "outputs": [
    {
     "name": "stdout",
     "output_type": "stream",
     "text": [
      "17110\n",
      "Number of unique questions: \n",
      "6648\n",
      "Number of unique passages: \n",
      "17110\n"
     ]
    }
   ],
   "source": [
    "print(len(qrels_train))\n",
    "\n",
    "print(\"Number of unique questions: \")\n",
    "print(qrels_train['qid'].nunique())\n",
    "\n",
    "print(\"Number of unique passages: \")\n",
    "print(qrels_train['docid'].nunique())"
   ]
  },
  {
   "cell_type": "code",
   "execution_count": 115,
   "metadata": {},
   "outputs": [],
   "source": [
    "with open(\"fiqa-passage/qrels_train.tsv\",'w') as write_tsv:\n",
    "    write_tsv.write(qrels_train.to_csv(sep='\\t', index=False, header=False))"
   ]
  },
  {
   "cell_type": "code",
   "execution_count": 121,
   "metadata": {},
   "outputs": [
    {
     "data": {
      "text/html": [
       "<div>\n",
       "<style scoped>\n",
       "    .dataframe tbody tr th:only-of-type {\n",
       "        vertical-align: middle;\n",
       "    }\n",
       "\n",
       "    .dataframe tbody tr th {\n",
       "        vertical-align: top;\n",
       "    }\n",
       "\n",
       "    .dataframe thead th {\n",
       "        text-align: right;\n",
       "    }\n",
       "</style>\n",
       "<table border=\"1\" class=\"dataframe\">\n",
       "  <thead>\n",
       "    <tr style=\"text-align: right;\">\n",
       "      <th></th>\n",
       "      <th>qid</th>\n",
       "      <th>docid</th>\n",
       "      <th>new1</th>\n",
       "      <th>new2</th>\n",
       "    </tr>\n",
       "  </thead>\n",
       "  <tbody>\n",
       "    <tr>\n",
       "      <th>0</th>\n",
       "      <td>0</td>\n",
       "      <td>18850</td>\n",
       "      <td>0</td>\n",
       "      <td>1</td>\n",
       "    </tr>\n",
       "  </tbody>\n",
       "</table>\n",
       "</div>"
      ],
      "text/plain": [
       "   qid  docid  new1  new2\n",
       "0    0  18850     0     1"
      ]
     },
     "execution_count": 121,
     "metadata": {},
     "output_type": "execute_result"
    }
   ],
   "source": [
    "rel = qid_docid['qid'] == 0\n",
    "\n",
    "rel_df = qid_docid[rel]\n",
    "\n",
    "rel_df.head()"
   ]
  },
  {
   "cell_type": "code",
   "execution_count": 134,
   "metadata": {},
   "outputs": [
    {
     "name": "stdout",
     "output_type": "stream",
     "text": [
      "what is considered a business expense on a business trip \n",
      "\n",
      "the irs guidance pertaining to the subject  in general the best i can say is your business expense may be deductible  but it depends on the circumstances and what it is you want to deduct travel taxpayers who travel away from home on business may deduct related   expenses  including the cost of reaching their destination  the cost   of lodging and meals and other ordinary and necessary expenses   taxpayers are considered  traveling away from home  if their duties   require them to be away from home substantially longer than an   ordinary day’s work and they need to sleep or rest to meet the demands   of their work the actual cost of meals and incidental expenses may be   deducted or the taxpayer may use a standard meal allowance and reduced   record keeping requirements regardless of the method used  meal   deductions are generally limited to 50 percent as stated earlier    only actual costs for lodging may be claimed as an expense and   receipts must be kept for documentation expenses must be reasonable   and appropriate  deductions for extravagant expenses are not   allowable more information is available in publication 463  travel    entertainment  gift  and car expenses entertainment expenses for entertaining clients  customers or employees may be   deducted if they are both ordinary and necessary and meet one of the   following tests  directly related test  the main purpose of the entertainment activity is the conduct of business  business was actually conducted   during the activity and the taxpayer had more than a general   expectation of getting income or some other specific business benefit   at some future time   associated test  the entertainment was associated with the active conduct of the taxpayer’s trade or business and occurred directly   before or after a substantial business discussion publication 463 provides more extensive explanation of these tests as   well as other limitations and requirements for deducting entertainment   expenses gifts taxpayers may deduct some or all of the cost of gifts given in the   course of their trade or business in general  the deduction is   limited to  25 for gifts given directly or indirectly to any one   person during the tax year more discussion of the rules and   limitations can be found in publication 463 if your llc reimburses you for expenses outside of this guidance it should be treated as income for tax purposes edit for meal expenses  amount of standard meal allowance   the standard meal allowance is   the federal m ie rate for travel in 2010  the rate for most small   localities in the united states is  46 a day source irs p463 alternately you could reimburse at a per diem rate\n"
     ]
    }
   ],
   "source": [
    "print(queries.at[0, 'question'])\n",
    "\n",
    "x = collection[collection['docid']==18850]\n",
    "\n",
    "print()\n",
    "\n",
    "print(x.at[1800, 'doc'])"
   ]
  },
  {
   "cell_type": "code",
   "execution_count": 136,
   "metadata": {},
   "outputs": [
    {
     "name": "stdout",
     "output_type": "stream",
     "text": [
      "\n",
      "it depends on what the  true  reason for the trip is  if you decide to deduct the trip as a business expense  then during an audit you will be asked why you had to go there if there was nothing accomplished via the travel  that is  you worked from the hotel  met with no clients  visited no tradeshows  etc  then the expense is unlikely to be allowed yes  on a business trip you can do sightseeing if you wish  though you cant deduct any sightseeing specific expenses  like admission to a tourist attraction   but if you are just working while on vacation  then the trip itself is not deductible  since there was no business benefit to traveling in the first place\n"
     ]
    }
   ],
   "source": [
    "x = collection[collection['docid']==531578]\n",
    "\n",
    "print()\n",
    "\n",
    "print(x.at[51106, 'doc'])"
   ]
  }
 ],
 "metadata": {
  "kernelspec": {
   "display_name": "Python 3",
   "language": "python",
   "name": "python3"
  },
  "language_info": {
   "codemirror_mode": {
    "name": "ipython",
    "version": 3
   },
   "file_extension": ".py",
   "mimetype": "text/x-python",
   "name": "python",
   "nbconvert_exporter": "python",
   "pygments_lexer": "ipython3",
   "version": "3.6.8"
  }
 },
 "nbformat": 4,
 "nbformat_minor": 2
}
