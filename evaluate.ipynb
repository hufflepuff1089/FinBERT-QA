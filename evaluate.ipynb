{
 "cells": [
  {
   "cell_type": "code",
   "execution_count": 1,
   "metadata": {},
   "outputs": [],
   "source": [
    "import pandas as pd\n",
    "from statistics import mean \n",
    "import math \n",
    "import numpy as np\n",
    "from itertools import islice\n",
    "\n",
    "def take(n, iterable):\n",
    "    \"Return first n items of the iterable as a list\"\n",
    "    return list(islice(iterable, n))"
   ]
  },
  {
   "cell_type": "code",
   "execution_count": 2,
   "metadata": {},
   "outputs": [],
   "source": [
    "# Question ID and Answer ID pair\n",
    "qid_docid = pd.read_csv(\"train/FiQA_train_question_doc_final.tsv\", sep=\"\\t\")\n",
    "qid_docid = qid_docid [['qid', 'docid']]"
   ]
  },
  {
   "cell_type": "code",
   "execution_count": 4,
   "metadata": {},
   "outputs": [
    {
     "data": {
      "text/plain": [
       "[(0, [18850]),\n",
       " (1, [14255]),\n",
       " (2, [308938]),\n",
       " (3, [296717, 100764, 314352, 146317]),\n",
       " (4, [196463]),\n",
       " (5, [69306]),\n",
       " (6, [560251, 188530, 564488]),\n",
       " (7, [411063]),\n",
       " (8, [566392, 65404]),\n",
       " (9, [509122, 184698])]"
      ]
     },
     "execution_count": 4,
     "metadata": {},
     "output_type": "execute_result"
    }
   ],
   "source": [
    "# Create dict for question id and relevant passgages\n",
    "# keys: query ids, values: list of relevant passages\n",
    "qid_rel = {}\n",
    "\n",
    "for index, row in qid_docid.iterrows():\n",
    "    \n",
    "    if row['qid'] not in qid_rel:\n",
    "        qid_rel[row['qid']] = []\n",
    "    qid_rel[row['qid']].append(row['docid'])\n",
    "    \n",
    "take(10, qid_rel.items())"
   ]
  },
  {
   "cell_type": "code",
   "execution_count": 5,
   "metadata": {},
   "outputs": [
    {
     "name": "stdout",
     "output_type": "stream",
     "text": [
      "Average number of relevant passages for each query: 2.5737063778580023\n",
      "\n",
      "Max number of relevant passages for each query: 23\n",
      "\n",
      "Min number of relevant passages for each query: 1\n",
      "\n"
     ]
    }
   ],
   "source": [
    "# Number of relevant passages for each query\n",
    "num_rel = [len(v) for v in qid_rel.values()]\n",
    "\n",
    "avg_num_rel = mean(num_rel)\n",
    "max_num_rel = max(num_rel)\n",
    "min_num_rel = min(num_rel)\n",
    "\n",
    "print(\"Average number of relevant passages for each query: {}\\n\".format(avg_num_rel))\n",
    "print(\"Max number of relevant passages for each query: {}\\n\".format(max_num_rel))\n",
    "print(\"Min number of relevant passages for each query: {}\\n\".format(min_num_rel))"
   ]
  },
  {
   "cell_type": "code",
   "execution_count": 16,
   "metadata": {},
   "outputs": [
    {
     "data": {
      "text/html": [
       "<div>\n",
       "<style scoped>\n",
       "    .dataframe tbody tr th:only-of-type {\n",
       "        vertical-align: middle;\n",
       "    }\n",
       "\n",
       "    .dataframe tbody tr th {\n",
       "        vertical-align: top;\n",
       "    }\n",
       "\n",
       "    .dataframe thead th {\n",
       "        text-align: right;\n",
       "    }\n",
       "</style>\n",
       "<table border=\"1\" class=\"dataframe\">\n",
       "  <thead>\n",
       "    <tr style=\"text-align: right;\">\n",
       "      <th></th>\n",
       "      <th>0</th>\n",
       "      <th>qid</th>\n",
       "      <th>doc_id</th>\n",
       "    </tr>\n",
       "  </thead>\n",
       "  <tbody>\n",
       "    <tr>\n",
       "      <th>0</th>\n",
       "      <td>0</td>\n",
       "      <td>531578</td>\n",
       "      <td>1</td>\n",
       "    </tr>\n",
       "    <tr>\n",
       "      <th>1</th>\n",
       "      <td>0</td>\n",
       "      <td>417981</td>\n",
       "      <td>2</td>\n",
       "    </tr>\n",
       "    <tr>\n",
       "      <th>2</th>\n",
       "      <td>0</td>\n",
       "      <td>324911</td>\n",
       "      <td>3</td>\n",
       "    </tr>\n",
       "    <tr>\n",
       "      <th>3</th>\n",
       "      <td>0</td>\n",
       "      <td>524879</td>\n",
       "      <td>4</td>\n",
       "    </tr>\n",
       "    <tr>\n",
       "      <th>4</th>\n",
       "      <td>0</td>\n",
       "      <td>397608</td>\n",
       "      <td>5</td>\n",
       "    </tr>\n",
       "  </tbody>\n",
       "</table>\n",
       "</div>"
      ],
      "text/plain": [
       "   0     qid  doc_id\n",
       "0  0  531578       1\n",
       "1  0  417981       2\n",
       "2  0  324911       3\n",
       "3  0  524879       4\n",
       "4  0  397608       5"
      ]
     },
     "execution_count": 16,
     "metadata": {},
     "output_type": "execute_result"
    }
   ],
   "source": [
    "# Answer Ranking for each question\n",
    "doc_ranking = pd.read_csv(\"fiqa-passage/run2_train.tsv\", sep=\"\\t\", header=None)\n",
    "doc_ranking = doc_ranking.rename(columns={1: 'qid', 2: 'doc_id', 3:'rank'})\n",
    "doc_ranking.head(5)"
   ]
  },
  {
   "cell_type": "code",
   "execution_count": 17,
   "metadata": {},
   "outputs": [
    {
     "name": "stdout",
     "output_type": "stream",
     "text": [
      "Number of candidate answers for all questions: 6638656\n"
     ]
    }
   ],
   "source": [
    "print(\"Number of candidate answers for all questions: {}\".format(len(doc_ranking)))"
   ]
  },
  {
   "cell_type": "code",
   "execution_count": 18,
   "metadata": {},
   "outputs": [],
   "source": [
    "# Create dict for query id and ranked candidates\n",
    "# key: query ids, values: list of 1000 ranked candidates\n",
    "qid_ranked_docs = {}\n",
    "\n",
    "with open(\"fiqa-passage/run2_train.tsv\",'r') as f:\n",
    "    for line in f:\n",
    "        # [qid, doc_id, rank]\n",
    "        line = line.strip().split('\\t')\n",
    "        qid = int(line[0])\n",
    "        doc_id = int(line[1])\n",
    "        rank = int(line[2])\n",
    "        \n",
    "        if qid not in qid_ranked_docs:\n",
    "            # Create a list of size 1000 for each query to store the candidates\n",
    "            candidates = [0]*1000\n",
    "            qid_ranked_docs[qid] = candidates\n",
    "        qid_ranked_docs[qid][rank-1] = doc_id\n",
    "        \n",
    "#take(1, qid_ranked_docs.items())"
   ]
  },
  {
   "cell_type": "code",
   "execution_count": 19,
   "metadata": {},
   "outputs": [],
   "source": [
    "# Helper functions for evaluation\n",
    "def get_rel_score(rel_score, cand_docs, rel_docs, k):\n",
    "    \"\"\"\n",
    "    Returns a dictionary of the top-k relevancy scores of docs in the candidate answers\n",
    "    \n",
    "    key - question id\n",
    "    value - list of relevancy scores with 1 being relevant and 0 being irrelevant\n",
    "    \n",
    "    Example: {0: [0, 1, 0], 1: [1, 1, 0]}\n",
    "    \"\"\"\n",
    "    if qid not in rel_score:\n",
    "        rel_score[qid] = []\n",
    "\n",
    "        for i in range(0, k):\n",
    "            if cand_docs[i] in rel_docs:\n",
    "                rel_score[qid].append(1)\n",
    "            else:\n",
    "                rel_score[qid].append(0)\n",
    "\n",
    "    return rel_score\n",
    "\n",
    "def dcg(rels, k):\n",
    "    \"\"\"\n",
    "    Discounted Cumulative Gain\n",
    "    \n",
    "    Returns the cumulated DCG of the top-k relevant docs across all queries\n",
    "    \"\"\"\n",
    "    cumulated_sum = rels[0]\n",
    "    for i in range(1, k):\n",
    "        cumulated_sum += rels[i]/math.log(i+1,2)\n",
    "    return cumulated_sum\n",
    "\n",
    "def avg_ndcg(rel_score):\n",
    "    \"\"\"\n",
    "    Average Normalized Discounted Cumulative Gain\n",
    "    \n",
    "    Computes the DCG, iDCG, and nDCG for each query\n",
    "    \n",
    "    Returns the averyage nDCG across all queries\n",
    "    \"\"\"\n",
    "    ndcg_list = []\n",
    "    for qid, rels in rel_score.items():\n",
    "        dcg_val = dcg(rels, k)   \n",
    "        sorted_rel = sorted(rels, reverse=True)\n",
    "        idcg_val = dcg(sorted_rel, k)\n",
    "\n",
    "        try:\n",
    "            ndcg_val = dcg_val/idcg_val\n",
    "            ndcg_list.append(ndcg_val)\n",
    "        except ZeroDivisionError:\n",
    "            ndcg_list.append(0)\n",
    "            \n",
    "    assert len(ndcg_list) == len(rel_score), \"Relevant score doesn't match\"\n",
    "\n",
    "    avg = mean(ndcg_list)\n",
    "\n",
    "    return avg\n",
    "\n",
    "def compute_RR(cand_docs, rel_docs, cumulated_reciprocal_rank, rank_pos, k):\n",
    "    \"\"\"\n",
    "    Computes the reciprocal rank - probability of correctness of rank\n",
    "    \n",
    "    Returns the cumulated reciprocal rank across all queries and the\n",
    "    positions of the relevant docs in the candidates\n",
    "    \"\"\"\n",
    "    \n",
    "    for i in range(0, k):\n",
    "        # If the doc_id of the top k ranked candidate passages is in the list of relevant passages\n",
    "        if cand_docs[i] in rel_docs:\n",
    "            # Compute the reciprocal rank (i is the ranking)\n",
    "            rank_pos.append(i+1)\n",
    "            cumulated_reciprocal_rank += 1/(i+1)\n",
    "            break\n",
    "            \n",
    "    return cumulated_reciprocal_rank, rank_pos"
   ]
  },
  {
   "cell_type": "code",
   "execution_count": 20,
   "metadata": {},
   "outputs": [],
   "source": [
    "# print(qid_ranked_docs[6][:10])\n",
    "# print(qid_rel[6][:10])\n",
    "# print()\n",
    "# print(qid_ranked_docs[102][:10])\n",
    "# print(qid_rel[102][:10])"
   ]
  },
  {
   "cell_type": "markdown",
   "metadata": {},
   "source": [
    "### Evaluation of BM25"
   ]
  },
  {
   "cell_type": "code",
   "execution_count": 26,
   "metadata": {},
   "outputs": [
    {
     "name": "stdout",
     "output_type": "stream",
     "text": [
      "Average nDCG@1000 for 6648 queries: 0.37228219563855214\n",
      "\n",
      "MRR@1000 for 6648 queries: 0.3191620897939914\n",
      "\n",
      "Average Precision@1: 0.2378158844765343\n"
     ]
    }
   ],
   "source": [
    "# Evaluate top-1000 candidates\n",
    "k = 1000\n",
    "cumulated_reciprocal_rank = 0\n",
    "num_rel_docs = 0\n",
    "rel_score = {}\n",
    "precision_list = {}\n",
    "rank_pos = []\n",
    "\n",
    "# For each query\n",
    "for qid in qid_ranked_docs:\n",
    "    # If the query has a relevant passage\n",
    "    if qid in qid_rel:\n",
    "        # Get the list of relevant docs for a query\n",
    "        rel_docs = qid_rel[qid]\n",
    "        # Get the list of ranked docs for a query\n",
    "        cand_docs = qid_ranked_docs[qid]\n",
    "        # Compute relevant scores of the candidates\n",
    "        rel_scores = get_rel_score(rel_score, cand_docs, rel_docs, k)\n",
    "        # MRR@k\n",
    "        cumulated_reciprocal_rank, r_pos = compute_RR(cand_docs, rel_docs, cumulated_reciprocal_rank, rank_pos, k)\n",
    "        \n",
    "\n",
    "print(\"Average nDCG@{} for {} queries: {}\".format(k, len(qid_rel), avg_ndcg(rel_scores)))\n",
    "print()\n",
    "\n",
    "MRR = cumulated_reciprocal_rank/len(qid_rel)\n",
    "\n",
    "print(\"MRR@{} for {} queries: {}\\n\".format(k, len(qid_rel), MRR))\n",
    "\n",
    "# Mean precision at k\n",
    "k = 1\n",
    "scores = {}\n",
    "precision_at_k = []\n",
    "for qid, scores in rel_scores.items():\n",
    "    num_rel = 0\n",
    "    for i in range(0, k):\n",
    "        if scores[i] == 1:\n",
    "            num_rel += 1\n",
    "    precision_at_k.append(num_rel/k)     \n",
    "mean_precision_at_k = mean(precision_at_k)\n",
    "\n",
    "print(\"Average Precision@{}: {}\".format(k, mean_precision_at_k))"
   ]
  },
  {
   "cell_type": "code",
   "execution_count": 22,
   "metadata": {},
   "outputs": [
    {
     "name": "stdout",
     "output_type": "stream",
     "text": [
      "The lowest rank of the first relevant passage: 1000\n",
      "\n",
      "The highest rank of the first relevant passage: 1\n",
      " \n",
      "The average rank of the first relevant passage 81.76945491943778\n",
      "\n"
     ]
    }
   ],
   "source": [
    "print(\"The lowest rank of the first relevant passage: {}\\n\".format(max(r_pos)))\n",
    "print(\"The highest rank of the first relevant passage: {}\\n \".format(min(r_pos)))\n",
    "print(\"The average rank of the first relevant passage {}\\n\".format(mean(r_pos)))"
   ]
  },
  {
   "cell_type": "code",
   "execution_count": 24,
   "metadata": {},
   "outputs": [
    {
     "name": "stdout",
     "output_type": "stream",
     "text": [
      "Number of candidate passage that don't contrain any relevant passages: 0\n"
     ]
    }
   ],
   "source": [
    "# Check if any candidate passages don't contain any relevant passages\n",
    "counter = 0\n",
    "for qid, scores in rel_scores.items():\n",
    "    np_scores = np.asarray(scores)\n",
    "    \n",
    "    if np.all(np_scores==0):\n",
    "        counter += 0\n",
    "\n",
    "print(\"Number of candidate passage that don't contrain any relevant passages: {}\".format(counter))"
   ]
  }
 ],
 "metadata": {
  "kernelspec": {
   "display_name": "Python 3",
   "language": "python",
   "name": "python3"
  },
  "language_info": {
   "codemirror_mode": {
    "name": "ipython",
    "version": 3
   },
   "file_extension": ".py",
   "mimetype": "text/x-python",
   "name": "python",
   "nbconvert_exporter": "python",
   "pygments_lexer": "ipython3",
   "version": "3.6.8"
  }
 },
 "nbformat": 4,
 "nbformat_minor": 2
}
