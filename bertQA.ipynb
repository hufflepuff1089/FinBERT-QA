{
  "nbformat": 4,
  "nbformat_minor": 0,
  "metadata": {
    "colab": {
      "name": "Copy of bertQA.ipynb",
      "provenance": [],
      "collapsed_sections": [],
      "machine_shape": "hm"
    },
    "kernelspec": {
      "name": "python3",
      "display_name": "Python 3"
    },
    "accelerator": "GPU"
  },
  "cells": [
    {
      "cell_type": "code",
      "metadata": {
        "id": "ySXHdHsEUxNd",
        "colab_type": "code",
        "outputId": "48dcae09-8d2b-4545-b64c-468eab78cda7",
        "colab": {
          "base_uri": "https://localhost:8080/",
          "height": 35
        }
      },
      "source": [
        "from google.colab import drive\n",
        "drive.mount('/content/drive')\n",
        "\n",
        "path = \"drive/My Drive/FiQA/\""
      ],
      "execution_count": 3,
      "outputs": [
        {
          "output_type": "stream",
          "text": [
            "Drive already mounted at /content/drive; to attempt to forcibly remount, call drive.mount(\"/content/drive\", force_remount=True).\n"
          ],
          "name": "stdout"
        }
      ]
    },
    {
      "cell_type": "code",
      "metadata": {
        "id": "MBGukeI_cCPy",
        "colab_type": "code",
        "colab": {}
      },
      "source": [
        "from evaluate import *"
      ],
      "execution_count": 0,
      "outputs": []
    },
    {
      "cell_type": "code",
      "metadata": {
        "id": "HbIIxiVhU1VL",
        "colab_type": "code",
        "outputId": "6a44376b-b406-47e8-a512-93679a73020f",
        "colab": {
          "base_uri": "https://localhost:8080/",
          "height": 83
        }
      },
      "source": [
        "import pickle\n",
        "from collections import Counter\n",
        "from tqdm import tqdm\n",
        "import itertools\n",
        "import pandas as pd\n",
        "from itertools import islice\n",
        "import numpy as np\n",
        "from keras.preprocessing.sequence import pad_sequences\n",
        "\n",
        "def take(n, iterable):\n",
        "    \"Return first n items of the iterable as a list\"\n",
        "    return list(islice(iterable, n))\n",
        "\n",
        "def remove_empty(test_set):\n",
        "    for index, row in enumerate(test_set):\n",
        "        for doc in row[1]:\n",
        "            if doc in empty_docs:\n",
        "                del test_set[index]\n",
        "    return test_set\n",
        "\n",
        "def load_pickle(path):\n",
        "    with open(path, 'rb') as f:\n",
        "        return pickle.load(f)\n",
        "\n",
        "def save_pickle(path, data):\n",
        "    with open(path, 'wb') as handle:\n",
        "        pickle.dump(data, handle, protocol=pickle.HIGHEST_PROTOCOL)"
      ],
      "execution_count": 4,
      "outputs": [
        {
          "output_type": "stream",
          "text": [
            "Using TensorFlow backend.\n"
          ],
          "name": "stderr"
        },
        {
          "output_type": "display_data",
          "data": {
            "text/html": [
              "<p style=\"color: red;\">\n",
              "The default version of TensorFlow in Colab will soon switch to TensorFlow 2.x.<br>\n",
              "We recommend you <a href=\"https://www.tensorflow.org/guide/migrate\" target=\"_blank\">upgrade</a> now \n",
              "or ensure your notebook will continue to use TensorFlow 1.x via the <code>%tensorflow_version 1.x</code> magic:\n",
              "<a href=\"https://colab.research.google.com/notebooks/tensorflow_version.ipynb\" target=\"_blank\">more info</a>.</p>\n"
            ],
            "text/plain": [
              "<IPython.core.display.HTML object>"
            ]
          },
          "metadata": {
            "tags": []
          }
        }
      ]
    },
    {
      "cell_type": "code",
      "metadata": {
        "id": "7iCcUYUvb6-r",
        "colab_type": "code",
        "colab": {}
      },
      "source": [
        "# dict mapping of token to idx\n",
        "vocab = load_pickle(path + 'vocab_full.pickle')\n",
        "# dict mapping of docid to doc text\n",
        "docid_to_text = load_pickle(path + 'label_ans.pickle')\n",
        "\n",
        "# dict mapping of qid to question text\n",
        "qid_to_text = load_pickle(path + 'qid_text.pickle')\n",
        "\n",
        "train_qid_rel = load_pickle(path + \"qid_rel_train.pickle\")\n",
        "test_qid_rel = load_pickle(path + \"qid_rel_test.pickle\")\n",
        "valid_qid_rel = load_pickle(path + \"qid_rel_valid.pickle\")\n",
        "\n",
        "train_set = load_pickle(path + 'data/data_train_50.pickle')\n",
        "valid_set = load_pickle(path + 'data/data_valid_50.pickle')\n",
        "\n",
        "# train_set = load_pickle(path + 'data/data_train_100.pickle')\n",
        "# valid_set = load_pickle(path + 'data/data_valid_100.pickle')\n",
        "\n",
        "# train_set = load_pickle(path + 'data/data_train_200.pickle')\n",
        "# valid_set = load_pickle(path + 'data/data_valid_200.pickle')\n",
        "\n",
        "test_set = load_pickle(path + 'data/data_test_500_rel.pickle')\n",
        "test_set_full = load_pickle(path + 'data/data_test_500.pickle')\n",
        "\n",
        "empty_docs = load_pickle(path+'empty_docs.pickle')"
      ],
      "execution_count": 0,
      "outputs": []
    },
    {
      "cell_type": "code",
      "metadata": {
        "id": "B9_sM2Lrb794",
        "colab_type": "code",
        "outputId": "64f14475-76a6-453f-e497-fa42489f57ed",
        "colab": {
          "base_uri": "https://localhost:8080/",
          "height": 72
        }
      },
      "source": [
        "train_set = [x for x in train_set if x[1] not in empty_docs]\n",
        "valid_set = [x for x in valid_set if x[1] not in empty_docs]\n",
        "\n",
        "test_set = remove_empty(test_set)\n",
        "test_set_full = remove_empty(test_set_full)\n",
        "\n",
        "print(\"Number of training samples: {}\".format(len(train_set)))\n",
        "print(\"Number of validation samples: {}\".format(len(valid_set)))\n",
        "print(\"Number of test samples: {}\".format(len(test_set)))"
      ],
      "execution_count": 208,
      "outputs": [
        {
          "output_type": "stream",
          "text": [
            "Number of training samples: 283707\n",
            "Number of validation samples: 31582\n",
            "Number of test samples: 330\n"
          ],
          "name": "stdout"
        }
      ]
    },
    {
      "cell_type": "code",
      "metadata": {
        "id": "FZbiuVLWVN9i",
        "colab_type": "code",
        "colab": {}
      },
      "source": [
        "# train_set = load_pickle(path + 'data-bert/data_train_50.pickle')\n",
        "# empty_docs = load_pickle(path+'empty_docs.pickle')\n",
        "# train_set = [x for x in train_set if x[1] not in empty_docs]"
      ],
      "execution_count": 0,
      "outputs": []
    },
    {
      "cell_type": "code",
      "metadata": {
        "id": "6npVgMDNewIW",
        "colab_type": "code",
        "outputId": "acfd5b09-b3b4-4260-9e1c-a6cb4a7a18cc",
        "colab": {
          "base_uri": "https://localhost:8080/",
          "height": 455
        }
      },
      "source": [
        "!pip install transformers\n",
        "\n",
        "import torch\n",
        "from transformers import BertTokenizer\n",
        "\n",
        "# Load the BERT tokenizer.\n",
        "print('Loading BERT tokenizer...')\n",
        "tokenizer = BertTokenizer.from_pretrained('bert-base-uncased', do_lower_case=True)"
      ],
      "execution_count": 8,
      "outputs": [
        {
          "output_type": "stream",
          "text": [
            "Requirement already satisfied: transformers in /usr/local/lib/python3.6/dist-packages (2.4.1)\n",
            "Requirement already satisfied: sacremoses in /usr/local/lib/python3.6/dist-packages (from transformers) (0.0.38)\n",
            "Requirement already satisfied: boto3 in /usr/local/lib/python3.6/dist-packages (from transformers) (1.11.15)\n",
            "Requirement already satisfied: filelock in /usr/local/lib/python3.6/dist-packages (from transformers) (3.0.12)\n",
            "Requirement already satisfied: sentencepiece in /usr/local/lib/python3.6/dist-packages (from transformers) (0.1.85)\n",
            "Requirement already satisfied: requests in /usr/local/lib/python3.6/dist-packages (from transformers) (2.21.0)\n",
            "Requirement already satisfied: tqdm>=4.27 in /usr/local/lib/python3.6/dist-packages (from transformers) (4.28.1)\n",
            "Requirement already satisfied: tokenizers==0.0.11 in /usr/local/lib/python3.6/dist-packages (from transformers) (0.0.11)\n",
            "Requirement already satisfied: numpy in /usr/local/lib/python3.6/dist-packages (from transformers) (1.17.5)\n",
            "Requirement already satisfied: regex!=2019.12.17 in /usr/local/lib/python3.6/dist-packages (from transformers) (2019.12.20)\n",
            "Requirement already satisfied: joblib in /usr/local/lib/python3.6/dist-packages (from sacremoses->transformers) (0.14.1)\n",
            "Requirement already satisfied: six in /usr/local/lib/python3.6/dist-packages (from sacremoses->transformers) (1.12.0)\n",
            "Requirement already satisfied: click in /usr/local/lib/python3.6/dist-packages (from sacremoses->transformers) (7.0)\n",
            "Requirement already satisfied: s3transfer<0.4.0,>=0.3.0 in /usr/local/lib/python3.6/dist-packages (from boto3->transformers) (0.3.3)\n",
            "Requirement already satisfied: jmespath<1.0.0,>=0.7.1 in /usr/local/lib/python3.6/dist-packages (from boto3->transformers) (0.9.4)\n",
            "Requirement already satisfied: botocore<1.15.0,>=1.14.15 in /usr/local/lib/python3.6/dist-packages (from boto3->transformers) (1.14.15)\n",
            "Requirement already satisfied: urllib3<1.25,>=1.21.1 in /usr/local/lib/python3.6/dist-packages (from requests->transformers) (1.24.3)\n",
            "Requirement already satisfied: certifi>=2017.4.17 in /usr/local/lib/python3.6/dist-packages (from requests->transformers) (2019.11.28)\n",
            "Requirement already satisfied: chardet<3.1.0,>=3.0.2 in /usr/local/lib/python3.6/dist-packages (from requests->transformers) (3.0.4)\n",
            "Requirement already satisfied: idna<2.9,>=2.5 in /usr/local/lib/python3.6/dist-packages (from requests->transformers) (2.8)\n",
            "Requirement already satisfied: python-dateutil<3.0.0,>=2.1 in /usr/local/lib/python3.6/dist-packages (from botocore<1.15.0,>=1.14.15->boto3->transformers) (2.6.1)\n",
            "Requirement already satisfied: docutils<0.16,>=0.10 in /usr/local/lib/python3.6/dist-packages (from botocore<1.15.0,>=1.14.15->boto3->transformers) (0.15.2)\n",
            "Loading BERT tokenizer...\n"
          ],
          "name": "stdout"
        }
      ]
    },
    {
      "cell_type": "code",
      "metadata": {
        "id": "WpLr8nlabAAN",
        "colab_type": "code",
        "colab": {}
      },
      "source": [
        "# collection = pd.read_csv(path+\"data-bert/collection_new.tsv\", sep=\"\\t\", header=None)\n",
        "# collection = collection.rename(columns={0: 'docid', 1: 'doc'})\n",
        "\n",
        "# def load_questions(path):\n",
        "#     \"\"\"\n",
        "#     Returns a dataframe of cols: qid, question\n",
        "#     \"\"\"\n",
        "#     # Question ID and Question text\n",
        "#     query_df = pd.read_csv(path, sep=\"\\t\")\n",
        "#     queries = query_df[['qid', 'question']]\n",
        "\n",
        "#     return queries\n",
        "\n",
        "# queries = load_questions(path + \"FiQA_train_question_final.tsv\")\n",
        "\n",
        "# queries['tokenized_q'] = queries['question'].apply(lambda x: tokenizer.tokenize(x))\n",
        "# queries['len'] = queries['tokenized_q'].apply(lambda x: len(x))\n",
        "\n",
        "# collection['tokenized_a'] = collection['doc'].apply(lambda x: tokenizer.tokenize(x))\n",
        "# collection['len'] = collection['tokenized_a'].apply(lambda x: len(x))\n",
        "\n",
        "# label_to_ans = {}\n",
        "\n",
        "# for index, row in collection.iterrows():\n",
        "#     label_to_ans[row['docid']] = row['tokenized_a']\n",
        "\n",
        "# # Question to question text\n",
        "# qid_to_text = {}\n",
        "\n",
        "# for index, row in queries.iterrows():\n",
        "#     qid_to_text[row['qid']] = row['tokenized_q']\n",
        "\n",
        "# # save_pickle(path+\"data-bert/label_to_ans.pickle\", label_to_ans)\n",
        "# # save_pickle(path+\"data-bert/qid_to_text.pickle\", qid_to_text)"
      ],
      "execution_count": 0,
      "outputs": []
    },
    {
      "cell_type": "code",
      "metadata": {
        "id": "-2I4Yc1bJGeg",
        "colab_type": "code",
        "colab": {}
      },
      "source": [
        "# print(\"Max answer len: {}\".format(collection['len'].max()))\n",
        "# print(\"Min answer len: {}\".format(collection['len'].min()))\n",
        "# print(\"Average answer len: {}\".format(collection['len'].mean()))\n",
        "\n",
        "# print(\"Max question len: {}\".format(queries['len'].max()))\n",
        "# print(\"Min question len: {}\".format(queries['len'].min()))\n",
        "# print(\"Average question len: {}\".format(queries['len'].mean()))"
      ],
      "execution_count": 0,
      "outputs": []
    },
    {
      "cell_type": "code",
      "metadata": {
        "id": "lXwjgq4zuPzg",
        "colab_type": "code",
        "colab": {}
      },
      "source": [
        "label_to_ans = load_pickle(path+\"data-bert/label_to_ans.pickle\")\n",
        "qid_to_text = load_pickle(path+\"data-bert/qid_to_text.pickle\")"
      ],
      "execution_count": 0,
      "outputs": []
    },
    {
      "cell_type": "code",
      "metadata": {
        "id": "KZERfpbehdwj",
        "colab_type": "code",
        "colab": {}
      },
      "source": [
        "def add_question_token(q_tokens):\n",
        "    c = [\"[CLS]\"]\n",
        "    s = [\"[SEP]\"]\n",
        "    q_tokens = c + q_tokens\n",
        "    q_tokens = q_tokens + s\n",
        "\n",
        "    return q_tokens\n",
        "\n",
        "def add_ans_token(a_tokens):\n",
        "    s = [\"[SEP]\"]\n",
        "    a_tokens = a_tokens + s\n",
        "\n",
        "    return a_tokens\n",
        "\n",
        "def clip(lst):\n",
        "    max_seq_len = 256\n",
        "    if len(lst) > max_seq_len:\n",
        "        lst = lst[:max_seq_len]\n",
        "    else:\n",
        "        lst = lst\n",
        "    \n",
        "    return lst\n",
        "\n",
        "def get_input_ids(sequences, max_seq_len):\n",
        "    # Tokenize all of the sentences and map the tokens to thier word IDs.\n",
        "    input_ids = []\n",
        "\n",
        "    for seq in sequences:\n",
        "        # `encode` will:\n",
        "        #   (1) Tokenize the sentence.\n",
        "        #   (2) Map tokens to their IDs.\n",
        "        encoded_seq = tokenizer.convert_tokens_to_ids(seq)\n",
        "        \n",
        "        # Add the encoded sentence to the list.\n",
        "        input_ids.append(encoded_seq)\n",
        "\n",
        "    input_ids = pad_sequences(input_ids, maxlen=max_seq_len, dtype=\"long\", \n",
        "                          value=0, truncating=\"post\", padding=\"post\")\n",
        "    return input_ids\n",
        "\n",
        "def get_att_mask(input_ids):\n",
        "    # Create attention masks\n",
        "    attention_masks = []\n",
        "\n",
        "    # For each sentence...\n",
        "    for sent in input_ids:\n",
        "        \n",
        "        # Create the attention mask.\n",
        "        #   - If a token ID is 0, then it's padding, set the mask to 0.\n",
        "        #   - If a token ID is > 0, then it's a real token, set the mask to 1.\n",
        "        att_mask = [int(token_id > 0) for token_id in sent]\n",
        "        \n",
        "        # Store the attention mask for this sentence.\n",
        "        attention_masks.append(att_mask)\n",
        "\n",
        "    return attention_masks"
      ],
      "execution_count": 0,
      "outputs": []
    },
    {
      "cell_type": "code",
      "metadata": {
        "id": "lcnub5RAVxJD",
        "colab_type": "code",
        "colab": {}
      },
      "source": [
        "def get_sequence_df(dataset):\n",
        "    df = pd.DataFrame(dataset)\n",
        "    df = df.rename(columns={0: 'qid', 1: 'pos', 2:'neg'})\n",
        "    df_pos = df[['qid', 'pos']]\n",
        "    df_pos = df_pos.rename(columns={'pos': 'docid'})\n",
        "    df_pos['label'] = df_pos.apply(lambda x: 1, axis=1)\n",
        "    df_pos = df_pos.drop_duplicates()\n",
        "\n",
        "    df_neg = df[['qid', 'neg']]\n",
        "    df_neg = df_neg.rename(columns={'neg': 'docid'})\n",
        "    df_neg['label'] = df_neg.apply(lambda x: 0, axis=1)\n",
        "    data_df = pd.concat([df_pos, df_neg]).sort_values(by=['qid'])\n",
        "\n",
        "    data_df['question'] = data_df['qid'].apply(lambda x: qid_to_text[x])\n",
        "    data_df['ans_cand'] = data_df['docid'].apply(lambda x: label_to_ans[x])\n",
        "    data_df['ques_token'] = data_df['question'].apply(lambda x: add_question_token(x))\n",
        "    data_df['ans_cand'] = data_df['ans_cand'].apply(lambda x: add_ans_token(x))\n",
        "\n",
        "    data_df = data_df[['qid', 'docid', 'label', 'ans_cand','ques_token']]\n",
        "    data_df['seq'] = data_df['ques_token'] + data_df['ans_cand']\n",
        "\n",
        "    max_seq_len = 256\n",
        "\n",
        "    data_df['seq_clipped'] = data_df['seq'].apply(clip)\n",
        "    # train['len'] = train['seq_clipped'].apply(lambda x: len(x))\n",
        "\n",
        "    return data_df"
      ],
      "execution_count": 0,
      "outputs": []
    },
    {
      "cell_type": "code",
      "metadata": {
        "id": "Mc1x_WQ9lCXu",
        "colab_type": "code",
        "outputId": "694daca0-708c-48ae-c5ab-7a320073b955",
        "colab": {
          "base_uri": "https://localhost:8080/",
          "height": 454
        }
      },
      "source": [
        "train = get_sequence_df(train_set)\n",
        "valid = get_sequence_df(valid_set)\n",
        "\n",
        "# Get the lists of sentences and their labels.\n",
        "train_sequences = train.seq_clipped.values\n",
        "train_labels = train.label.values\n",
        "\n",
        "valid_sequences = valid.seq_clipped.values\n",
        "valid_labels = valid.label.values\n",
        "\n",
        "print(len(train_sequences))\n",
        "print(len(valid_sequences))\n",
        "\n",
        "train_sequences = train_sequences[:500]\n",
        "train_labels = train_labels[:500]\n",
        "\n",
        "valid_sequences = valid_sequences[:500]\n",
        "valid_labels = valid_labels[:500]\n",
        "\n",
        "max_seq_len = 256\n",
        "\n",
        "train_input = get_input_ids(train_sequences, max_seq_len)\n",
        "valid_input = get_input_ids(valid_sequences, max_seq_len)\n",
        "\n",
        "print(train_input[0])\n",
        "\n",
        "train_att_mask = get_att_mask(train_input)\n",
        "valid_att_mask = get_att_mask(valid_input)\n",
        "\n",
        "# Convert all inputs and labels into torch tensors, the required datatype \n",
        "# for our model.\n",
        "train_inputs = torch.tensor(train_input)\n",
        "validation_inputs = torch.tensor(valid_input)\n",
        "\n",
        "train_labels = torch.tensor(train_labels)\n",
        "validation_labels = torch.tensor(valid_labels)\n",
        "\n",
        "train_masks = torch.tensor(train_att_mask)\n",
        "validation_masks = torch.tensor(valid_att_mask)"
      ],
      "execution_count": 165,
      "outputs": [
        {
          "output_type": "stream",
          "text": [
            "298401\n",
            "33143\n",
            "[  101  2054  2003  2641  1037  2449 10961  2006  1037  2449  4440  1029\n",
            "   102  1996 25760  8606 20246  2000  1996  3395  1012  1999  2236  1996\n",
            "  2190  1045  2064  2360  2003  2115  2449 10961  2089  2022  2139  8566\n",
            "  6593  7028  1012  2021  2009  9041  2006  1996  6214  1998  2054  2009\n",
            "  2003  2017  2215  2000  2139  8566  6593  1012  3604 26457  2040  3604\n",
            "  2185  2013  2188  2006  2449  2089  2139  8566  6593  3141 11727  1010\n",
            "  2164  1996  3465  1997  4285  2037  7688  1010  1996  3465  1997 26859\n",
            "  1998 12278  1998  2060  6623  1998  4072 11727  1012 26457  2024  2641\n",
            "  1523  7118  2185  2013  2188  1524  2065  2037  5704  5478  2068  2000\n",
            "  2022  2185  2013  2188 12381  2936  2084  2019  6623  2154  1521  1055\n",
            "  2147  1998  2027  2342  2000  3637  2030  2717  2000  3113  1996  7670\n",
            "  1997  2037  2147  1012  1996  5025  3465  1997 12278  1998  5043  2389\n",
            " 11727  2089  2022  2139 29510  2030  1996 26980  2089  2224  1037  3115\n",
            "  7954 21447  1998  4359  2501  4363  5918  1012  7539  1997  1996  4118\n",
            "  2109  1010  7954  2139 16256  2015  2024  3227  3132  2000  2753  3867\n",
            "  2004  3090  3041  1012  2069  5025  5366  2005 26859  2089  2022  3555\n",
            "  2004  2019 10961  1998 28258  2442  2022  2921  2005 12653  1012 11727\n",
            "  2442  2022  9608  1998  6413  1025  2139 16256  2015  2005 27856 11727\n",
            "  2024  2025  3499  3085  1012  2062  2592  2003  2800  1999  4772  4805\n",
            "  2509  1010  3604  1010  4024  1010  5592  1010  1998  2482 11727  1012\n",
            "  4024 11727  2005 14036  7846  1010  6304  2030  5126  2089  2022  2139\n",
            " 29510  2065  2027  2024]\n"
          ],
          "name": "stdout"
        }
      ]
    },
    {
      "cell_type": "code",
      "metadata": {
        "id": "1P4Lb1dzK3Ko",
        "colab_type": "code",
        "colab": {}
      },
      "source": [
        "from torch.utils.data import TensorDataset, DataLoader, RandomSampler, SequentialSampler\n",
        "\n",
        "# The DataLoader needs to know our batch size for training, so we specify it \n",
        "# here.\n",
        "# For fine-tuning BERT on a specific task, the authors recommend a batch size of\n",
        "# 16 or 32.\n",
        "\n",
        "batch_size = 32\n",
        "\n",
        "# Create the DataLoader for our training set.\n",
        "train_data = TensorDataset(train_inputs, train_masks, train_labels)\n",
        "train_sampler = RandomSampler(train_data)\n",
        "train_dataloader = DataLoader(train_data, sampler=train_sampler, batch_size=batch_size)\n",
        "\n",
        "# Create the DataLoader for our validation set.\n",
        "validation_data = TensorDataset(validation_inputs, validation_masks, validation_labels)\n",
        "validation_sampler = SequentialSampler(validation_data)\n",
        "validation_dataloader = DataLoader(validation_data, sampler=validation_sampler, batch_size=batch_size)"
      ],
      "execution_count": 0,
      "outputs": []
    },
    {
      "cell_type": "code",
      "metadata": {
        "id": "xjVUsNKVhXDn",
        "colab_type": "code",
        "outputId": "e2d30e83-a2fc-475e-d053-4f08a7457aa9",
        "colab": {
          "base_uri": "https://localhost:8080/",
          "height": 54
        }
      },
      "source": [
        "print(len(train_inputs))\n",
        "print(len(valid_input))"
      ],
      "execution_count": 16,
      "outputs": [
        {
          "output_type": "stream",
          "text": [
            "50000\n",
            "5000\n"
          ],
          "name": "stdout"
        }
      ]
    },
    {
      "cell_type": "code",
      "metadata": {
        "id": "LmrYcbhSMpP3",
        "colab_type": "code",
        "outputId": "7fb7e63f-cc14-45fc-a2a4-86f1c327a506",
        "colab": {
          "base_uri": "https://localhost:8080/",
          "height": 1000
        }
      },
      "source": [
        "from transformers import BertForSequenceClassification, AdamW, BertConfig\n",
        "\n",
        "# Load BertForSequenceClassification, the pretrained BERT model with a single \n",
        "# linear classification layer on top. \n",
        "model = BertForSequenceClassification.from_pretrained(\n",
        "    \"bert-base-uncased\", # Use the 12-layer BERT model, with an uncased vocab.\n",
        "    num_labels = 2, # The number of output labels--2 for binary classification.\n",
        "                    # You can increase this for multi-class tasks.   \n",
        "    output_attentions = False, # Whether the model returns attentions weights.\n",
        "    output_hidden_states = False, # Whether the model returns all hidden-states.\n",
        ")\n",
        "\n",
        "# Tell pytorch to run this model on the GPU.\n",
        "model.cuda()"
      ],
      "execution_count": 17,
      "outputs": [
        {
          "output_type": "execute_result",
          "data": {
            "text/plain": [
              "BertForSequenceClassification(\n",
              "  (bert): BertModel(\n",
              "    (embeddings): BertEmbeddings(\n",
              "      (word_embeddings): Embedding(30522, 768, padding_idx=0)\n",
              "      (position_embeddings): Embedding(512, 768)\n",
              "      (token_type_embeddings): Embedding(2, 768)\n",
              "      (LayerNorm): LayerNorm((768,), eps=1e-12, elementwise_affine=True)\n",
              "      (dropout): Dropout(p=0.1, inplace=False)\n",
              "    )\n",
              "    (encoder): BertEncoder(\n",
              "      (layer): ModuleList(\n",
              "        (0): BertLayer(\n",
              "          (attention): BertAttention(\n",
              "            (self): BertSelfAttention(\n",
              "              (query): Linear(in_features=768, out_features=768, bias=True)\n",
              "              (key): Linear(in_features=768, out_features=768, bias=True)\n",
              "              (value): Linear(in_features=768, out_features=768, bias=True)\n",
              "              (dropout): Dropout(p=0.1, inplace=False)\n",
              "            )\n",
              "            (output): BertSelfOutput(\n",
              "              (dense): Linear(in_features=768, out_features=768, bias=True)\n",
              "              (LayerNorm): LayerNorm((768,), eps=1e-12, elementwise_affine=True)\n",
              "              (dropout): Dropout(p=0.1, inplace=False)\n",
              "            )\n",
              "          )\n",
              "          (intermediate): BertIntermediate(\n",
              "            (dense): Linear(in_features=768, out_features=3072, bias=True)\n",
              "          )\n",
              "          (output): BertOutput(\n",
              "            (dense): Linear(in_features=3072, out_features=768, bias=True)\n",
              "            (LayerNorm): LayerNorm((768,), eps=1e-12, elementwise_affine=True)\n",
              "            (dropout): Dropout(p=0.1, inplace=False)\n",
              "          )\n",
              "        )\n",
              "        (1): BertLayer(\n",
              "          (attention): BertAttention(\n",
              "            (self): BertSelfAttention(\n",
              "              (query): Linear(in_features=768, out_features=768, bias=True)\n",
              "              (key): Linear(in_features=768, out_features=768, bias=True)\n",
              "              (value): Linear(in_features=768, out_features=768, bias=True)\n",
              "              (dropout): Dropout(p=0.1, inplace=False)\n",
              "            )\n",
              "            (output): BertSelfOutput(\n",
              "              (dense): Linear(in_features=768, out_features=768, bias=True)\n",
              "              (LayerNorm): LayerNorm((768,), eps=1e-12, elementwise_affine=True)\n",
              "              (dropout): Dropout(p=0.1, inplace=False)\n",
              "            )\n",
              "          )\n",
              "          (intermediate): BertIntermediate(\n",
              "            (dense): Linear(in_features=768, out_features=3072, bias=True)\n",
              "          )\n",
              "          (output): BertOutput(\n",
              "            (dense): Linear(in_features=3072, out_features=768, bias=True)\n",
              "            (LayerNorm): LayerNorm((768,), eps=1e-12, elementwise_affine=True)\n",
              "            (dropout): Dropout(p=0.1, inplace=False)\n",
              "          )\n",
              "        )\n",
              "        (2): BertLayer(\n",
              "          (attention): BertAttention(\n",
              "            (self): BertSelfAttention(\n",
              "              (query): Linear(in_features=768, out_features=768, bias=True)\n",
              "              (key): Linear(in_features=768, out_features=768, bias=True)\n",
              "              (value): Linear(in_features=768, out_features=768, bias=True)\n",
              "              (dropout): Dropout(p=0.1, inplace=False)\n",
              "            )\n",
              "            (output): BertSelfOutput(\n",
              "              (dense): Linear(in_features=768, out_features=768, bias=True)\n",
              "              (LayerNorm): LayerNorm((768,), eps=1e-12, elementwise_affine=True)\n",
              "              (dropout): Dropout(p=0.1, inplace=False)\n",
              "            )\n",
              "          )\n",
              "          (intermediate): BertIntermediate(\n",
              "            (dense): Linear(in_features=768, out_features=3072, bias=True)\n",
              "          )\n",
              "          (output): BertOutput(\n",
              "            (dense): Linear(in_features=3072, out_features=768, bias=True)\n",
              "            (LayerNorm): LayerNorm((768,), eps=1e-12, elementwise_affine=True)\n",
              "            (dropout): Dropout(p=0.1, inplace=False)\n",
              "          )\n",
              "        )\n",
              "        (3): BertLayer(\n",
              "          (attention): BertAttention(\n",
              "            (self): BertSelfAttention(\n",
              "              (query): Linear(in_features=768, out_features=768, bias=True)\n",
              "              (key): Linear(in_features=768, out_features=768, bias=True)\n",
              "              (value): Linear(in_features=768, out_features=768, bias=True)\n",
              "              (dropout): Dropout(p=0.1, inplace=False)\n",
              "            )\n",
              "            (output): BertSelfOutput(\n",
              "              (dense): Linear(in_features=768, out_features=768, bias=True)\n",
              "              (LayerNorm): LayerNorm((768,), eps=1e-12, elementwise_affine=True)\n",
              "              (dropout): Dropout(p=0.1, inplace=False)\n",
              "            )\n",
              "          )\n",
              "          (intermediate): BertIntermediate(\n",
              "            (dense): Linear(in_features=768, out_features=3072, bias=True)\n",
              "          )\n",
              "          (output): BertOutput(\n",
              "            (dense): Linear(in_features=3072, out_features=768, bias=True)\n",
              "            (LayerNorm): LayerNorm((768,), eps=1e-12, elementwise_affine=True)\n",
              "            (dropout): Dropout(p=0.1, inplace=False)\n",
              "          )\n",
              "        )\n",
              "        (4): BertLayer(\n",
              "          (attention): BertAttention(\n",
              "            (self): BertSelfAttention(\n",
              "              (query): Linear(in_features=768, out_features=768, bias=True)\n",
              "              (key): Linear(in_features=768, out_features=768, bias=True)\n",
              "              (value): Linear(in_features=768, out_features=768, bias=True)\n",
              "              (dropout): Dropout(p=0.1, inplace=False)\n",
              "            )\n",
              "            (output): BertSelfOutput(\n",
              "              (dense): Linear(in_features=768, out_features=768, bias=True)\n",
              "              (LayerNorm): LayerNorm((768,), eps=1e-12, elementwise_affine=True)\n",
              "              (dropout): Dropout(p=0.1, inplace=False)\n",
              "            )\n",
              "          )\n",
              "          (intermediate): BertIntermediate(\n",
              "            (dense): Linear(in_features=768, out_features=3072, bias=True)\n",
              "          )\n",
              "          (output): BertOutput(\n",
              "            (dense): Linear(in_features=3072, out_features=768, bias=True)\n",
              "            (LayerNorm): LayerNorm((768,), eps=1e-12, elementwise_affine=True)\n",
              "            (dropout): Dropout(p=0.1, inplace=False)\n",
              "          )\n",
              "        )\n",
              "        (5): BertLayer(\n",
              "          (attention): BertAttention(\n",
              "            (self): BertSelfAttention(\n",
              "              (query): Linear(in_features=768, out_features=768, bias=True)\n",
              "              (key): Linear(in_features=768, out_features=768, bias=True)\n",
              "              (value): Linear(in_features=768, out_features=768, bias=True)\n",
              "              (dropout): Dropout(p=0.1, inplace=False)\n",
              "            )\n",
              "            (output): BertSelfOutput(\n",
              "              (dense): Linear(in_features=768, out_features=768, bias=True)\n",
              "              (LayerNorm): LayerNorm((768,), eps=1e-12, elementwise_affine=True)\n",
              "              (dropout): Dropout(p=0.1, inplace=False)\n",
              "            )\n",
              "          )\n",
              "          (intermediate): BertIntermediate(\n",
              "            (dense): Linear(in_features=768, out_features=3072, bias=True)\n",
              "          )\n",
              "          (output): BertOutput(\n",
              "            (dense): Linear(in_features=3072, out_features=768, bias=True)\n",
              "            (LayerNorm): LayerNorm((768,), eps=1e-12, elementwise_affine=True)\n",
              "            (dropout): Dropout(p=0.1, inplace=False)\n",
              "          )\n",
              "        )\n",
              "        (6): BertLayer(\n",
              "          (attention): BertAttention(\n",
              "            (self): BertSelfAttention(\n",
              "              (query): Linear(in_features=768, out_features=768, bias=True)\n",
              "              (key): Linear(in_features=768, out_features=768, bias=True)\n",
              "              (value): Linear(in_features=768, out_features=768, bias=True)\n",
              "              (dropout): Dropout(p=0.1, inplace=False)\n",
              "            )\n",
              "            (output): BertSelfOutput(\n",
              "              (dense): Linear(in_features=768, out_features=768, bias=True)\n",
              "              (LayerNorm): LayerNorm((768,), eps=1e-12, elementwise_affine=True)\n",
              "              (dropout): Dropout(p=0.1, inplace=False)\n",
              "            )\n",
              "          )\n",
              "          (intermediate): BertIntermediate(\n",
              "            (dense): Linear(in_features=768, out_features=3072, bias=True)\n",
              "          )\n",
              "          (output): BertOutput(\n",
              "            (dense): Linear(in_features=3072, out_features=768, bias=True)\n",
              "            (LayerNorm): LayerNorm((768,), eps=1e-12, elementwise_affine=True)\n",
              "            (dropout): Dropout(p=0.1, inplace=False)\n",
              "          )\n",
              "        )\n",
              "        (7): BertLayer(\n",
              "          (attention): BertAttention(\n",
              "            (self): BertSelfAttention(\n",
              "              (query): Linear(in_features=768, out_features=768, bias=True)\n",
              "              (key): Linear(in_features=768, out_features=768, bias=True)\n",
              "              (value): Linear(in_features=768, out_features=768, bias=True)\n",
              "              (dropout): Dropout(p=0.1, inplace=False)\n",
              "            )\n",
              "            (output): BertSelfOutput(\n",
              "              (dense): Linear(in_features=768, out_features=768, bias=True)\n",
              "              (LayerNorm): LayerNorm((768,), eps=1e-12, elementwise_affine=True)\n",
              "              (dropout): Dropout(p=0.1, inplace=False)\n",
              "            )\n",
              "          )\n",
              "          (intermediate): BertIntermediate(\n",
              "            (dense): Linear(in_features=768, out_features=3072, bias=True)\n",
              "          )\n",
              "          (output): BertOutput(\n",
              "            (dense): Linear(in_features=3072, out_features=768, bias=True)\n",
              "            (LayerNorm): LayerNorm((768,), eps=1e-12, elementwise_affine=True)\n",
              "            (dropout): Dropout(p=0.1, inplace=False)\n",
              "          )\n",
              "        )\n",
              "        (8): BertLayer(\n",
              "          (attention): BertAttention(\n",
              "            (self): BertSelfAttention(\n",
              "              (query): Linear(in_features=768, out_features=768, bias=True)\n",
              "              (key): Linear(in_features=768, out_features=768, bias=True)\n",
              "              (value): Linear(in_features=768, out_features=768, bias=True)\n",
              "              (dropout): Dropout(p=0.1, inplace=False)\n",
              "            )\n",
              "            (output): BertSelfOutput(\n",
              "              (dense): Linear(in_features=768, out_features=768, bias=True)\n",
              "              (LayerNorm): LayerNorm((768,), eps=1e-12, elementwise_affine=True)\n",
              "              (dropout): Dropout(p=0.1, inplace=False)\n",
              "            )\n",
              "          )\n",
              "          (intermediate): BertIntermediate(\n",
              "            (dense): Linear(in_features=768, out_features=3072, bias=True)\n",
              "          )\n",
              "          (output): BertOutput(\n",
              "            (dense): Linear(in_features=3072, out_features=768, bias=True)\n",
              "            (LayerNorm): LayerNorm((768,), eps=1e-12, elementwise_affine=True)\n",
              "            (dropout): Dropout(p=0.1, inplace=False)\n",
              "          )\n",
              "        )\n",
              "        (9): BertLayer(\n",
              "          (attention): BertAttention(\n",
              "            (self): BertSelfAttention(\n",
              "              (query): Linear(in_features=768, out_features=768, bias=True)\n",
              "              (key): Linear(in_features=768, out_features=768, bias=True)\n",
              "              (value): Linear(in_features=768, out_features=768, bias=True)\n",
              "              (dropout): Dropout(p=0.1, inplace=False)\n",
              "            )\n",
              "            (output): BertSelfOutput(\n",
              "              (dense): Linear(in_features=768, out_features=768, bias=True)\n",
              "              (LayerNorm): LayerNorm((768,), eps=1e-12, elementwise_affine=True)\n",
              "              (dropout): Dropout(p=0.1, inplace=False)\n",
              "            )\n",
              "          )\n",
              "          (intermediate): BertIntermediate(\n",
              "            (dense): Linear(in_features=768, out_features=3072, bias=True)\n",
              "          )\n",
              "          (output): BertOutput(\n",
              "            (dense): Linear(in_features=3072, out_features=768, bias=True)\n",
              "            (LayerNorm): LayerNorm((768,), eps=1e-12, elementwise_affine=True)\n",
              "            (dropout): Dropout(p=0.1, inplace=False)\n",
              "          )\n",
              "        )\n",
              "        (10): BertLayer(\n",
              "          (attention): BertAttention(\n",
              "            (self): BertSelfAttention(\n",
              "              (query): Linear(in_features=768, out_features=768, bias=True)\n",
              "              (key): Linear(in_features=768, out_features=768, bias=True)\n",
              "              (value): Linear(in_features=768, out_features=768, bias=True)\n",
              "              (dropout): Dropout(p=0.1, inplace=False)\n",
              "            )\n",
              "            (output): BertSelfOutput(\n",
              "              (dense): Linear(in_features=768, out_features=768, bias=True)\n",
              "              (LayerNorm): LayerNorm((768,), eps=1e-12, elementwise_affine=True)\n",
              "              (dropout): Dropout(p=0.1, inplace=False)\n",
              "            )\n",
              "          )\n",
              "          (intermediate): BertIntermediate(\n",
              "            (dense): Linear(in_features=768, out_features=3072, bias=True)\n",
              "          )\n",
              "          (output): BertOutput(\n",
              "            (dense): Linear(in_features=3072, out_features=768, bias=True)\n",
              "            (LayerNorm): LayerNorm((768,), eps=1e-12, elementwise_affine=True)\n",
              "            (dropout): Dropout(p=0.1, inplace=False)\n",
              "          )\n",
              "        )\n",
              "        (11): BertLayer(\n",
              "          (attention): BertAttention(\n",
              "            (self): BertSelfAttention(\n",
              "              (query): Linear(in_features=768, out_features=768, bias=True)\n",
              "              (key): Linear(in_features=768, out_features=768, bias=True)\n",
              "              (value): Linear(in_features=768, out_features=768, bias=True)\n",
              "              (dropout): Dropout(p=0.1, inplace=False)\n",
              "            )\n",
              "            (output): BertSelfOutput(\n",
              "              (dense): Linear(in_features=768, out_features=768, bias=True)\n",
              "              (LayerNorm): LayerNorm((768,), eps=1e-12, elementwise_affine=True)\n",
              "              (dropout): Dropout(p=0.1, inplace=False)\n",
              "            )\n",
              "          )\n",
              "          (intermediate): BertIntermediate(\n",
              "            (dense): Linear(in_features=768, out_features=3072, bias=True)\n",
              "          )\n",
              "          (output): BertOutput(\n",
              "            (dense): Linear(in_features=3072, out_features=768, bias=True)\n",
              "            (LayerNorm): LayerNorm((768,), eps=1e-12, elementwise_affine=True)\n",
              "            (dropout): Dropout(p=0.1, inplace=False)\n",
              "          )\n",
              "        )\n",
              "      )\n",
              "    )\n",
              "    (pooler): BertPooler(\n",
              "      (dense): Linear(in_features=768, out_features=768, bias=True)\n",
              "      (activation): Tanh()\n",
              "    )\n",
              "  )\n",
              "  (dropout): Dropout(p=0.1, inplace=False)\n",
              "  (classifier): Linear(in_features=768, out_features=2, bias=True)\n",
              ")"
            ]
          },
          "metadata": {
            "tags": []
          },
          "execution_count": 17
        }
      ]
    },
    {
      "cell_type": "code",
      "metadata": {
        "id": "59JTHr9nMuLn",
        "colab_type": "code",
        "colab": {}
      },
      "source": [
        "# Note: AdamW is a class from the huggingface library (as opposed to pytorch) \n",
        "# I believe the 'W' stands for 'Weight Decay fix\"\n",
        "optimizer = AdamW(model.parameters(),\n",
        "                  lr = 2e-5, # args.learning_rate - default is 5e-5, our notebook had 2e-5\n",
        "                  eps = 1e-8 # args.adam_epsilon  - default is 1e-8.\n",
        "                )"
      ],
      "execution_count": 0,
      "outputs": []
    },
    {
      "cell_type": "code",
      "metadata": {
        "id": "zP5ikxs8Mzex",
        "colab_type": "code",
        "outputId": "aaa08a0d-c437-4c7a-d48e-fe414b11c3e6",
        "colab": {
          "base_uri": "https://localhost:8080/",
          "height": 35
        }
      },
      "source": [
        "from transformers import get_linear_schedule_with_warmup\n",
        "\n",
        "# Number of training epochs (authors recommend between 2 and 4)\n",
        "epochs = 2\n",
        "\n",
        "# Total number of training steps is number of batches * number of epochs.\n",
        "total_steps = len(train_dataloader) * epochs\n",
        "\n",
        "# Create the learning rate scheduler.\n",
        "scheduler = get_linear_schedule_with_warmup(optimizer, \n",
        "                                            num_warmup_steps = 0, # Default value in run_glue.py\n",
        "                                            num_training_steps = total_steps)\n",
        "scheduler"
      ],
      "execution_count": 19,
      "outputs": [
        {
          "output_type": "execute_result",
          "data": {
            "text/plain": [
              "<torch.optim.lr_scheduler.LambdaLR at 0x7fbd96869b38>"
            ]
          },
          "metadata": {
            "tags": []
          },
          "execution_count": 19
        }
      ]
    },
    {
      "cell_type": "code",
      "metadata": {
        "id": "14DFmK3GM7LU",
        "colab_type": "code",
        "colab": {}
      },
      "source": [
        "import numpy as np\n",
        "\n",
        "# Function to calculate the accuracy of our predictions vs labels\n",
        "def flat_accuracy(preds, labels):\n",
        "    pred_flat = np.argmax(preds, axis=1).flatten()\n",
        "    labels_flat = labels.flatten()\n",
        "    return np.sum(pred_flat == labels_flat) / len(labels_flat)"
      ],
      "execution_count": 0,
      "outputs": []
    },
    {
      "cell_type": "code",
      "metadata": {
        "id": "MwAeTSH8M8DW",
        "colab_type": "code",
        "colab": {}
      },
      "source": [
        "import time\n",
        "import datetime\n",
        "\n",
        "def format_time(elapsed):\n",
        "    '''\n",
        "    Takes a time in seconds and returns a string hh:mm:ss\n",
        "    '''\n",
        "    # Round to the nearest second.\n",
        "    elapsed_rounded = int(round((elapsed)))\n",
        "    \n",
        "    # Format as hh:mm:ss\n",
        "    return str(datetime.timedelta(seconds=elapsed_rounded))"
      ],
      "execution_count": 0,
      "outputs": []
    },
    {
      "cell_type": "code",
      "metadata": {
        "id": "0ZIQ76xxNNjw",
        "colab_type": "code",
        "outputId": "1d4d103a-d804-4285-cc6c-daf10d7d9f48",
        "colab": {
          "base_uri": "https://localhost:8080/",
          "height": 54
        }
      },
      "source": [
        "import torch\n",
        "\n",
        "# If there's a GPU available...\n",
        "if torch.cuda.is_available():    \n",
        "\n",
        "    # Tell PyTorch to use the GPU.    \n",
        "    device = torch.device(\"cuda\")\n",
        "\n",
        "    print('There are %d GPU(s) available.' % torch.cuda.device_count())\n",
        "\n",
        "    print('We will use the GPU:', torch.cuda.get_device_name(0))\n",
        "\n",
        "# If not...\n",
        "else:\n",
        "    print('No GPU available, using the CPU instead.')\n",
        "    device = torch.device(\"cpu\")"
      ],
      "execution_count": 22,
      "outputs": [
        {
          "output_type": "stream",
          "text": [
            "There are 1 GPU(s) available.\n",
            "We will use the GPU: Tesla P100-PCIE-16GB\n"
          ],
          "name": "stdout"
        }
      ]
    },
    {
      "cell_type": "code",
      "metadata": {
        "id": "ZsYIqX1PhGnF",
        "colab_type": "code",
        "outputId": "1272557a-c9fb-487c-cf23-2cb354bf77a3",
        "colab": {
          "base_uri": "https://localhost:8080/",
          "height": 35
        }
      },
      "source": [
        "len(train_dataloader)"
      ],
      "execution_count": 23,
      "outputs": [
        {
          "output_type": "execute_result",
          "data": {
            "text/plain": [
              "1563"
            ]
          },
          "metadata": {
            "tags": []
          },
          "execution_count": 23
        }
      ]
    },
    {
      "cell_type": "code",
      "metadata": {
        "id": "cwAJQG9CNP5u",
        "colab_type": "code",
        "colab": {}
      },
      "source": [
        "\n",
        "# import random\n",
        "\n",
        "# # This training code is based on the `run_glue.py` script here:\n",
        "# # https://github.com/huggingface/transformers/blob/5bfcd0485ece086ebcbed2d008813037968a9e58/examples/run_glue.py#L128\n",
        "\n",
        "\n",
        "# # Set the seed value all over the place to make this reproducible.\n",
        "# seed_val = 42\n",
        "\n",
        "# random.seed(seed_val)\n",
        "# np.random.seed(seed_val)\n",
        "# torch.manual_seed(seed_val)\n",
        "# torch.cuda.manual_seed_all(seed_val)\n",
        "\n",
        "# # Store the average loss after each epoch so we can plot them.\n",
        "# loss_values = []\n",
        "\n",
        "# # For each epoch...\n",
        "# for epoch_i in range(0, epochs):\n",
        "    \n",
        "#     # ========================================\n",
        "#     #               Training\n",
        "#     # ========================================\n",
        "    \n",
        "#     # Perform one full pass over the training set.\n",
        "\n",
        "#     print(\"\")\n",
        "#     print('======== Epoch {:} / {:} ========'.format(epoch_i + 1, epochs))\n",
        "#     print('Training...')\n",
        "\n",
        "#     # Measure how long the training epoch takes.\n",
        "#     t0 = time.time()\n",
        "\n",
        "#     # Reset the total loss for this epoch.\n",
        "#     total_loss = 0\n",
        "\n",
        "#     # Put the model into training mode. Don't be mislead--the call to \n",
        "#     # `train` just changes the *mode*, it doesn't *perform* the training.\n",
        "#     # `dropout` and `batchnorm` layers behave differently during training\n",
        "#     # vs. test (source: https://stackoverflow.com/questions/51433378/what-does-model-train-do-in-pytorch)\n",
        "#     model.train()\n",
        "\n",
        "#     # For each batch of training data...\n",
        "#     for step, batch in enumerate(train_dataloader):\n",
        "\n",
        "#         # Progress update every 40 batches.\n",
        "#         if step % 40 == 0 and not step == 0:\n",
        "#             # Calculate elapsed time in minutes.\n",
        "#             elapsed = format_time(time.time() - t0)\n",
        "            \n",
        "#             # Report progress.\n",
        "#             print('  Batch {:>5,}  of  {:>5,}.    Elapsed: {:}.'.format(step, len(train_dataloader), elapsed))\n",
        "\n",
        "#         # Unpack this training batch from our dataloader. \n",
        "#         #\n",
        "#         # As we unpack the batch, we'll also copy each tensor to the GPU using the \n",
        "#         # `to` method.\n",
        "#         #\n",
        "#         # `batch` contains three pytorch tensors:\n",
        "#         #   [0]: input ids \n",
        "#         #   [1]: attention masks\n",
        "#         #   [2]: labels \n",
        "#         b_input_ids = batch[0].to(device)\n",
        "#         b_input_mask = batch[1].to(device)\n",
        "#         b_labels = batch[2].to(device)\n",
        "\n",
        "#         # Always clear any previously calculated gradients before performing a\n",
        "#         # backward pass. PyTorch doesn't do this automatically because \n",
        "#         # accumulating the gradients is \"convenient while training RNNs\". \n",
        "#         # (source: https://stackoverflow.com/questions/48001598/why-do-we-need-to-call-zero-grad-in-pytorch)\n",
        "#         model.zero_grad()        \n",
        "\n",
        "#         # Perform a forward pass (evaluate the model on this training batch).\n",
        "#         # This will return the loss (rather than the model output) because we\n",
        "#         # have provided the `labels`.\n",
        "#         # The documentation for this `model` function is here: \n",
        "#         # https://huggingface.co/transformers/v2.2.0/model_doc/bert.html#transformers.BertForSequenceClassification\n",
        "#         outputs = model(b_input_ids, \n",
        "#                     token_type_ids=None, \n",
        "#                     attention_mask=b_input_mask, \n",
        "#                     labels=b_labels)\n",
        "#                 # The call to `model` always returns a tuple, so we need to pull the \n",
        "#         # loss value out of the tuple.\n",
        "#         loss = outputs[0]\n",
        "\n",
        "#         # Accumulate the training loss over all of the batches so that we can\n",
        "#         # calculate the average loss at the end. `loss` is a Tensor containing a\n",
        "#         # single value; the `.item()` function just returns the Python value \n",
        "#         # from the tensor.\n",
        "#         total_loss += loss.item()\n",
        "\n",
        "#         # Perform a backward pass to calculate the gradients.\n",
        "#         loss.backward()\n",
        "\n",
        "#         # Clip the norm of the gradients to 1.0.\n",
        "#         # This is to help prevent the \"exploding gradients\" problem.\n",
        "#         torch.nn.utils.clip_grad_norm_(model.parameters(), 1.0)\n",
        "\n",
        "#         # Update parameters and take a step using the computed gradient.\n",
        "#         # The optimizer dictates the \"update rule\"--how the parameters are\n",
        "#         # modified based on their gradients, the learning rate, etc.\n",
        "#         optimizer.step()\n",
        "\n",
        "#         # Update the learning rate.\n",
        "#         scheduler.step()\n",
        "\n",
        "#     # Calculate the average loss over the training data.\n",
        "#     avg_train_loss = total_loss / len(train_dataloader)            \n",
        "    \n",
        "#     # Store the loss value for plotting the learning curve.\n",
        "#     loss_values.append(avg_train_loss)\n",
        "\n",
        "#     print(\"\")\n",
        "#     print(\"  Average training loss: {0:.2f}\".format(avg_train_loss))\n",
        "#     print(\"  Training epcoh took: {:}\".format(format_time(time.time() - t0)))\n",
        "        \n",
        "#     # ========================================\n",
        "#     #               Validation\n",
        "#     # ========================================\n",
        "#     # After the completion of each training epoch, measure our performance on\n",
        "#     # our validation set.\n",
        "\n",
        "#     print(\"\")\n",
        "#     print(\"Running Validation...\")\n",
        "\n",
        "#     t0 = time.time()\n",
        "\n",
        "#     # Put the model in evaluation mode--the dropout layers behave differently\n",
        "#     # during evaluation.\n",
        "#     model.eval()\n",
        "\n",
        "#     # Tracking variables \n",
        "#     eval_loss, eval_accuracy = 0, 0\n",
        "#     nb_eval_steps, nb_eval_examples = 0, 0\n",
        "\n",
        "#     # Evaluate data for one epoch\n",
        "#     for batch in validation_dataloader:\n",
        "        \n",
        "#         # Add batch to GPU\n",
        "#         batch = tuple(t.to(device) for t in batch)\n",
        "        \n",
        "#         # Unpack the inputs from our dataloader\n",
        "#         b_input_ids, b_input_mask, b_labels = batch\n",
        "        \n",
        "#         # Telling the model not to compute or store gradients, saving memory and\n",
        "#         # speeding up validation\n",
        "#         with torch.no_grad():        \n",
        "\n",
        "#             # Forward pass, calculate logit predictions.\n",
        "#             # This will return the logits rather than the loss because we have\n",
        "#             # not provided labels.\n",
        "#             # token_type_ids is the same as the \"segment ids\", which \n",
        "#             # differentiates sentence 1 and 2 in 2-sentence tasks.\n",
        "#             # The documentation for this `model` function is here: \n",
        "#             # https://huggingface.co/transformers/v2.2.0/model_doc/bert.html#transformers.BertForSequenceClassification\n",
        "#             outputs = model(b_input_ids, \n",
        "#                             token_type_ids=None, \n",
        "#                             attention_mask=b_input_mask)\n",
        "        \n",
        "#         # Get the \"logits\" output by the model. The \"logits\" are the output\n",
        "#         # values prior to applying an activation function like the softmax.\n",
        "#         logits = outputs[0]\n",
        "\n",
        "#         # Move logits and labels to CPU\n",
        "#         logits = logits.detach().cpu().numpy()\n",
        "#         label_ids = b_labels.to('cpu').numpy()\n",
        "        \n",
        "#         # Calculate the accuracy for this batch of test sentences.\n",
        "#         tmp_eval_accuracy = flat_accuracy(logits, label_ids)\n",
        "        \n",
        "#         # Accumulate the total accuracy.\n",
        "#         eval_accuracy += tmp_eval_accuracy\n",
        "\n",
        "#         # Track the number of batches\n",
        "#         nb_eval_steps += 1\n",
        "\n",
        "#     # Report the final accuracy for this validation run.\n",
        "#     print(\"  Accuracy: {0:.2f}\".format(eval_accuracy/nb_eval_steps))\n",
        "#     print(\"  Validation took: {:}\".format(format_time(time.time() - t0)))\n",
        "\n",
        "# print(\"\")\n",
        "# print(\"Training complete!\")\n"
      ],
      "execution_count": 0,
      "outputs": []
    },
    {
      "cell_type": "code",
      "metadata": {
        "id": "E58dmjzk7iqx",
        "colab_type": "code",
        "colab": {}
      },
      "source": [
        "# torch.save(model.state_dict(), 'bert-model.pt')"
      ],
      "execution_count": 0,
      "outputs": []
    },
    {
      "cell_type": "code",
      "metadata": {
        "id": "E0C-Ey7d59Xv",
        "colab_type": "code",
        "outputId": "1aecf3d5-4695-49fc-ac9e-e779c6b11a04",
        "colab": {
          "base_uri": "https://localhost:8080/",
          "height": 35
        }
      },
      "source": [
        "model.load_state_dict(torch.load(path + 'model/bert-model.pt'))"
      ],
      "execution_count": 25,
      "outputs": [
        {
          "output_type": "execute_result",
          "data": {
            "text/plain": [
              "<All keys matched successfully>"
            ]
          },
          "metadata": {
            "tags": []
          },
          "execution_count": 25
        }
      ]
    },
    {
      "cell_type": "code",
      "metadata": {
        "id": "_y_hXQeACoNT",
        "colab_type": "code",
        "colab": {}
      },
      "source": [
        "for row in test_set:\n",
        "    row[2] = [x for x in row[2] if x is not 0]"
      ],
      "execution_count": 0,
      "outputs": []
    },
    {
      "cell_type": "code",
      "metadata": {
        "id": "gnBNSloIXcrq",
        "colab_type": "code",
        "colab": {
          "base_uri": "https://localhost:8080/",
          "height": 55
        },
        "outputId": "72284b00-ed50-44c9-a8ad-da3fe9f8d442"
      },
      "source": [
        "print(test_set[0])"
      ],
      "execution_count": 210,
      "outputs": [
        {
          "output_type": "stream",
          "text": [
            "[1, [14255], [84963, 354716, 522619, 418999, 322064, 141738, 303078, 355897, 71987, 219313, 310612, 257168, 410431, 541809, 466718, 89190, 66356, 329209, 283505, 596289, 362060, 113632, 113776, 362069, 129355, 381151, 81343, 46791, 360925, 294738, 157233, 263521, 509862, 90290, 598547, 397608, 442968, 81599, 68969, 434619, 71569, 476980, 365558, 251392, 118615, 292748, 133701, 246461, 327002, 510692, 368263, 304452, 224167, 234436, 98636, 107794, 388713, 524879, 399762, 174321, 282958, 245447, 345070, 361978, 183612, 566417, 539511, 19640, 420295, 525149, 302049, 12729, 223170, 41793, 356884, 288995, 472824, 597053, 40628, 546277, 262960, 275312, 112793, 248448, 363495, 223697, 406789, 349674, 550345, 11132, 265527, 189642, 18934, 527776, 314161, 576985, 146388, 156554, 424720, 109546, 531442, 144190, 399882, 469043, 89008, 494000, 296345, 193367, 299971, 234743, 189765, 354314, 128861, 431010, 158409, 523564, 177074, 257738, 213041, 283113, 187227, 533808, 444899, 507107, 38249, 202179, 216783, 589416, 136804, 274721, 399848, 445298, 187586, 74774, 192726, 216745, 283079, 185999, 585341, 298970, 91325, 15643, 490489, 94600, 5762, 483664, 141458, 527037, 55666, 513051, 96158, 18539, 30343, 375423, 103405, 441038, 584232, 590775, 160340, 103668, 237207, 547087, 487551, 299211, 87113, 458930, 24421, 18850, 192843, 75005, 174025, 179144, 440061, 326717, 304559, 97719, 542213, 484231, 583757, 144783, 390368, 254158, 192516, 512151, 392484, 351672, 413681, 395011, 577284, 576218, 88967, 521044, 18889, 461526, 532888, 147080, 411825, 391841, 47260, 328853, 408112, 414834, 328073, 547941, 523415, 77171, 479542, 109250, 560776, 424001, 211485, 507371, 21846, 252758, 542139, 559671, 78486, 331384, 100280, 588253, 388667, 289582, 252273, 182989, 86134, 401731, 446553, 373481, 402437, 515690, 581265, 153377, 113876, 204554, 483942, 18570, 385506, 253210, 357717, 18001, 483385, 389164, 322906, 536849, 438515, 344093, 364938, 588211, 197205, 79397, 555732, 195207, 205791, 81886, 55500, 289620, 5587, 272248, 216008, 194899, 510181, 73427, 221281, 166183, 513362, 544381, 19455, 434846, 120500, 285255, 334902, 391619, 458079, 291079, 162500, 280021, 69317, 77325, 197501, 476173, 178942, 365456, 47957, 202457, 173212, 522671, 474795, 169613, 442142, 197352, 462831, 509346, 552632, 338096, 97489, 377621, 155648, 427469, 245011, 121063, 447231, 278460, 349672, 55200, 510716, 307779, 131453, 28764, 274870, 72053, 264659, 172745, 420846, 401832, 79411, 374443, 352640, 396056, 215761, 110117, 561750, 70738, 359814, 390559, 316932, 426639, 220621, 155490, 152407, 535673, 349424, 528564, 208989, 454537, 468741, 297841, 286245, 255101, 154931, 402404, 333954, 571062, 413976, 422199, 297938, 487728, 423083, 251649, 219274, 328745, 427849, 248761, 519473, 42665, 249450, 338700, 485102, 596598, 37636, 306600, 309909, 453455, 426343, 248629, 546509, 158738, 121551, 202645, 191848, 74688, 311285, 177946, 540395, 132780, 441568, 541682, 65771, 421301, 98072, 203905, 395139, 402327, 397920, 76618, 481692, 152027, 156063, 583956, 528838, 276934, 187384, 390435, 212661, 208219, 167494, 209997, 290265, 231279, 481114, 444273, 520922, 444589, 216077, 510144, 377547, 424008, 196374, 576362, 492456, 388042, 593760, 366074, 130631, 291717, 319234, 105543, 399115, 334603, 562802, 182168, 462184, 243822, 54742, 151645, 254151, 124009, 540325, 296717, 588327, 363178, 531578, 483489, 376129, 153541, 316074, 576295, 245810, 529853, 562777, 15270, 378484, 279149, 83346, 571232, 31117, 375357, 18647, 146317, 470066, 183891, 34810, 417981, 233751, 477476, 194308, 361637, 411063, 156444, 99745, 100764, 175889, 8200, 85622, 397152, 574417, 55261, 406418, 534997, 571711, 176054, 42924, 16911, 40257, 12822, 174714, 358631, 178501, 33544, 304980, 83004, 235823, 313361, 253541, 227757, 331898, 223624, 107584, 197175, 441419, 434351, 507871, 489633, 452248, 59000, 61782, 599336, 108062, 201546, 146657, 14255]]\n"
          ],
          "name": "stdout"
        }
      ]
    },
    {
      "cell_type": "code",
      "metadata": {
        "id": "urToNxzbXoli",
        "colab_type": "code",
        "colab": {}
      },
      "source": [
        "test_set_small = test_set"
      ],
      "execution_count": 0,
      "outputs": []
    },
    {
      "cell_type": "code",
      "metadata": {
        "id": "On9jiA8FAR3H",
        "colab_type": "code",
        "colab": {}
      },
      "source": [
        "for row in test_set:\n",
        "    row[2] = [x for x in row[2] if x not in row[1]]"
      ],
      "execution_count": 0,
      "outputs": []
    },
    {
      "cell_type": "code",
      "metadata": {
        "id": "KX93f3jFC5sn",
        "colab_type": "code",
        "colab": {
          "base_uri": "https://localhost:8080/",
          "height": 54
        },
        "outputId": "a8f6fbfa-bf0f-4cab-d5ad-ff6c80c3f6f2"
      },
      "source": [
        "p = 0\n",
        "n = 0\n",
        "\n",
        "for row in test_set:\n",
        "    p += len(row[1])\n",
        "    n += len(row[2])\n",
        "\n",
        "print(p)\n",
        "print(n)"
      ],
      "execution_count": 68,
      "outputs": [
        {
          "output_type": "stream",
          "text": [
            "814\n",
            "164107\n"
          ],
          "name": "stdout"
        }
      ]
    },
    {
      "cell_type": "code",
      "metadata": {
        "id": "oOcZxLp7_20C",
        "colab_type": "code",
        "outputId": "5f23a602-12bc-44ae-91d6-9596eed6fece",
        "colab": {
          "base_uri": "https://localhost:8080/",
          "height": 198
        }
      },
      "source": [
        "test_df = pd.DataFrame(test_set)\n",
        "test_df = test_df.rename(columns={0: 'qid', 1: 'pos', 2:'cand'})\n",
        "# test_df = test_df[['qid', 'cand']]\n",
        "\n",
        "test_df.head(5)"
      ],
      "execution_count": 75,
      "outputs": [
        {
          "output_type": "execute_result",
          "data": {
            "text/html": [
              "<div>\n",
              "<style scoped>\n",
              "    .dataframe tbody tr th:only-of-type {\n",
              "        vertical-align: middle;\n",
              "    }\n",
              "\n",
              "    .dataframe tbody tr th {\n",
              "        vertical-align: top;\n",
              "    }\n",
              "\n",
              "    .dataframe thead th {\n",
              "        text-align: right;\n",
              "    }\n",
              "</style>\n",
              "<table border=\"1\" class=\"dataframe\">\n",
              "  <thead>\n",
              "    <tr style=\"text-align: right;\">\n",
              "      <th></th>\n",
              "      <th>qid</th>\n",
              "      <th>pos</th>\n",
              "      <th>cand</th>\n",
              "    </tr>\n",
              "  </thead>\n",
              "  <tbody>\n",
              "    <tr>\n",
              "      <th>0</th>\n",
              "      <td>1</td>\n",
              "      <td>[14255]</td>\n",
              "      <td>[84963, 354716, 522619, 418999, 322064, 141738...</td>\n",
              "    </tr>\n",
              "    <tr>\n",
              "      <th>1</th>\n",
              "      <td>25</td>\n",
              "      <td>[107584, 562777]</td>\n",
              "      <td>[426796, 350819, 45373, 531137, 407547, 443960...</td>\n",
              "    </tr>\n",
              "    <tr>\n",
              "      <th>2</th>\n",
              "      <td>43</td>\n",
              "      <td>[76662]</td>\n",
              "      <td>[226542, 581041, 483305, 311971, 30935, 72854,...</td>\n",
              "    </tr>\n",
              "    <tr>\n",
              "      <th>3</th>\n",
              "      <td>80</td>\n",
              "      <td>[252473]</td>\n",
              "      <td>[158646, 559539, 236961, 519473, 540688, 11118...</td>\n",
              "    </tr>\n",
              "    <tr>\n",
              "      <th>4</th>\n",
              "      <td>460</td>\n",
              "      <td>[591357, 556021, 555097]</td>\n",
              "      <td>[77564, 111240, 104043, 141579, 591163, 510989...</td>\n",
              "    </tr>\n",
              "  </tbody>\n",
              "</table>\n",
              "</div>"
            ],
            "text/plain": [
              "   qid  ...                                               cand\n",
              "0    1  ...  [84963, 354716, 522619, 418999, 322064, 141738...\n",
              "1   25  ...  [426796, 350819, 45373, 531137, 407547, 443960...\n",
              "2   43  ...  [226542, 581041, 483305, 311971, 30935, 72854,...\n",
              "3   80  ...  [158646, 559539, 236961, 519473, 540688, 11118...\n",
              "4  460  ...  [77564, 111240, 104043, 141579, 591163, 510989...\n",
              "\n",
              "[5 rows x 3 columns]"
            ]
          },
          "metadata": {
            "tags": []
          },
          "execution_count": 75
        }
      ]
    },
    {
      "cell_type": "code",
      "metadata": {
        "id": "mcJEqaGv7-FP",
        "colab_type": "code",
        "colab": {
          "base_uri": "https://localhost:8080/",
          "height": 35
        },
        "outputId": "be8985d3-21f5-4c78-97a1-e75ba49f3f93"
      },
      "source": [
        "test_pos = test_df[['qid', 'pos']]\n",
        "test_pos = test_pos.explode('pos')\n",
        "test_pos = test_pos.rename(columns={'pos': 'docid'})\n",
        "test_pos['label'] = test_pos.apply(lambda x: 1, axis=1)\n",
        "\n",
        "len(test_pos)"
      ],
      "execution_count": 76,
      "outputs": [
        {
          "output_type": "execute_result",
          "data": {
            "text/plain": [
              "814"
            ]
          },
          "metadata": {
            "tags": []
          },
          "execution_count": 76
        }
      ]
    },
    {
      "cell_type": "code",
      "metadata": {
        "id": "mw03ERJEBeAh",
        "colab_type": "code",
        "colab": {
          "base_uri": "https://localhost:8080/",
          "height": 198
        },
        "outputId": "8b47f5cf-25ba-4978-891a-b71da9c19e4a"
      },
      "source": [
        "test_neg = test_df[['qid', 'cand']]\n",
        "test_neg = test_neg.explode('cand')\n",
        "test_neg = test_neg.rename(columns={'cand': 'docid'})\n",
        "test_neg ['label'] = test_neg .apply(lambda x: 0, axis=1)\n",
        "\n",
        "test_neg.head(5)"
      ],
      "execution_count": 80,
      "outputs": [
        {
          "output_type": "execute_result",
          "data": {
            "text/html": [
              "<div>\n",
              "<style scoped>\n",
              "    .dataframe tbody tr th:only-of-type {\n",
              "        vertical-align: middle;\n",
              "    }\n",
              "\n",
              "    .dataframe tbody tr th {\n",
              "        vertical-align: top;\n",
              "    }\n",
              "\n",
              "    .dataframe thead th {\n",
              "        text-align: right;\n",
              "    }\n",
              "</style>\n",
              "<table border=\"1\" class=\"dataframe\">\n",
              "  <thead>\n",
              "    <tr style=\"text-align: right;\">\n",
              "      <th></th>\n",
              "      <th>qid</th>\n",
              "      <th>docid</th>\n",
              "      <th>label</th>\n",
              "    </tr>\n",
              "  </thead>\n",
              "  <tbody>\n",
              "    <tr>\n",
              "      <th>0</th>\n",
              "      <td>1</td>\n",
              "      <td>84963</td>\n",
              "      <td>0</td>\n",
              "    </tr>\n",
              "    <tr>\n",
              "      <th>0</th>\n",
              "      <td>1</td>\n",
              "      <td>354716</td>\n",
              "      <td>0</td>\n",
              "    </tr>\n",
              "    <tr>\n",
              "      <th>0</th>\n",
              "      <td>1</td>\n",
              "      <td>522619</td>\n",
              "      <td>0</td>\n",
              "    </tr>\n",
              "    <tr>\n",
              "      <th>0</th>\n",
              "      <td>1</td>\n",
              "      <td>418999</td>\n",
              "      <td>0</td>\n",
              "    </tr>\n",
              "    <tr>\n",
              "      <th>0</th>\n",
              "      <td>1</td>\n",
              "      <td>322064</td>\n",
              "      <td>0</td>\n",
              "    </tr>\n",
              "  </tbody>\n",
              "</table>\n",
              "</div>"
            ],
            "text/plain": [
              "   qid   docid  label\n",
              "0    1   84963      0\n",
              "0    1  354716      0\n",
              "0    1  522619      0\n",
              "0    1  418999      0\n",
              "0    1  322064      0"
            ]
          },
          "metadata": {
            "tags": []
          },
          "execution_count": 80
        }
      ]
    },
    {
      "cell_type": "code",
      "metadata": {
        "id": "i3Rm2MfvDiEJ",
        "colab_type": "code",
        "colab": {
          "base_uri": "https://localhost:8080/",
          "height": 35
        },
        "outputId": "281c8cd5-a64a-4a79-ed58-47172f01dddf"
      },
      "source": [
        "len(test_neg)"
      ],
      "execution_count": 81,
      "outputs": [
        {
          "output_type": "execute_result",
          "data": {
            "text/plain": [
              "164107"
            ]
          },
          "metadata": {
            "tags": []
          },
          "execution_count": 81
        }
      ]
    },
    {
      "cell_type": "code",
      "metadata": {
        "id": "dINVJlIr8Hxx",
        "colab_type": "code",
        "colab": {
          "base_uri": "https://localhost:8080/",
          "height": 285
        },
        "outputId": "c833c3aa-d800-4394-fb00-3d35f9cdaf73"
      },
      "source": [
        "test_data = pd.concat([test_pos, test_neg]).sort_values(by=['qid'])\n",
        "\n",
        "test_data['question'] = test_data['qid'].apply(lambda x: qid_to_text[x])\n",
        "test_data['ans_cand'] = test_data['docid'].apply(lambda x: label_to_ans[x])\n",
        "test_data['ques_token'] = test_data['question'].apply(lambda x: add_question_token(x))\n",
        "test_data['ans_cand'] = test_data['ans_cand'].apply(lambda x: add_ans_token(x))\n",
        "\n",
        "test_data = test_data[['qid', 'docid', 'label', 'ans_cand','ques_token']]\n",
        "test_data['seq'] = test_data['ques_token'] + test_data['ans_cand']\n",
        "test_data['seq_clipped'] = test_data['seq'].apply(clip)\n",
        "\n",
        "test_data.head(5)"
      ],
      "execution_count": 82,
      "outputs": [
        {
          "output_type": "execute_result",
          "data": {
            "text/html": [
              "<div>\n",
              "<style scoped>\n",
              "    .dataframe tbody tr th:only-of-type {\n",
              "        vertical-align: middle;\n",
              "    }\n",
              "\n",
              "    .dataframe tbody tr th {\n",
              "        vertical-align: top;\n",
              "    }\n",
              "\n",
              "    .dataframe thead th {\n",
              "        text-align: right;\n",
              "    }\n",
              "</style>\n",
              "<table border=\"1\" class=\"dataframe\">\n",
              "  <thead>\n",
              "    <tr style=\"text-align: right;\">\n",
              "      <th></th>\n",
              "      <th>qid</th>\n",
              "      <th>docid</th>\n",
              "      <th>label</th>\n",
              "      <th>ans_cand</th>\n",
              "      <th>ques_token</th>\n",
              "      <th>seq</th>\n",
              "      <th>seq_clipped</th>\n",
              "    </tr>\n",
              "  </thead>\n",
              "  <tbody>\n",
              "    <tr>\n",
              "      <th>0</th>\n",
              "      <td>1</td>\n",
              "      <td>14255</td>\n",
              "      <td>1</td>\n",
              "      <td>[yes, you, can, claim, your, business, de, ##d...</td>\n",
              "      <td>[[CLS], claiming, business, expenses, for, a, ...</td>\n",
              "      <td>[[CLS], claiming, business, expenses, for, a, ...</td>\n",
              "      <td>[[CLS], claiming, business, expenses, for, a, ...</td>\n",
              "    </tr>\n",
              "    <tr>\n",
              "      <th>0</th>\n",
              "      <td>1</td>\n",
              "      <td>581265</td>\n",
              "      <td>0</td>\n",
              "      <td>[in, the, us, tax, system, ,, you, cannot, \", ...</td>\n",
              "      <td>[[CLS], claiming, business, expenses, for, a, ...</td>\n",
              "      <td>[[CLS], claiming, business, expenses, for, a, ...</td>\n",
              "      <td>[[CLS], claiming, business, expenses, for, a, ...</td>\n",
              "    </tr>\n",
              "    <tr>\n",
              "      <th>0</th>\n",
              "      <td>1</td>\n",
              "      <td>515690</td>\n",
              "      <td>0</td>\n",
              "      <td>[i, don, ', t, quite, understand, your, though...</td>\n",
              "      <td>[[CLS], claiming, business, expenses, for, a, ...</td>\n",
              "      <td>[[CLS], claiming, business, expenses, for, a, ...</td>\n",
              "      <td>[[CLS], claiming, business, expenses, for, a, ...</td>\n",
              "    </tr>\n",
              "    <tr>\n",
              "      <th>0</th>\n",
              "      <td>1</td>\n",
              "      <td>402437</td>\n",
              "      <td>0</td>\n",
              "      <td>[&amp;, gt, ;, the, base, value, from, infrastruct...</td>\n",
              "      <td>[[CLS], claiming, business, expenses, for, a, ...</td>\n",
              "      <td>[[CLS], claiming, business, expenses, for, a, ...</td>\n",
              "      <td>[[CLS], claiming, business, expenses, for, a, ...</td>\n",
              "    </tr>\n",
              "    <tr>\n",
              "      <th>0</th>\n",
              "      <td>1</td>\n",
              "      <td>373481</td>\n",
              "      <td>0</td>\n",
              "      <td>[the, short, answer, is, yes, ,, losses, get, ...</td>\n",
              "      <td>[[CLS], claiming, business, expenses, for, a, ...</td>\n",
              "      <td>[[CLS], claiming, business, expenses, for, a, ...</td>\n",
              "      <td>[[CLS], claiming, business, expenses, for, a, ...</td>\n",
              "    </tr>\n",
              "  </tbody>\n",
              "</table>\n",
              "</div>"
            ],
            "text/plain": [
              "   qid  ...                                        seq_clipped\n",
              "0    1  ...  [[CLS], claiming, business, expenses, for, a, ...\n",
              "0    1  ...  [[CLS], claiming, business, expenses, for, a, ...\n",
              "0    1  ...  [[CLS], claiming, business, expenses, for, a, ...\n",
              "0    1  ...  [[CLS], claiming, business, expenses, for, a, ...\n",
              "0    1  ...  [[CLS], claiming, business, expenses, for, a, ...\n",
              "\n",
              "[5 rows x 7 columns]"
            ]
          },
          "metadata": {
            "tags": []
          },
          "execution_count": 82
        }
      ]
    },
    {
      "cell_type": "code",
      "metadata": {
        "id": "l_n5_bMWCrOX",
        "colab_type": "code",
        "colab": {}
      },
      "source": [
        "docid_map = test_data[['docid', 'seq_clipped']]\n",
        "test_docid_to_seq = {}\n",
        "\n",
        "for index, row in docid_map.iterrows():\n",
        "    test_docid_to_seq[row['docid']] = row['seq_clipped']\n"
      ],
      "execution_count": 0,
      "outputs": []
    },
    {
      "cell_type": "code",
      "metadata": {
        "id": "5qtyYyJjN_UX",
        "colab_type": "code",
        "colab": {
          "base_uri": "https://localhost:8080/",
          "height": 55
        },
        "outputId": "5ca3a5b8-3212-4fa2-c797-94fcacc562ca"
      },
      "source": [
        "print(take(5, test_docid_to_seq.items()))\n",
        "\n",
        "save_pickle(path+'data-bert/test_docid_to_seq.pickle', test_docid_to_seq)"
      ],
      "execution_count": 148,
      "outputs": [
        {
          "output_type": "stream",
          "text": [
            "[(14255, ['[CLS]', 'what', 'is', 'the', 'easiest', 'way', 'to', 'back', '-', 'test', 'index', 'funds', 'and', 'et', '##fs', '?', '[SEP]', 'yes', 'you', 'can', 'claim', 'your', 'business', 'de', '##duction', '##s', 'if', 'you', 'are', 'not', 'making', 'any', 'income', 'yet', '.', 'but', 'first', 'you', 'should', 'decide', 'what', 'structure', 'you', 'want', 'to', 'have', 'for', 'your', 'business', '.', 'either', 'a', 'company', 'structure', 'or', 'a', 'sole', 'trader', 'or', 'partnership', '.', 'company', 'structure', 'if', 'you', 'choose', 'a', 'company', 'structure', '(', 'which', 'is', 'more', 'expensive', 'to', 'set', 'up', ')', 'you', 'would', 'claim', 'your', 'de', '##duction', '##s', 'but', 'no', 'income', '.', 'so', 'you', 'would', 'be', 'making', 'a', 'loss', ',', 'and', 'continue', 'making', 'losses', 'until', 'your', 'income', 'from', 'the', 'business', 'exceed', 'your', 'expenses', '.', 'so', 'these', 'losses', 'will', 'remain', 'inside', 'the', 'company', 'and', 'can', 'be', 'carried', 'forward', 'to', 'future', 'income', 'years', 'when', 'you', 'are', 'making', 'profits', 'to', 'offset', 'these', 'profits', '.', 'refer', 'to', 'at', '##o', '-', 'company', 'tax', 'losses', 'for', 'more', 'information', '.', 'sole', 'trader', 'of', 'partnership', 'structure', 'if', 'you', 'choose', 'to', 'be', 'a', 'sole', 'trader', 'or', 'a', 'partnership', 'and', 'your', 'business', 'makes', 'a', 'loss', 'you', 'must', 'check', 'the', 'non', '-', 'commercial', 'loss', 'rules', 'to', 'see', 'if', 'you', 'can', 'offset', 'the', 'loss', 'against', 'your', 'income', 'from', 'other', 'sources', ',', 'such', 'as', 'wages', '.', 'in', 'order', 'to', 'offset', 'your', 'business', 'losses', 'against', 'your', 'other', 'income', 'your', 'business', 'must', 'pass', 'one', 'of', 'these', 'tests', ':', 'if', 'you', 'don', \"'\", 't', 'pass', 'any', 'of', 'these', 'tests', ',', 'which', 'being', 'a', 'start', '-', 'up', 'you', 'most', 'likely', 'won', \"'\", 't', ',', 'you', 'must', 'carry', 'forward', 'your', 'business', 'losses', 'until', 'an', 'income', 'year', 'in']), (581265, ['[CLS]', 'understanding', 'sec', 'filing', '##s', '[SEP]', 'in', 'the', 'us', 'tax', 'system', ',', 'you', 'cannot', '\"', 'write', '-', 'off', '\"', 'capital', 'assets', '.', 'you', 'have', 'to', 'de', '##pre', '##cia', '##te', 'them', ',', 'with', 'very', 'specific', 'exceptions', '.', 'so', 'while', 'you', 'may', 'be', 'purchasing', '$', '450', '##0', 'of', 'equipment', ',', 'your', 'de', '##duction', 'may', 'be', 'significantly', 'less', '.', 'for', 'example', ',', 'computers', 'are', 'de', '##pre', '##cia', '##ted', 'over', 'the', 'period', 'of', '5', 'years', ',', 'so', 'if', 'you', 'bought', 'a', '$', '1000', 'computer', '-', 'you', 'write', 'off', '$', '200', '/', 'year', 'until', 'it', 'is', 'completely', 'de', '##pre', '##cia', '##ted', ',', 'not', '$', '1000', 'at', 'once', '.', 'there', 'are', 'exceptions', 'however', ',', 'for', 'example', '-', 'ir', '##c', 'sec', '.', '179', 'is', 'one', 'of', 'them', '.', 'but', 'you', 'should', 'talk', 'to', 'a', 'tax', 'adviser', '(', 'ea', '/', 'cp', '##a', 'licensed', 'in', 'your', 'state', ')', 'about', 'whether', 'it', 'is', 'applicable', 'to', 'the', 'specific', 'expense', 'you', 'want', 'to', '\"', 'write', 'off', '\"', 'and', 'to', 'what', 'extent', '.', 'also', ',', 'keep', 'in', 'mind', 'that', 'state', 'laws', 'may', 'not', 'conform', 'to', 'the', 'federal', 'ir', '##c', '.', 'while', 'you', 'may', 'be', 'able', 'to', 'use', 'sec', '.', '179', 'or', 'other', 'exceptions', 'and', 'de', '##du', '##ct', 'your', 'expenses', 'on', 'your', 'federal', 'return', ',', 'you', 'may', 'end', 'up', 'with', 'a', 'whole', 'different', 'set', 'of', 'de', '##duction', '##s', 'on', 'your', 'state', 'return', '.', 'and', 'last', 'but', 'not', 'least', ':', 'equipment', 'that', 'you', 'de', '##pre', '##cia', '##ted', 'or', 'otherwise', '\"', 'wrote', 'off', '\"', 'that', 'is', 'later', 'sold', '-', 'is', 'income', 'to', 'you', ',', 'since', 'de', '##pre', '##ciation', '/', 'de', '##duction', 'reduces']), (515690, ['[CLS]', 'is', 'there', 'an', 'advantage', 'to', 'a', 'traditional', 'but', 'non', '-', 'de', '##du', '##ctable', 'ira', 'over', 'a', 'taxa', '##ble', 'account', '?', '[', 'duplicate', ']', '[SEP]', 'i', 'don', \"'\", 't', 'quite', 'understand', 'your', 'thought', 'process', 'here', '.', 'first', ',', 'in', 'a', 'tax', '-', 'advantage', '##d', 'retirement', 'account', 'you', 'are', 'not', 'allowed', 'to', 'engage', 'in', 'a', 'transaction', 'with', 'yourself', '.', 'if', 'you', 'just', 'want', 'to', 'run', 'a', 'business', 'and', 'be', 'able', 'to', 'write', 'off', 'expenses', ',', 'how', 'is', 'using', 'the', 'self', '-', 'directed', 'ira', 'relevant', '?', 'you', 'can', 'either', 'buy', 'the', 'condo', 'using', 'your', 'tax', '-', 'advantage', '##d', 'account', 'and', 'rent', 'it', 'out', 'to', 'regular', 'tenants', '.', 'or', 'you', 'buy', 'the', 'condo', 'yourself', 'using', 'your', 'own', 'money', 'and', 'then', 'operate', 'your', 'business', 'so', 'you', 'can', 'de', '##du', '##ct', 'business', 'expenses', 'from', 'doing', 'so', '.', '401', '##k', \"'\", 's', 'allow', 'you', 'to', 'take', 'a', 'loan', 'out', 'of', 'it', ',', 'so', 'you', 'can', 'look', 'into', 'that', 'as', 'well', '.', '[SEP]']), (402437, ['[CLS]', 'understanding', 'sec', 'filing', '##s', '[SEP]', '&', 'gt', ';', 'the', 'base', 'value', 'from', 'infrastructure', 'is', 'derived', 'on', 'a', 'per', '-', 'capita', 'basis', '.', 'it', 'is', 'a', '\"', 'fixed', 'cost', '\"', 'as', 'opposed', 'to', 'a', 'variable', 'one', '.', 'in', 'other', 'words', ',', 'roads', 'are', 'just', 'as', 'useful', 'to', 'me', 'as', 'they', 'are', 'to', 'you', 'regardless', 'of', 'my', 'net', 'worth', '.', 'a1', ':', 'misleading', ':', 'infrastructure', 'is', 'useful', 'to', 'those', 'who', 'use', 'it', 'more', 'independently', 'of', 'classify', '##ing', 'it', 'as', '[', 'fixed', 'vs', 'variable', ']', '(', 'http', ':', '/', '/', 'en', '.', 'wikipedia', '.', 'org', '/', 'wi', '##ki', '/', 'fixed', '_', 'cost', ')', '.', 'take', 'the', 'faa', 'for', 'example', '.', 'the', 'poor', 'who', 'cannot', 'afford', 'a', 'plane', 'ticket', 'and', '/', 'or', 'order', 'things', 'via', 'next', '-', 'day', 'air', 'derive', 'very', 'little', 'benefit', 'from', 'the', 'faa', 'compared', 'to', 'a', 'person', 'who', 'owns', 'their', 'own', 'aircraft', 'and', 'can', 'fly', 'out', 'at', 'a', 'moments', 'notice', 'knowing', 'full', 'well', 'they', 'can', 'file', 'a', 'flight', 'plan', 'and', 'communicate', 'with', 'a', 'network', 'of', 'airports', 'to', 'ensure', 'their', 'plane', 'will', 'not', 'crash', 'into', 'any', 'other', 'jets', '.', '&', 'gt', ';', 'a', 'tank', ',', 'a', 'missile', ',', 'a', 'police', 'officer', 'protects', 'me', 'the', 'same', 'as', 'it', 'does', 'anyone', 'else', '.', 'a2', ':', 'but', ',', 'a', 'person', 'with', 'more', 'net', 'worth', 'has', 'more', 'to', 'lose', 'than', 'a', 'person', 'with', 'low', 'net', 'worth', '.', 'therefore', ',', 'even', 'independent', 'of', 'a1', 'above', ',', 'your', 'statement', 'is', 'false', '.', 'those', 'examples', 'protect', 'those', 'with', 'more', 'property', '/', 'net', '-', 'worth', '/', 'etc', 'more', '-', 'so', 'than', 'those', 'with', 'less', '.']), (373481, ['[CLS]', 'can', 'a', 'single', '-', 'member', 'llc', 'have', 'a', 'fiscal', 'year', 'not', 'as', 'the', 'calendar', 'year', '?', '[SEP]', 'the', 'short', 'answer', 'is', 'yes', ',', 'losses', 'get', 'passed', 'through', 'to', 'members', '.', 'limits', '/', 'percentage', '##s', 'do', 'apply', ',', 'primarily', 'based', 'on', 'your', 'share', 'in', 'the', 'business', '.', 'check', 'out', 'the', 'final', 'post', 'in', 'this', 'thread', ':', 'http', ':', '/', '/', 'community', '##2', '.', 'business', '.', 'gov', '/', 't', '##5', '/', 'other', '-', 'business', '-', 'issues', '/', 'paying', '-', 'oneself', '-', 'in', '-', 'a', '-', 'llc', '/', 'td', '-', 'p', '/', '160', '##60', 'it', \"'\", 's', 'not', 'a', 'bad', 'little', 'summary', 'of', 'the', 'profit', '/', 'loss', 'pass', '-', 'through', '.', 'regarding', 'your', '60', '##k', '/', '60', '##k', 'example', ':', 'the', 'amount', 'of', 'money', 'you', 'earn', 'in', 'your', 'day', 'job', 'will', 'impact', 'how', 'much', 'loss', 'you', 'can', 'claim', '.', 'unfortunately', 'i', 'can', \"'\", 't', 'find', 'anything', 'more', 'recent', 'at', 'the', 'irs', 'or', 'business', '.', 'gov', ',', 'but', 'see', 'this', 'from', '2004', '-', '40', '##k', 'was', 'the', 'limit', 'before', 'the', 'amount', 'you', 'could', 'claim', 'against', 'started', 'to', 'be', 'mit', '##igate', '##d', ':', 'http', ':', '/', '/', 'en', '.', 'all', '##ex', '##per', '##ts', '.', 'com', '/', 'q', '/', 'tax', '-', 'law', '-', 'questions', '-', '93', '##2', '/', 'tax', '-', 'loss', '-', 'pass', '.', 'h', '##tm', 'h', '##th', '[SEP]'])]\n"
          ],
          "name": "stdout"
        }
      ]
    },
    {
      "cell_type": "code",
      "metadata": {
        "id": "Sav3TOKrObdu",
        "colab_type": "code",
        "colab": {}
      },
      "source": [
        "test_d = test_data[['qid', 'docid', 'label']]\n",
        "testset = []\n",
        "\n",
        "for index, row in test_d.iterrows():\n",
        "    tmp = []\n",
        "    tmp.append(row['qid'])\n",
        "    tmp.append(row['docid'])\n",
        "    tmp.append(row['label'])\n",
        "\n",
        "    testset.append(tmp)"
      ],
      "execution_count": 0,
      "outputs": []
    },
    {
      "cell_type": "code",
      "metadata": {
        "id": "BvsloaynPJ7D",
        "colab_type": "code",
        "colab": {}
      },
      "source": [
        "t = test_set_small[:1]"
      ],
      "execution_count": 0,
      "outputs": []
    },
    {
      "cell_type": "code",
      "metadata": {
        "id": "BRVoDlj8QIQR",
        "colab_type": "code",
        "colab": {
          "base_uri": "https://localhost:8080/",
          "height": 74
        },
        "outputId": "35d197c6-825a-4792-dd4a-6c2e4ff8f99e"
      },
      "source": [
        "text = test_docid_to_seq[14255]\n",
        " \n",
        "encoded_seq = tokenizer.convert_tokens_to_ids(text)\n",
        "\n",
        "print(encoded_seq)\n",
        "\n",
        "def pad_seq(seq, max_seq_len):\n",
        "    # Pad each seq to be the same length to process in batch.\n",
        "    # pad_token = 0\n",
        "    if len(seq) >= max_seq_len:\n",
        "        seq = seq[:max_seq_len]\n",
        "    else:\n",
        "        seq += [0]*(max_seq_len - len(seq))\n",
        "    return seq\n",
        "\n",
        "padded_seq_idx = pad_seq(encoded_seq, 500)\n",
        "\n",
        "print([int(token_id > 0) for token_id in padded_seq_idx])"
      ],
      "execution_count": 176,
      "outputs": [
        {
          "output_type": "stream",
          "text": [
            "[101, 2054, 2003, 1996, 25551, 2126, 2000, 2067, 1011, 3231, 5950, 5029, 1998, 3802, 10343, 1029, 102, 2748, 2017, 2064, 4366, 2115, 2449, 2139, 16256, 2015, 2065, 2017, 2024, 2025, 2437, 2151, 3318, 2664, 1012, 2021, 2034, 2017, 2323, 5630, 2054, 3252, 2017, 2215, 2000, 2031, 2005, 2115, 2449, 1012, 2593, 1037, 2194, 3252, 2030, 1037, 7082, 17667, 2030, 5386, 1012, 2194, 3252, 2065, 2017, 5454, 1037, 2194, 3252, 1006, 2029, 2003, 2062, 6450, 2000, 2275, 2039, 1007, 2017, 2052, 4366, 2115, 2139, 16256, 2015, 2021, 2053, 3318, 1012, 2061, 2017, 2052, 2022, 2437, 1037, 3279, 1010, 1998, 3613, 2437, 6409, 2127, 2115, 3318, 2013, 1996, 2449, 13467, 2115, 11727, 1012, 2061, 2122, 6409, 2097, 3961, 2503, 1996, 2194, 1998, 2064, 2022, 3344, 2830, 2000, 2925, 3318, 2086, 2043, 2017, 2024, 2437, 11372, 2000, 16396, 2122, 11372, 1012, 6523, 2000, 2012, 2080, 1011, 2194, 4171, 6409, 2005, 2062, 2592, 1012, 7082, 17667, 1997, 5386, 3252, 2065, 2017, 5454, 2000, 2022, 1037, 7082, 17667, 2030, 1037, 5386, 1998, 2115, 2449, 3084, 1037, 3279, 2017, 2442, 4638, 1996, 2512, 1011, 3293, 3279, 3513, 2000, 2156, 2065, 2017, 2064, 16396, 1996, 3279, 2114, 2115, 3318, 2013, 2060, 4216, 1010, 2107, 2004, 12678, 1012, 1999, 2344, 2000, 16396, 2115, 2449, 6409, 2114, 2115, 2060, 3318, 2115, 2449, 2442, 3413, 2028, 1997, 2122, 5852, 1024, 2065, 2017, 2123, 1005, 1056, 3413, 2151, 1997, 2122, 5852, 1010, 2029, 2108, 1037, 2707, 1011, 2039, 2017, 2087, 3497, 2180, 1005, 1056, 1010, 2017, 2442, 4287, 2830, 2115, 2449, 6409, 2127, 2019, 3318, 2095, 1999]\n",
            "[1, 1, 1, 1, 1, 1, 1, 1, 1, 1, 1, 1, 1, 1, 1, 1, 1, 1, 1, 1, 1, 1, 1, 1, 1, 1, 1, 1, 1, 1, 1, 1, 1, 1, 1, 1, 1, 1, 1, 1, 1, 1, 1, 1, 1, 1, 1, 1, 1, 1, 1, 1, 1, 1, 1, 1, 1, 1, 1, 1, 1, 1, 1, 1, 1, 1, 1, 1, 1, 1, 1, 1, 1, 1, 1, 1, 1, 1, 1, 1, 1, 1, 1, 1, 1, 1, 1, 1, 1, 1, 1, 1, 1, 1, 1, 1, 1, 1, 1, 1, 1, 1, 1, 1, 1, 1, 1, 1, 1, 1, 1, 1, 1, 1, 1, 1, 1, 1, 1, 1, 1, 1, 1, 1, 1, 1, 1, 1, 1, 1, 1, 1, 1, 1, 1, 1, 1, 1, 1, 1, 1, 1, 1, 1, 1, 1, 1, 1, 1, 1, 1, 1, 1, 1, 1, 1, 1, 1, 1, 1, 1, 1, 1, 1, 1, 1, 1, 1, 1, 1, 1, 1, 1, 1, 1, 1, 1, 1, 1, 1, 1, 1, 1, 1, 1, 1, 1, 1, 1, 1, 1, 1, 1, 1, 1, 1, 1, 1, 1, 1, 1, 1, 1, 1, 1, 1, 1, 1, 1, 1, 1, 1, 1, 1, 1, 1, 1, 1, 1, 1, 1, 1, 1, 1, 1, 1, 1, 1, 1, 1, 1, 1, 1, 1, 1, 1, 1, 1, 1, 1, 1, 1, 1, 1, 1, 1, 1, 1, 1, 1, 1, 1, 1, 1, 1, 1, 0, 0, 0, 0, 0, 0, 0, 0, 0, 0, 0, 0, 0, 0, 0, 0, 0, 0, 0, 0, 0, 0, 0, 0, 0, 0, 0, 0, 0, 0, 0, 0, 0, 0, 0, 0, 0, 0, 0, 0, 0, 0, 0, 0, 0, 0, 0, 0, 0, 0, 0, 0, 0, 0, 0, 0, 0, 0, 0, 0, 0, 0, 0, 0, 0, 0, 0, 0, 0, 0, 0, 0, 0, 0, 0, 0, 0, 0, 0, 0, 0, 0, 0, 0, 0, 0, 0, 0, 0, 0, 0, 0, 0, 0, 0, 0, 0, 0, 0, 0, 0, 0, 0, 0, 0, 0, 0, 0, 0, 0, 0, 0, 0, 0, 0, 0, 0, 0, 0, 0, 0, 0, 0, 0, 0, 0, 0, 0, 0, 0, 0, 0, 0, 0, 0, 0, 0, 0, 0, 0, 0, 0, 0, 0, 0, 0, 0, 0, 0, 0, 0, 0, 0, 0, 0, 0, 0, 0, 0, 0, 0, 0, 0, 0, 0, 0, 0, 0, 0, 0, 0, 0, 0, 0, 0, 0, 0, 0, 0, 0, 0, 0, 0, 0, 0, 0, 0, 0, 0, 0, 0, 0, 0, 0, 0, 0, 0, 0, 0, 0, 0, 0, 0, 0, 0, 0, 0, 0, 0, 0, 0, 0, 0, 0, 0, 0, 0, 0, 0, 0, 0, 0, 0, 0, 0, 0, 0, 0, 0, 0, 0, 0, 0, 0, 0, 0, 0, 0, 0, 0, 0, 0, 0, 0]\n"
          ],
          "name": "stdout"
        }
      ]
    },
    {
      "cell_type": "code",
      "metadata": {
        "id": "vu7rnpVXPV3H",
        "colab_type": "code",
        "colab": {}
      },
      "source": [
        "def eval(model, test_set, qid_rel, max_seq_len, k):\n",
        "    qid_pred_rank = {}\n",
        "\n",
        "    model.eval()\n",
        "\n",
        "    for i, seq in enumerate(tqdm(test_set)):\n",
        "        \n",
        "        qid, label, cands = seq[0], seq[1], seq[2]\n",
        "\n",
        "        cands_id = np.array(cands)\n",
        "\n",
        "        scores = []\n",
        "\n",
        "        for docid in cands:\n",
        "\n",
        "            seq_text = test_docid_to_seq[docid]\n",
        "\n",
        "            encoded_seq = tokenizer.convert_tokens_to_ids(seq_text)\n",
        "\n",
        "            input_ids = pad_seq(encoded_seq, max_seq_len)\n",
        "\n",
        "            att_mask = torch.tensor([[int(token_id > 0) for token_id in input_ids]]).to(device)\n",
        "            \n",
        "            input_ids = torch.tensor([input_ids]).to(device)\n",
        "\n",
        "\n",
        "            with torch.no_grad():\n",
        "            # Forward pass, calculate logit predictions\n",
        "                outputs = model(input_ids, token_type_ids=None, attention_mask=att_mask)\n",
        "\n",
        "            logits = outputs[0]\n",
        "\n",
        "            pred = torch.sigmoid(logits)\n",
        "\n",
        "            # Move logits and labels to CPU\n",
        "            logits = logits.detach().cpu().numpy()\n",
        "            pred = pred.detach().cpu().numpy()\n",
        "\n",
        "            scores.append(pred[:,1][0])\n",
        "\n",
        "        # Get the indices of the sorted similarity scores\n",
        "        sorted_index = np.argsort(scores)[::-1]\n",
        "\n",
        "        # Get the docid from the sorted indices\n",
        "        ranked_ans = cands_id[sorted_index]\n",
        "\n",
        "        # Dict - key: qid, value: ranked list of docids\n",
        "        qid_pred_rank[qid] = ranked_ans\n",
        "\n",
        "        # return qid_pred_rank\n",
        "        MRR, average_ndcg, precision = evaluate(qid_pred_rank, qid_rel, k)\n",
        "\n",
        "        return qid_pred_rank, MRR, average_ndcg, precision"
      ],
      "execution_count": 0,
      "outputs": []
    },
    {
      "cell_type": "code",
      "metadata": {
        "id": "oOR-OM-qbb3T",
        "colab_type": "code",
        "colab": {
          "base_uri": "https://localhost:8080/",
          "height": 35
        },
        "outputId": "b2eb4d38-5c09-41e8-9af0-e55abee72234"
      },
      "source": [
        "toy_test_label = dict(itertools.islice(test_qid_rel.items(), 1))"
      ],
      "execution_count": 238,
      "outputs": [
        {
          "output_type": "execute_result",
          "data": {
            "text/plain": [
              "{1: [14255]}"
            ]
          },
          "metadata": {
            "tags": []
          },
          "execution_count": 238
        }
      ]
    },
    {
      "cell_type": "code",
      "metadata": {
        "id": "xGa0KvT4cbbo",
        "colab_type": "code",
        "colab": {
          "base_uri": "https://localhost:8080/",
          "height": 163
        },
        "outputId": "8c3c6ec2-4aca-4b28-c3ad-0605c04d3097"
      },
      "source": [
        "model.load_state_dict(torch.load(path + 'model/bert-model.pt'))\n",
        "\n",
        "k = 10\n",
        "\n",
        "qid_pred_rank, MRR, average_ndcg, precision = eval(model, t, toy_test_label, 256, k)\n",
        "\n",
        "num_q = len(test_set)\n",
        "\n",
        "print(\"\\n\\nAverage nDCG@{} for {} queries: {}\\n\".format(k, num_q, average_ndcg))\n",
        "\n",
        "print(\"MRR@{} for {} queries: {}\\n\".format(k, num_q, MRR))\n",
        "\n",
        "print(\"Average Precision@{}: {}\".format(1, precision))"
      ],
      "execution_count": 243,
      "outputs": [
        {
          "output_type": "stream",
          "text": [
            "\r  0%|          | 0/1 [00:00<?, ?it/s]"
          ],
          "name": "stderr"
        },
        {
          "output_type": "stream",
          "text": [
            "\n",
            "\n",
            "Average nDCG@10 for 330 queries: 0\n",
            "\n",
            "MRR@10 for 330 queries: 0.0\n",
            "\n",
            "Average Precision@1: 0.0\n"
          ],
          "name": "stdout"
        },
        {
          "output_type": "stream",
          "text": [
            "\n"
          ],
          "name": "stderr"
        }
      ]
    }
  ]
}