{
  "nbformat": 4,
  "nbformat_minor": 0,
  "metadata": {
    "colab": {
      "name": "prepare_data.ipynb",
      "provenance": [],
      "collapsed_sections": []
    },
    "kernelspec": {
      "name": "python3",
      "display_name": "Python 3"
    }
  },
  "cells": [
    {
      "cell_type": "markdown",
      "metadata": {
        "id": "7kGXtPdGOXVT",
        "colab_type": "text"
      },
      "source": [
        "This notebook:\n",
        "1. loads and cleans the raw data\n",
        "2. Splits the data into train, test, and validation sets\n",
        "3. Prepares the data for the Anserini retriever\n",
        "4. Pre-processes and tokenizes the raw cleaned data\n",
        "5. Creates vocabulary from the corpus"
      ]
    },
    {
      "cell_type": "code",
      "metadata": {
        "id": "UPRofcaDIT8k",
        "colab_type": "code",
        "colab": {
          "base_uri": "https://localhost:8080/",
          "height": 35
        },
        "outputId": "71cc7bee-319e-4f07-db61-8eb72ca211ec"
      },
      "source": [
        "from google.colab import drive\n",
        "drive.mount('/content/drive')"
      ],
      "execution_count": 36,
      "outputs": [
        {
          "output_type": "stream",
          "text": [
            "Drive already mounted at /content/drive; to attempt to forcibly remount, call drive.mount(\"/content/drive\", force_remount=True).\n"
          ],
          "name": "stdout"
        }
      ]
    },
    {
      "cell_type": "code",
      "metadata": {
        "id": "ovy5Jis3IAz8",
        "colab_type": "code",
        "outputId": "67abb2dd-d2bd-4a88-961b-ce7d840f5eb0",
        "colab": {
          "base_uri": "https://localhost:8080/",
          "height": 54
        }
      },
      "source": [
        "from utils import *\n",
        "from prepare_data import *\n",
        "from process_data import *\n",
        "\n",
        "path = \"drive/My Drive/Thesis/\""
      ],
      "execution_count": 39,
      "outputs": [
        {
          "output_type": "stream",
          "text": [
            "[nltk_data] Downloading package punkt to /root/nltk_data...\n",
            "[nltk_data]   Unzipping tokenizers/punkt.zip.\n"
          ],
          "name": "stdout"
        }
      ]
    },
    {
      "cell_type": "markdown",
      "metadata": {
        "colab_type": "text",
        "id": "aqxmryywHDn2"
      },
      "source": [
        "# **Load data**"
      ]
    },
    {
      "cell_type": "code",
      "metadata": {
        "id": "etUrlQ4Y0m8h",
        "colab_type": "code",
        "colab": {}
      },
      "source": [
        "# Document id and Answer text\n",
        "collection = load_answers_to_df(path + \"data/raw/FiQA_train_doc_final.tsv\")\n",
        "# Question id and Question text\n",
        "queries = load_questions_to_df(path + \"data/raw/FiQA_train_question_final.tsv\")\n",
        "# Question id and Answer id pair\n",
        "qid_docid = load_qid_docid_to_df(path + \"data/raw/FiQA_train_question_doc_final.tsv\")"
      ],
      "execution_count": 0,
      "outputs": []
    },
    {
      "cell_type": "code",
      "metadata": {
        "id": "qqRAE1UTNCGi",
        "colab_type": "code",
        "colab": {
          "base_uri": "https://localhost:8080/",
          "height": 216
        },
        "outputId": "445ffb71-c92d-4245-9062-a5fbf4499873"
      },
      "source": [
        "print(\"Document id and Answer text\")\n",
        "collection.head(5)"
      ],
      "execution_count": 41,
      "outputs": [
        {
          "output_type": "stream",
          "text": [
            "Document id and Answer text\n"
          ],
          "name": "stdout"
        },
        {
          "output_type": "execute_result",
          "data": {
            "text/html": [
              "<div>\n",
              "<style scoped>\n",
              "    .dataframe tbody tr th:only-of-type {\n",
              "        vertical-align: middle;\n",
              "    }\n",
              "\n",
              "    .dataframe tbody tr th {\n",
              "        vertical-align: top;\n",
              "    }\n",
              "\n",
              "    .dataframe thead th {\n",
              "        text-align: right;\n",
              "    }\n",
              "</style>\n",
              "<table border=\"1\" class=\"dataframe\">\n",
              "  <thead>\n",
              "    <tr style=\"text-align: right;\">\n",
              "      <th></th>\n",
              "      <th>docid</th>\n",
              "      <th>doc</th>\n",
              "    </tr>\n",
              "  </thead>\n",
              "  <tbody>\n",
              "    <tr>\n",
              "      <th>0</th>\n",
              "      <td>3</td>\n",
              "      <td>I'm not saying I don't like the idea of on-the...</td>\n",
              "    </tr>\n",
              "    <tr>\n",
              "      <th>1</th>\n",
              "      <td>31</td>\n",
              "      <td>So nothing preventing false ratings besides ad...</td>\n",
              "    </tr>\n",
              "    <tr>\n",
              "      <th>2</th>\n",
              "      <td>56</td>\n",
              "      <td>You can never use a health FSA for individual ...</td>\n",
              "    </tr>\n",
              "    <tr>\n",
              "      <th>3</th>\n",
              "      <td>59</td>\n",
              "      <td>Samsung created the LCD and other flat screen ...</td>\n",
              "    </tr>\n",
              "    <tr>\n",
              "      <th>4</th>\n",
              "      <td>63</td>\n",
              "      <td>Here are the SEC requirements: The federal sec...</td>\n",
              "    </tr>\n",
              "  </tbody>\n",
              "</table>\n",
              "</div>"
            ],
            "text/plain": [
              "   docid                                                doc\n",
              "0      3  I'm not saying I don't like the idea of on-the...\n",
              "1     31  So nothing preventing false ratings besides ad...\n",
              "2     56  You can never use a health FSA for individual ...\n",
              "3     59  Samsung created the LCD and other flat screen ...\n",
              "4     63  Here are the SEC requirements: The federal sec..."
            ]
          },
          "metadata": {
            "tags": []
          },
          "execution_count": 41
        }
      ]
    },
    {
      "cell_type": "code",
      "metadata": {
        "id": "Uz4C9vm2NLeb",
        "colab_type": "code",
        "colab": {
          "base_uri": "https://localhost:8080/",
          "height": 216
        },
        "outputId": "2a6d26ba-4a43-4045-808d-cb1d61f200b3"
      },
      "source": [
        "print(\"Question id and Question text\")\n",
        "queries.head(5)"
      ],
      "execution_count": 42,
      "outputs": [
        {
          "output_type": "stream",
          "text": [
            "Question id and Question text\n"
          ],
          "name": "stdout"
        },
        {
          "output_type": "execute_result",
          "data": {
            "text/html": [
              "<div>\n",
              "<style scoped>\n",
              "    .dataframe tbody tr th:only-of-type {\n",
              "        vertical-align: middle;\n",
              "    }\n",
              "\n",
              "    .dataframe tbody tr th {\n",
              "        vertical-align: top;\n",
              "    }\n",
              "\n",
              "    .dataframe thead th {\n",
              "        text-align: right;\n",
              "    }\n",
              "</style>\n",
              "<table border=\"1\" class=\"dataframe\">\n",
              "  <thead>\n",
              "    <tr style=\"text-align: right;\">\n",
              "      <th></th>\n",
              "      <th>qid</th>\n",
              "      <th>question</th>\n",
              "    </tr>\n",
              "  </thead>\n",
              "  <tbody>\n",
              "    <tr>\n",
              "      <th>0</th>\n",
              "      <td>0</td>\n",
              "      <td>What is considered a business expense on a bus...</td>\n",
              "    </tr>\n",
              "    <tr>\n",
              "      <th>1</th>\n",
              "      <td>1</td>\n",
              "      <td>Claiming business expenses for a business with...</td>\n",
              "    </tr>\n",
              "    <tr>\n",
              "      <th>2</th>\n",
              "      <td>2</td>\n",
              "      <td>Transferring money from One business checking ...</td>\n",
              "    </tr>\n",
              "    <tr>\n",
              "      <th>3</th>\n",
              "      <td>3</td>\n",
              "      <td>Having a separate bank account for business/in...</td>\n",
              "    </tr>\n",
              "    <tr>\n",
              "      <th>4</th>\n",
              "      <td>4</td>\n",
              "      <td>Business Expense - Car Insurance Deductible Fo...</td>\n",
              "    </tr>\n",
              "  </tbody>\n",
              "</table>\n",
              "</div>"
            ],
            "text/plain": [
              "   qid                                           question\n",
              "0    0  What is considered a business expense on a bus...\n",
              "1    1  Claiming business expenses for a business with...\n",
              "2    2  Transferring money from One business checking ...\n",
              "3    3  Having a separate bank account for business/in...\n",
              "4    4  Business Expense - Car Insurance Deductible Fo..."
            ]
          },
          "metadata": {
            "tags": []
          },
          "execution_count": 42
        }
      ]
    },
    {
      "cell_type": "code",
      "metadata": {
        "id": "aHH4njPsNNJv",
        "colab_type": "code",
        "colab": {
          "base_uri": "https://localhost:8080/",
          "height": 216
        },
        "outputId": "e1061478-5046-4ed4-8e8b-ce6f386eb1b2"
      },
      "source": [
        "print(\"Question id and Answer id pair\")\n",
        "qid_docid.head(5)"
      ],
      "execution_count": 43,
      "outputs": [
        {
          "output_type": "stream",
          "text": [
            "Question id and Answer id pair\n"
          ],
          "name": "stdout"
        },
        {
          "output_type": "execute_result",
          "data": {
            "text/html": [
              "<div>\n",
              "<style scoped>\n",
              "    .dataframe tbody tr th:only-of-type {\n",
              "        vertical-align: middle;\n",
              "    }\n",
              "\n",
              "    .dataframe tbody tr th {\n",
              "        vertical-align: top;\n",
              "    }\n",
              "\n",
              "    .dataframe thead th {\n",
              "        text-align: right;\n",
              "    }\n",
              "</style>\n",
              "<table border=\"1\" class=\"dataframe\">\n",
              "  <thead>\n",
              "    <tr style=\"text-align: right;\">\n",
              "      <th></th>\n",
              "      <th>qid</th>\n",
              "      <th>docid</th>\n",
              "    </tr>\n",
              "  </thead>\n",
              "  <tbody>\n",
              "    <tr>\n",
              "      <th>0</th>\n",
              "      <td>0</td>\n",
              "      <td>18850</td>\n",
              "    </tr>\n",
              "    <tr>\n",
              "      <th>1</th>\n",
              "      <td>1</td>\n",
              "      <td>14255</td>\n",
              "    </tr>\n",
              "    <tr>\n",
              "      <th>2</th>\n",
              "      <td>2</td>\n",
              "      <td>308938</td>\n",
              "    </tr>\n",
              "    <tr>\n",
              "      <th>3</th>\n",
              "      <td>3</td>\n",
              "      <td>296717</td>\n",
              "    </tr>\n",
              "    <tr>\n",
              "      <th>4</th>\n",
              "      <td>3</td>\n",
              "      <td>100764</td>\n",
              "    </tr>\n",
              "  </tbody>\n",
              "</table>\n",
              "</div>"
            ],
            "text/plain": [
              "   qid   docid\n",
              "0    0   18850\n",
              "1    1   14255\n",
              "2    2  308938\n",
              "3    3  296717\n",
              "4    3  100764"
            ]
          },
          "metadata": {
            "tags": []
          },
          "execution_count": 43
        }
      ]
    },
    {
      "cell_type": "code",
      "metadata": {
        "id": "geR_D-06aAwe",
        "colab_type": "code",
        "outputId": "d4a5dc54-e67b-40b1-8190-c5e9303a7063",
        "colab": {
          "base_uri": "https://localhost:8080/",
          "height": 72
        }
      },
      "source": [
        "print(\"Number of answers: {}\".format(len(collection)))\n",
        "print(\"Number of questions: {}\".format(len(queries)))\n",
        "print(\"Number of QA pairs: {}\".format(len(qid_docid)))"
      ],
      "execution_count": 44,
      "outputs": [
        {
          "output_type": "stream",
          "text": [
            "Number of answers: 57638\n",
            "Number of questions: 6648\n",
            "Number of QA pairs: 17110\n"
          ],
          "name": "stdout"
        }
      ]
    },
    {
      "cell_type": "markdown",
      "metadata": {
        "colab_type": "text",
        "id": "WtTT2H9YTPwV"
      },
      "source": [
        "# **Clean data**"
      ]
    },
    {
      "cell_type": "code",
      "metadata": {
        "id": "lAVwwt-ZTL5y",
        "colab_type": "code",
        "outputId": "e2264fb0-402e-4c32-9366-5edb51905f05",
        "colab": {
          "base_uri": "https://localhost:8080/",
          "height": 54
        }
      },
      "source": [
        "# Cleaning data\n",
        "empty_docs, empty_id = get_empty_docs(collection)\n",
        "# Remove empty answers from collection of answers\n",
        "collection_cleaned = collection.drop(empty_id)\n",
        "# Remove empty answers from qa pairs\n",
        "qid_docid = qid_docid[~qid_docid['docid'].isin(empty_docs)]\n",
        "\n",
        "print(\"Number of answers after cleaning: {}\".format(len(collection_cleaned)))\n",
        "print(\"Number of QA pairs after cleaning: {}\".format(len(qid_docid)))"
      ],
      "execution_count": 45,
      "outputs": [
        {
          "output_type": "stream",
          "text": [
            "Number of answers after cleaning: 57600\n",
            "Number of QA pairs after cleaning: 17072\n"
          ],
          "name": "stdout"
        }
      ]
    },
    {
      "cell_type": "markdown",
      "metadata": {
        "colab_type": "text",
        "id": "cLPWIz0wUnRj"
      },
      "source": [
        "# **Prepare data for Anserini**"
      ]
    },
    {
      "cell_type": "code",
      "metadata": {
        "id": "6cRzxOucdnIO",
        "colab_type": "code",
        "colab": {}
      },
      "source": [
        "# Write collection df to file\n",
        "save_tsv(path + \"data/retrieval/collection_cleaned.tsv\", collection_cleaned)\n",
        "\n",
        "# Convert collection df to JSON file for Anserini's document indexer\n",
        "collection_to_json(path + \"data/retrieval/collection_json/docs.json\", path + \"data/retrieval/collection_cleaned.tsv\")"
      ],
      "execution_count": 0,
      "outputs": []
    },
    {
      "cell_type": "markdown",
      "metadata": {
        "id": "2iH5R4JIR0DN",
        "colab_type": "text"
      },
      "source": [
        "# **Split data into train, test, and validation sets**"
      ]
    },
    {
      "cell_type": "code",
      "metadata": {
        "id": "aNJN552rb57H",
        "colab_type": "code",
        "colab": {}
      },
      "source": [
        "# Split QA pairs\n",
        "train_label, test_label, valid_label = split_label(qid_docid)\n",
        "\n",
        "# Save label\n",
        "save_pickle(path + \"data/retrieval/train/qid_rel_train.pickle\", train_label)\n",
        "save_pickle(path + \"data/retrieval/test/qid_rel_test.pickle\", test_label)\n",
        "save_pickle(path + \"data/retrieval/valid/qid_rel_valid.pickle\", valid_label)"
      ],
      "execution_count": 0,
      "outputs": []
    },
    {
      "cell_type": "code",
      "metadata": {
        "id": "bh1eG00GNeav",
        "colab_type": "code",
        "colab": {
          "base_uri": "https://localhost:8080/",
          "height": 145
        },
        "outputId": "64ee2942-ab62-4f54-eee4-6bbac9e2d131"
      },
      "source": [
        "print(\"Train set label dictionary\\n\")\n",
        "take(5, train_label.items())"
      ],
      "execution_count": 33,
      "outputs": [
        {
          "output_type": "stream",
          "text": [
            "Train set label dictionary\n",
            "\n"
          ],
          "name": "stdout"
        },
        {
          "output_type": "execute_result",
          "data": {
            "text/plain": [
              "[(0, [18850]),\n",
              " (1, [14255]),\n",
              " (2, [308938]),\n",
              " (3, [296717, 100764, 314352, 146317]),\n",
              " (4, [196463])]"
            ]
          },
          "metadata": {
            "tags": []
          },
          "execution_count": 33
        }
      ]
    },
    {
      "cell_type": "code",
      "metadata": {
        "id": "ewhrnwlUSN2l",
        "colab_type": "code",
        "colab": {}
      },
      "source": [
        "# Split Questions\n",
        "train_questions, test_questions, valid_questions = split_question(train_label, test_label, valid_label, queries)\n",
        "\n",
        "# Save the questions dataset\n",
        "save_tsv(path + \"data/retrieval/train/train_questions.tsv\", train_questions)\n",
        "save_tsv(path + \"data/retrieval/test/test_questions.tsv\", test_questions)\n",
        "save_tsv(path + \"data/retrieval/valid/valid_questions.tsv\", valid_questions)"
      ],
      "execution_count": 0,
      "outputs": []
    },
    {
      "cell_type": "code",
      "metadata": {
        "id": "knEO46x-Nlj_",
        "colab_type": "code",
        "colab": {
          "base_uri": "https://localhost:8080/",
          "height": 216
        },
        "outputId": "f218a663-1b48-4a6c-a518-5792af4b918a"
      },
      "source": [
        "print(\"Train set questions\")\n",
        "train_questions.head(5)"
      ],
      "execution_count": 34,
      "outputs": [
        {
          "output_type": "stream",
          "text": [
            "Train set questions\n"
          ],
          "name": "stdout"
        },
        {
          "output_type": "execute_result",
          "data": {
            "text/html": [
              "<div>\n",
              "<style scoped>\n",
              "    .dataframe tbody tr th:only-of-type {\n",
              "        vertical-align: middle;\n",
              "    }\n",
              "\n",
              "    .dataframe tbody tr th {\n",
              "        vertical-align: top;\n",
              "    }\n",
              "\n",
              "    .dataframe thead th {\n",
              "        text-align: right;\n",
              "    }\n",
              "</style>\n",
              "<table border=\"1\" class=\"dataframe\">\n",
              "  <thead>\n",
              "    <tr style=\"text-align: right;\">\n",
              "      <th></th>\n",
              "      <th>qid</th>\n",
              "      <th>question</th>\n",
              "    </tr>\n",
              "  </thead>\n",
              "  <tbody>\n",
              "    <tr>\n",
              "      <th>0</th>\n",
              "      <td>0</td>\n",
              "      <td>What is considered a business expense on a bus...</td>\n",
              "    </tr>\n",
              "    <tr>\n",
              "      <th>1</th>\n",
              "      <td>1</td>\n",
              "      <td>Claiming business expenses for a business with...</td>\n",
              "    </tr>\n",
              "    <tr>\n",
              "      <th>2</th>\n",
              "      <td>2</td>\n",
              "      <td>Transferring money from One business checking ...</td>\n",
              "    </tr>\n",
              "    <tr>\n",
              "      <th>3</th>\n",
              "      <td>3</td>\n",
              "      <td>Having a separate bank account for business/in...</td>\n",
              "    </tr>\n",
              "    <tr>\n",
              "      <th>4</th>\n",
              "      <td>4</td>\n",
              "      <td>Business Expense - Car Insurance Deductible Fo...</td>\n",
              "    </tr>\n",
              "  </tbody>\n",
              "</table>\n",
              "</div>"
            ],
            "text/plain": [
              "   qid                                           question\n",
              "0    0  What is considered a business expense on a bus...\n",
              "1    1  Claiming business expenses for a business with...\n",
              "2    2  Transferring money from One business checking ...\n",
              "3    3  Having a separate bank account for business/in...\n",
              "4    4  Business Expense - Car Insurance Deductible Fo..."
            ]
          },
          "metadata": {
            "tags": []
          },
          "execution_count": 34
        }
      ]
    },
    {
      "cell_type": "code",
      "metadata": {
        "id": "FyByyuRLSdR7",
        "colab_type": "code",
        "outputId": "5bb3c274-d207-4643-b1e1-e2bbce7059dd",
        "colab": {
          "base_uri": "https://localhost:8080/",
          "height": 72
        }
      },
      "source": [
        "# Number of questions in each set\n",
        "print(\"Number of questions in the training set: {}\".format(len(train_questions)))\n",
        "print(\"Number of questions in the testing set: {}\".format(len(test_questions)))\n",
        "print(\"Number of questions in the validation set: {}\".format(len(valid_questions)))"
      ],
      "execution_count": 17,
      "outputs": [
        {
          "output_type": "stream",
          "text": [
            "Number of questions in the training set: 5681\n",
            "Number of questions in the testing set: 333\n",
            "Number of questions in the validation set: 632\n"
          ],
          "name": "stdout"
        }
      ]
    },
    {
      "cell_type": "markdown",
      "metadata": {
        "colab_type": "text",
        "id": "je6ozF8twmO-"
      },
      "source": [
        "# **Process Data**"
      ]
    },
    {
      "cell_type": "code",
      "metadata": {
        "id": "PUPVix9Swvim",
        "colab_type": "code",
        "colab": {}
      },
      "source": [
        "processed_answers = process_answers(collection_cleaned)\n",
        "processed_questions = process_questions(queries)"
      ],
      "execution_count": 0,
      "outputs": []
    },
    {
      "cell_type": "code",
      "metadata": {
        "id": "Jc0jF3AYyS50",
        "colab_type": "code",
        "colab": {
          "base_uri": "https://localhost:8080/",
          "height": 216
        },
        "outputId": "ab7555af-e1d8-4bd3-80ba-820ec064ede0"
      },
      "source": [
        "print(\"Processed and tokenized questions\")\n",
        "processed_questions.head(5)"
      ],
      "execution_count": 59,
      "outputs": [
        {
          "output_type": "stream",
          "text": [
            "Processed and tokenized questions\n"
          ],
          "name": "stdout"
        },
        {
          "output_type": "execute_result",
          "data": {
            "text/html": [
              "<div>\n",
              "<style scoped>\n",
              "    .dataframe tbody tr th:only-of-type {\n",
              "        vertical-align: middle;\n",
              "    }\n",
              "\n",
              "    .dataframe tbody tr th {\n",
              "        vertical-align: top;\n",
              "    }\n",
              "\n",
              "    .dataframe thead th {\n",
              "        text-align: right;\n",
              "    }\n",
              "</style>\n",
              "<table border=\"1\" class=\"dataframe\">\n",
              "  <thead>\n",
              "    <tr style=\"text-align: right;\">\n",
              "      <th></th>\n",
              "      <th>qid</th>\n",
              "      <th>question</th>\n",
              "      <th>q_processed</th>\n",
              "      <th>tokenized_q</th>\n",
              "      <th>q_len</th>\n",
              "    </tr>\n",
              "  </thead>\n",
              "  <tbody>\n",
              "    <tr>\n",
              "      <th>0</th>\n",
              "      <td>0</td>\n",
              "      <td>What is considered a business expense on a bus...</td>\n",
              "      <td>what is considered a business expense on a bus...</td>\n",
              "      <td>[what, is, considered, a, business, expense, o...</td>\n",
              "      <td>10</td>\n",
              "    </tr>\n",
              "    <tr>\n",
              "      <th>1</th>\n",
              "      <td>1</td>\n",
              "      <td>Claiming business expenses for a business with...</td>\n",
              "      <td>claiming business expenses for a business with...</td>\n",
              "      <td>[claiming, business, expenses, for, a, busines...</td>\n",
              "      <td>9</td>\n",
              "    </tr>\n",
              "    <tr>\n",
              "      <th>2</th>\n",
              "      <td>2</td>\n",
              "      <td>Transferring money from One business checking ...</td>\n",
              "      <td>transferring money from one business checking ...</td>\n",
              "      <td>[transferring, money, from, one, business, che...</td>\n",
              "      <td>10</td>\n",
              "    </tr>\n",
              "    <tr>\n",
              "      <th>3</th>\n",
              "      <td>3</td>\n",
              "      <td>Having a separate bank account for business/in...</td>\n",
              "      <td>having a separate bank account for business in...</td>\n",
              "      <td>[having, a, separate, bank, account, for, busi...</td>\n",
              "      <td>13</td>\n",
              "    </tr>\n",
              "    <tr>\n",
              "      <th>4</th>\n",
              "      <td>4</td>\n",
              "      <td>Business Expense - Car Insurance Deductible Fo...</td>\n",
              "      <td>business expense   car insurance deductible fo...</td>\n",
              "      <td>[business, expense, car, insurance, deductible...</td>\n",
              "      <td>13</td>\n",
              "    </tr>\n",
              "  </tbody>\n",
              "</table>\n",
              "</div>"
            ],
            "text/plain": [
              "   qid  ... q_len\n",
              "0    0  ...    10\n",
              "1    1  ...     9\n",
              "2    2  ...    10\n",
              "3    3  ...    13\n",
              "4    4  ...    13\n",
              "\n",
              "[5 rows x 5 columns]"
            ]
          },
          "metadata": {
            "tags": []
          },
          "execution_count": 59
        }
      ]
    },
    {
      "cell_type": "code",
      "metadata": {
        "id": "Utmcy73hxRdU",
        "colab_type": "code",
        "colab": {
          "base_uri": "https://localhost:8080/",
          "height": 54
        },
        "outputId": "97efa299-932e-4ecd-c167-40b41dbd829d"
      },
      "source": [
        "avg_ans_count = processed_answers['ans_len'].mean()\n",
        "avg_q_count = processed_questions['q_len'].mean()\n",
        "\n",
        "print(\"Average answer length: {}\".format(round(avg_ans_count)))\n",
        "print(\"Average question length: {}\".format(round(avg_q_count)))"
      ],
      "execution_count": 55,
      "outputs": [
        {
          "output_type": "stream",
          "text": [
            "Average answer length: 136\n",
            "Average question length: 11\n"
          ],
          "name": "stdout"
        }
      ]
    },
    {
      "cell_type": "markdown",
      "metadata": {
        "colab_type": "text",
        "id": "EFpEEP1LyLOz"
      },
      "source": [
        "# **Create Vocabulary**"
      ]
    },
    {
      "cell_type": "code",
      "metadata": {
        "id": "A-17JAEKyGmu",
        "colab_type": "code",
        "colab": {
          "base_uri": "https://localhost:8080/",
          "height": 74
        },
        "outputId": "0cad39f8-8514-4455-ce67-93551a52c9a3"
      },
      "source": [
        "word2index, word2count = create_vocab(processed_answers, processed_questions)\n",
        "\n",
        "print(\"Vocab size: {}\".format(len(word2index)))\n",
        "print(\"Top {} common words: {}\".format(35, Counter(word2count).most_common(35)))"
      ],
      "execution_count": 60,
      "outputs": [
        {
          "output_type": "stream",
          "text": [
            "Vocab size: 85034\n",
            "Top 35 common words: [('the', 371203), ('to', 233559), ('a', 201620), ('you', 166702), ('and', 163066), ('of', 157574), ('is', 129894), ('in', 120019), ('that', 111416), ('for', 89366), ('it', 83822), ('i', 74100), ('your', 68153), ('are', 67255), ('if', 60689), ('be', 59266), ('on', 58382), ('have', 55754), ('as', 50088), ('this', 49868), ('not', 49227), ('or', 46080), ('with', 45894), ('they', 44485), ('but', 41690), ('can', 38863), ('will', 36865), ('at', 35548), ('an', 31392), ('money', 31003), ('so', 29980), ('$', 29096), ('would', 28750), ('from', 28582), ('more', 27378)]\n"
          ],
          "name": "stdout"
        }
      ]
    },
    {
      "cell_type": "code",
      "metadata": {
        "id": "lYmm3pHMysZb",
        "colab_type": "code",
        "colab": {}
      },
      "source": [
        "qid_to_text, docid_to_text = id_to_text(collection, queries)\n",
        "qid_to_tokenized_text, docid_to_tokenized_text = id_to_tokenized_text(processed_answers, processed_questions)"
      ],
      "execution_count": 0,
      "outputs": []
    },
    {
      "cell_type": "code",
      "metadata": {
        "id": "yjfljL5eyuZ6",
        "colab_type": "code",
        "colab": {}
      },
      "source": [
        "# Save objects to pickle\n",
        "save_pickle(path+\"/data/word2index.pickle\", word2index)\n",
        "save_pickle(path+\"/data/word2count.pickle\", word2count)\n",
        "save_pickle(path+\"data/qid_to_text.pickle\", qid_to_text)\n",
        "save_pickle(path+\"data/docid_to_text.pickle\", docid_to_text)\n",
        "save_pickle(path+\"data/qid_to_tokenized_text.pickle\", qid_to_tokenized_text)\n",
        "save_pickle(path+\"data/docid_to_tokenized_text.pickle\", qid_to_tokenized_text)"
      ],
      "execution_count": 0,
      "outputs": []
    }
  ]
}