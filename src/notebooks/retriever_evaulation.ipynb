{
  "nbformat": 4,
  "nbformat_minor": 0,
  "metadata": {
    "colab": {
      "name": "retriever_evaulation.ipynb",
      "provenance": []
    },
    "kernelspec": {
      "name": "python3",
      "display_name": "Python 3"
    }
  },
  "cells": [
    {
      "cell_type": "code",
      "metadata": {
        "id": "gWZ8_djkxXMb",
        "colab_type": "code",
        "colab": {
          "base_uri": "https://localhost:8080/",
          "height": 35
        },
        "outputId": "a0e555bf-d93d-4add-8138-84c2df717ca5"
      },
      "source": [
        "from google.colab import drive\n",
        "drive.mount('/content/drive')"
      ],
      "execution_count": 2,
      "outputs": [
        {
          "output_type": "stream",
          "text": [
            "Drive already mounted at /content/drive; to attempt to forcibly remount, call drive.mount(\"/content/drive\", force_remount=True).\n"
          ],
          "name": "stdout"
        }
      ]
    },
    {
      "cell_type": "code",
      "metadata": {
        "id": "MqFGsffhxf_p",
        "colab_type": "code",
        "colab": {}
      },
      "source": [
        "from utils import *\n",
        "from evaluate import *\n",
        "\n",
        "path = \"drive/My Drive/Thesis/\""
      ],
      "execution_count": 0,
      "outputs": []
    },
    {
      "cell_type": "code",
      "metadata": {
        "id": "d-nvkm8HxolT",
        "colab_type": "code",
        "colab": {}
      },
      "source": [
        "qid_rel_test = load_pickle(path + \"data/test/qid_rel_test.pickle\")\n",
        "test_set_full = load_pickle(path + \"data/test/test_set_full_50.pickle\")\n",
        "qid_pred_rank = create_qid_pred_rank(test_set_full)"
      ],
      "execution_count": 0,
      "outputs": []
    },
    {
      "cell_type": "markdown",
      "metadata": {
        "id": "1wU6lmSx2CH7",
        "colab_type": "text"
      },
      "source": [
        "# **Evaluate results from the retriever using BM25**"
      ]
    },
    {
      "cell_type": "code",
      "metadata": {
        "id": "QVDv7PiSzx5D",
        "colab_type": "code",
        "colab": {
          "base_uri": "https://localhost:8080/",
          "height": 145
        },
        "outputId": "58b65a39-f44c-42a2-c77e-395cb4a57778"
      },
      "source": [
        "k = 10\n",
        "\n",
        "num_q = len(qid_rel_test)\n",
        "\n",
        "MRR, average_ndcg, precision, rank_pos = evaluate(qid_pred_rank, qid_rel_test, k)\n",
        "\n",
        "print(\"\\n\\nAverage nDCG@{} for {} queries: {}\\n\".format(k, num_q, round(average_ndcg, 3)))\n",
        "\n",
        "print(\"MRR@{} for {} queries: {}\\n\".format(k, num_q, round(MRR,3)))\n",
        "\n",
        "print(\"Average Precision@{}: {}\".format(1, round(precision, 3)))"
      ],
      "execution_count": 6,
      "outputs": [
        {
          "output_type": "stream",
          "text": [
            "\n",
            "\n",
            "Average nDCG@10 for 333 queries: 0.361\n",
            "\n",
            "MRR@10 for 333 queries: 0.305\n",
            "\n",
            "Average Precision@1: 0.228\n"
          ],
          "name": "stdout"
        }
      ]
    },
    {
      "cell_type": "code",
      "metadata": {
        "id": "Yh-u5CRk2Vsz",
        "colab_type": "code",
        "colab": {
          "base_uri": "https://localhost:8080/",
          "height": 145
        },
        "outputId": "5f9c8413-abb7-4eb7-8a97-4c83eff4ed75"
      },
      "source": [
        "k = 500\n",
        "\n",
        "num_q = len(qid_rel_test)\n",
        "\n",
        "MRR, average_ndcg, precision, rank_pos = evaluate(qid_pred_rank, qid_rel_test, k)\n",
        "\n",
        "print(\"\\n\\nAverage nDCG@{} for {} queries: {}\\n\".format(k, num_q, round(average_ndcg, 3)))\n",
        "\n",
        "print(\"MRR@{} for {} queries: {}\\n\".format(k, num_q, round(MRR,3)))\n",
        "\n",
        "print(\"Average Precision@{}: {}\".format(1, round(precision, 3)))"
      ],
      "execution_count": 9,
      "outputs": [
        {
          "output_type": "stream",
          "text": [
            "\n",
            "\n",
            "Average nDCG@500 for 333 queries: 0.37\n",
            "\n",
            "MRR@500 for 333 queries: 0.315\n",
            "\n",
            "Average Precision@1: 0.228\n"
          ],
          "name": "stdout"
        }
      ]
    },
    {
      "cell_type": "code",
      "metadata": {
        "id": "kjEvfcWl77it",
        "colab_type": "code",
        "colab": {
          "base_uri": "https://localhost:8080/",
          "height": 126
        },
        "outputId": "7bcc419a-f9a1-4d4b-da21-4d9afe2f9f51"
      },
      "source": [
        "print(\"The lowest rank of the first relevant answer: {}\\n\".format(max(rank_pos)))\n",
        "print(\"The highest rank of the first relevant answer: {}\\n \".format(min(rank_pos)))\n",
        "print(\"The average rank of the first relevant answer: {}\\n\".format(round(mean(rank_pos))))"
      ],
      "execution_count": 12,
      "outputs": [
        {
          "output_type": "stream",
          "text": [
            "The lowest rank of the first relevant answer: 484\n",
            "\n",
            "The highest rank of the first relevant answer: 1\n",
            " \n",
            "The average rank of the first relevant answer: 54\n",
            "\n"
          ],
          "name": "stdout"
        }
      ]
    },
    {
      "cell_type": "markdown",
      "metadata": {
        "colab_type": "text",
        "id": "XJOJ5VE15ku9"
      },
      "source": [
        "# **Retriever Analysis**"
      ]
    },
    {
      "cell_type": "code",
      "metadata": {
        "id": "eiPhE1pS2b8U",
        "colab_type": "code",
        "colab": {
          "base_uri": "https://localhost:8080/",
          "height": 35
        },
        "outputId": "7a1acfda-2178-4c54-cb73-479f6665339b"
      },
      "source": [
        "# Count the number of questions without a relevant answer\n",
        "count = 0\n",
        "\n",
        "for row in test_set_full:\n",
        "    if not any(x in row[2]  for x in row[1]):\n",
        "        count += 1\n",
        "\n",
        "percent = round(count/len(test_set_full)*100)\n",
        "\n",
        "print(\"The number of questions without a relevant answer: {}/{} - {}% of questions\".format(count, num_q, percent))"
      ],
      "execution_count": 44,
      "outputs": [
        {
          "output_type": "stream",
          "text": [
            "The number of questions without a relevant answer: 63/333 - 19% of questions\n"
          ],
          "name": "stdout"
        }
      ]
    },
    {
      "cell_type": "code",
      "metadata": {
        "id": "VT8T-BtB5wYf",
        "colab_type": "code",
        "colab": {
          "base_uri": "https://localhost:8080/",
          "height": 35
        },
        "outputId": "7655b249-29e5-43e7-8692-3463cb663ccd"
      },
      "source": [
        "# Count the number of questions without all the relevant answers\n",
        "count = 0\n",
        "\n",
        "for row in test_set_full:\n",
        "    if not all(x in row[2]  for x in row[1]):\n",
        "        count += 1\n",
        "\n",
        "percent = round(count/len(test_set_full)*100)\n",
        "\n",
        "print(\"The number of questions without all the relevant answers: {}/{} - {}% of questions\".format(count, num_q, percent))"
      ],
      "execution_count": 45,
      "outputs": [
        {
          "output_type": "stream",
          "text": [
            "The number of questions without all the relevant answers: 165/333 - 50% of questions\n"
          ],
          "name": "stdout"
        }
      ]
    }
  ]
}